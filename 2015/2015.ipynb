{
 "cells": [
  {
   "cell_type": "markdown",
   "metadata": {},
   "source": [
    "# Advent of Code 2015"
   ]
  },
  {
   "cell_type": "markdown",
   "metadata": {},
   "source": [
    "## Day 1: Not Quite Lisp\n",
    "\n",
    "### Part 1\n",
    "\n",
    "Santa was hoping for a white Christmas, but his weather machine's \"snow\" function is powered by stars, and he's fresh out! To save Christmas, he needs you to collect **fifty stars** by December 25th.\n",
    "\n",
    "Collect stars by helping Santa solve puzzles. Two puzzles will be made available on each day in the Advent calendar; the second puzzle is unlocked when you complete the first. Each puzzle grants **one star**. Good luck!\n",
    "\n",
    "Here's an easy puzzle to warm you up.\n",
    "\n",
    "Santa is trying to deliver presents in a large apartment building, but he can't find the right floor - the directions he got are a little confusing. He starts on the ground floor (floor `0`) and then follows the instructions one character at a time.\n",
    "\n",
    "An opening parenthesis, `(`, means he should go up one floor, and a closing parenthesis, `)`, means he should go down one floor.\n",
    "\n",
    "The apartment building is very tall, and the basement is very deep; he will never find the top or bottom floors.\n",
    "\n",
    "For example:\n",
    "- `(())` and `()()` both result in floor `0`.\n",
    "- `(((` and `(()(()(` both result in floor `3`.\n",
    "- `))(((((` also results in floor `3`.\n",
    "- `())` and `))(` both result in floor `-1` (the first basement level).\n",
    "- `)))` and `)())())` both result in floor `-3`.\n",
    "\n",
    "To what floor do the instructions take Santa?"
   ]
  },
  {
   "cell_type": "code",
   "execution_count": 2,
   "metadata": {},
   "outputs": [
    {
     "name": "stdout",
     "output_type": "stream",
     "text": [
      "138\n"
     ]
    }
   ],
   "source": [
    "with open(\"input/1.txt\", \"r\") as file:\n",
    "    inpt = file.read()\n",
    "\n",
    "floor = 0\n",
    "for b in inpt:\n",
    "    if b == \"(\": floor +=1\n",
    "    else: floor -= 1\n",
    "\n",
    "print(floor)"
   ]
  },
  {
   "cell_type": "markdown",
   "metadata": {},
   "source": [
    "### Part 2\n",
    "\n",
    "Now, given the same instructions, find the position of the first character that causes him to enter the basement (floor `-1`). The first character in the instructions has position `1`, the second character has position `2`, and so on.\n",
    "\n",
    "For example:\n",
    "- `)` causes him to enter the basement at character position `1`.\n",
    "- `()())` causes him to enter the basement at character position `5`.\n",
    "\n",
    "What is the position of the character that causes Santa to first enter the basement?"
   ]
  },
  {
   "cell_type": "code",
   "execution_count": 3,
   "metadata": {},
   "outputs": [
    {
     "name": "stdout",
     "output_type": "stream",
     "text": [
      "1771\n"
     ]
    }
   ],
   "source": [
    "floor = 0\n",
    "for i,b in enumerate(inpt):\n",
    "    if b == \"(\": floor +=1\n",
    "    else: floor -= 1\n",
    "    if floor == -1:\n",
    "        print(i + 1)\n",
    "        break"
   ]
  },
  {
   "cell_type": "markdown",
   "metadata": {},
   "source": [
    "## Day 2: I Was Told There Would Be No Math\n",
    "\n",
    "### Part 1\n",
    "\n",
    "The elves are running low on wrapping paper, and so they need to submit an order for more. They have a list of the dimensions (length `l`, width `w`, and height `h`) of each present, and only want to order exactly as much as they need.\n",
    "\n",
    "Fortunately, every present is a box (a [perfect right rectangular prism](https://en.wikipedia.org/wiki/Cuboid#Rectangular_cuboid)), which makes calculating the required wrapping paper for each gift a little easier: find the surface area of the box, which is `2*l*w + 2*w*h + 2*h*l`. The elves also need a little extra paper for each present: the area of the smallest side.\n",
    "\n",
    "For example:\n",
    "- A present with dimensions `2x3x4` requires `2*6 + 2*12 + 2*8 = 52` square feet of wrapping paper plus `6` square feet of slack, for a total of `58` square feet.\n",
    "- A present with dimensions `1x1x10` requires `2*1 + 2*10 + 2*10 = 42` square feet of wrapping paper plus `1` square foot of slack, for a total of `43` square feet.\n",
    "\n",
    "All numbers in the elves' list are in feet. How many total square feet of wrapping paper should they order?"
   ]
  },
  {
   "cell_type": "code",
   "execution_count": 4,
   "metadata": {},
   "outputs": [
    {
     "name": "stdout",
     "output_type": "stream",
     "text": [
      "1606483\n"
     ]
    }
   ],
   "source": [
    "def paper_needed(l,w,h):\n",
    "    return 2*l*w + 2*l*h + 2*w*h + min([l*w,l*h,w*h])\n",
    "\n",
    "def ribbon_needed(l,w,h):\n",
    "    d1, d2, d3 = sorted([l,w,h])\n",
    "    return 2*(d1 + d2) + d1*d2*d3\n",
    "\n",
    "with open(\"input/2.txt\") as file:\n",
    "    inpt = file.readlines()\n",
    "\n",
    "total_paper = 0\n",
    "for line in inpt:\n",
    "    l,w,h = list(map(int, line.split(\"x\")))\n",
    "    total_paper += paper_needed(l,w,h)\n",
    "\n",
    "print(total_paper)"
   ]
  },
  {
   "cell_type": "markdown",
   "metadata": {},
   "source": [
    "### Part 2\n",
    "\n",
    "The elves are also running low on ribbon. Ribbon is all the same width, so they only have to worry about the length they need to order, which they would again like to be exact.\n",
    "\n",
    "The ribbon required to wrap a present is the shortest distance around its sides, or the smallest perimeter of any one face. Each present also requires a bow made out of ribbon as well; the feet of ribbon required for the perfect bow is equal to the cubic feet of volume of the present. Don't ask how they tie the bow, though; they'll never tell.\n",
    "\n",
    "For example:\n",
    "\n",
    "- A present with dimensions `2x3x4` requires `2+2+3+3 = 10` feet of ribbon to wrap the present plus `2*3*4 = 24` feet of ribbon for the bow, for a total of `34` feet.\n",
    "- A present with dimensions `1x1x10` requires `1+1+1+1 = 4` feet of ribbon to wrap the present plus `1*1*10 = 10` feet of ribbon for the bow, for a total of `14` feet.\n",
    "\n",
    "How many total feet of ribbon should they order?"
   ]
  },
  {
   "cell_type": "code",
   "execution_count": 5,
   "metadata": {},
   "outputs": [
    {
     "name": "stdout",
     "output_type": "stream",
     "text": [
      "3842356\n"
     ]
    }
   ],
   "source": [
    "total_ribbon = 0\n",
    "for line in inpt:\n",
    "    l,w,h = list(map(int, line.split(\"x\")))\n",
    "    total_ribbon += ribbon_needed(l,w,h)\n",
    "\n",
    "print(total_ribbon)"
   ]
  },
  {
   "cell_type": "markdown",
   "metadata": {},
   "source": [
    "## Day 3: Perfectly Spherical Houses in a Vacuum\n",
    "\n",
    "### Part 1\n",
    "\n",
    "Santa is delivering presents to an infinite two-dimensional grid of houses.\n",
    "\n",
    "He begins by delivering a present to the house at his starting location, and then an elf at the North Pole calls him via radio and tells him where to move next. Moves are always exactly one house to the north (`^`), south (`v`), east (`>`), or west (`<`). After each move, he delivers another present to the house at his new location.\n",
    "\n",
    "However, the elf back at the north pole has had a little too much eggnog, and so his directions are a little off, and Santa ends up visiting some houses more than once. How many houses receive **at least one present**?\n",
    "\n",
    "For example:\n",
    "\n",
    "- `>` delivers presents to `2` houses: one at the starting location, and one to the east.\n",
    "- `^>v<` delivers presents to `4` houses in a square, including twice to the house at his starting/ending location.\n",
    "- `^v^v^v^v^v` delivers a bunch of presents to some very lucky children at only `2` houses."
   ]
  },
  {
   "cell_type": "code",
   "execution_count": 6,
   "metadata": {},
   "outputs": [
    {
     "name": "stdout",
     "output_type": "stream",
     "text": [
      "2081\n"
     ]
    }
   ],
   "source": [
    "with open(\"input/3.txt\", \"r\") as file:\n",
    "    inpt = file.read()\n",
    "\n",
    "x = 0\n",
    "y = 0\n",
    "visited_houses = {(0,0)}\n",
    "for d in inpt:\n",
    "    if d  == \"^\":\n",
    "        y += 1\n",
    "    elif d == \"v\":\n",
    "        y -= 1\n",
    "    elif d == \">\":\n",
    "        x += 1\n",
    "    elif d == \"<\":\n",
    "        x -= 1\n",
    "    visited_houses.add((x,y))\n",
    "\n",
    "print(len(visited_houses))"
   ]
  },
  {
   "cell_type": "markdown",
   "metadata": {},
   "source": [
    "### Part 2\n",
    "\n",
    "The next year, to speed up the process, Santa creates a robot version of himself, Robo-Santa, to deliver presents with him.\n",
    "\n",
    "Santa and **Robo-Santa** start at the same location (delivering two presents to the same starting house), then take turns moving based on instructions from the elf, who is eggnoggedly reading from the same script as the previous year.\n",
    "\n",
    "This year, how many houses receive at least one present?\n",
    "\n",
    "For example:\n",
    "\n",
    "- `^v` delivers presents to 3 houses, because Santa goes north, and then Robo-Santa goes south.\n",
    "- `^>v<` now delivers presents to 3 houses, and Santa and Robo-Santa end up back where they started.\n",
    "- `^v^v^v^v^v` now delivers presents to 11 houses, with Santa going one direction and Robo-Santa going the other."
   ]
  },
  {
   "cell_type": "code",
   "execution_count": 7,
   "metadata": {},
   "outputs": [
    {
     "name": "stdout",
     "output_type": "stream",
     "text": [
      "2341\n"
     ]
    }
   ],
   "source": [
    "sx = 0\n",
    "sy = 0\n",
    "rx = 0\n",
    "ry = 0\n",
    "visited_houses = {(0,0)}\n",
    "for i,d in enumerate(inpt):\n",
    "    if i % 2 == 0:\n",
    "        if d  == \"^\":\n",
    "            sy += 1\n",
    "        elif d == \"v\":\n",
    "            sy -= 1\n",
    "        elif d == \">\":\n",
    "            sx += 1\n",
    "        elif d == \"<\":\n",
    "            sx -= 1\n",
    "        visited_houses.add((sx,sy))\n",
    "    else:\n",
    "        if d  == \"^\":\n",
    "            ry += 1\n",
    "        elif d == \"v\":\n",
    "            ry -= 1\n",
    "        elif d == \">\":\n",
    "            rx += 1\n",
    "        elif d == \"<\":\n",
    "            rx -= 1\n",
    "    visited_houses.add((rx,ry))\n",
    "\n",
    "print(len(visited_houses))"
   ]
  },
  {
   "cell_type": "markdown",
   "metadata": {},
   "source": [
    "## Day 4: The Ideal Stocking Stuffer\n",
    "\n",
    "### Part 1\n",
    "\n",
    "Santa needs help [mining](https://en.wikipedia.org/wiki/Bitcoin#Mining) some AdventCoins (very similar to [bitcoins](https://en.wikipedia.org/wiki/Bitcoin]) to use as gifts for all the economically forward-thinking little girls and boys.\n",
    "\n",
    "To do this, he needs to find [MD5](https://en.wikipedia.org/wiki/MD5) hashes which, in [hexadecimal](https://en.wikipedia.org/wiki/Hexadecimal), start with at least five zeroes. The input to the MD5 hash is some secret key (your puzzle input, given below) followed by a number in decimal. To mine AdventCoins, you must find Santa the lowest positive number (no leading zeroes: `1`, `2`, `3`, ...) that produces such a hash.\n",
    "\n",
    "For example:\n",
    "- If your secret key is `abcdef`, the answer is `609043`, because the MD5 hash of `abcdef609043` starts with five zeroes (`000001dbbfa...`), and it is the lowest such number to do so.\n",
    "- If your secret key is `pqrstuv`, the lowest number it combines with to make an MD5 hash starting with five zeroes is `1048970`; that is, the MD5 hash of `pqrstuv1048970` looks like `000006136ef....`"
   ]
  },
  {
   "cell_type": "code",
   "execution_count": 1,
   "metadata": {},
   "outputs": [
    {
     "name": "stdout",
     "output_type": "stream",
     "text": [
      "346386\n"
     ]
    }
   ],
   "source": [
    "from hashlib import md5\n",
    "\n",
    "sk1 = \"iwrupvqb\"\n",
    "sk2 = 0\n",
    "while True:\n",
    "    inpt = sk1 + str(sk2)\n",
    "    h = md5(inpt.encode()).hexdigest()\n",
    "    # print(f\"Input: {inpt}, MD5: {h}\")\n",
    "    if h[:5] == \"00000\":\n",
    "        print(sk2)\n",
    "        break\n",
    "    else:\n",
    "        sk2 += 1"
   ]
  },
  {
   "cell_type": "markdown",
   "metadata": {},
   "source": [
    "### Part 2\n",
    "\n",
    "Now find one that starts with **six zeroes**."
   ]
  },
  {
   "cell_type": "code",
   "execution_count": 10,
   "metadata": {},
   "outputs": [
    {
     "name": "stdout",
     "output_type": "stream",
     "text": [
      "9958218\n"
     ]
    }
   ],
   "source": [
    "sk1 = \"iwrupvqb\"\n",
    "sk2 = 346387\n",
    "while True:\n",
    "    inpt = sk1 + str(sk2)\n",
    "    h = md5(inpt.encode()).hexdigest()\n",
    "    if h[:6] == \"000000\":\n",
    "        print(sk2)\n",
    "        break\n",
    "    else:\n",
    "        sk2 += 1"
   ]
  },
  {
   "cell_type": "markdown",
   "metadata": {},
   "source": [
    "## Day 5: Doesn't He Have Intern-Elves For This?\n",
    "\n",
    "### Part 1\n",
    "\n",
    "Santa needs help figuring out which strings in his text file are naughty or nice.\n",
    "\n",
    "A **nice string** is one with all of the following properties:\n",
    "\n",
    "It contains at least three vowels (`aeiou` only), like `aei`, `xazegov`, or `aeiouaeiouaeiou`.\n",
    "It contains at least one letter that appears twice in a row, like `xx`, `abcdde` (dd), or `aabbccdd` (`aa`, `bb`, `cc`, or `dd`).\n",
    "It does not contain the strings `ab`, `cd`, `pq`, or `xy`, even if they are part of one of the other requirements.\n",
    "\n",
    "For example:\n",
    "- `ugknbfddgicrmopn` is nice because it has at least three vowels (`u...i...o...`), a double letter (`...dd...`), and none of the disallowed substrings.\n",
    "- `aaa` is nice because it has at least three vowels and a double letter, even though the letters used by different rules overlap.\n",
    "- `jchzalrnumimnmhp` is naughty because it has no double letter.\n",
    "- `haegwjzuvuyypxyu` is naughty because it contains the string `xy`.\n",
    "- `dvszwmarrgswjxmb` is naughty because it contains only one vowel.\n",
    "\n",
    "How many strings are nice?"
   ]
  },
  {
   "cell_type": "code",
   "execution_count": 11,
   "metadata": {},
   "outputs": [
    {
     "name": "stdout",
     "output_type": "stream",
     "text": [
      "258\n"
     ]
    }
   ],
   "source": [
    "def is_nice_part_1(s):\n",
    "    has_three_vowels    = sum([c in \"aeiou\" for c in s]) >= 3\n",
    "    has_twice_in_a_row  = any([s[i] == s[i+1] for i in range(len(s)-1)])\n",
    "    doesnt_have_strings = all([c not in s for c in (\"ab\", \"cd\", \"pq\", \"xy\")]) \n",
    "    return has_three_vowels and has_twice_in_a_row and doesnt_have_strings\n",
    "\n",
    "def repeat_not_overlap(s):\n",
    "    couples = set()\n",
    "    last_couple = \"\"\n",
    "    for i in range(len(s)-1):\n",
    "        if s[i:i+2] in couples and s[i:i+2] != last_couple:\n",
    "            return True\n",
    "        else:\n",
    "            couples.add(s[i:i+2])\n",
    "            last_couple = s[i:i+2]\n",
    "    return False\n",
    "\n",
    "def repeat_in_between(s):\n",
    "    return any([s[i] == s[i+2] for i in range(len(s)-2)]) \n",
    "\n",
    "with open(\"input/5.txt\", \"r\") as file:\n",
    "    inpt = file.readlines()\n",
    "\n",
    "count1 = 0\n",
    "for line in inpt:\n",
    "    if is_nice_part_1(line):\n",
    "        count1 += 1\n",
    "\n",
    "print(count1)"
   ]
  },
  {
   "cell_type": "markdown",
   "metadata": {},
   "source": [
    "### Part 2\n",
    "\n",
    "Realizing the error of his ways, Santa has switched to a better model of determining whether a string is naughty or nice. None of the old rules apply, as they are all clearly ridiculous.\n",
    "\n",
    "Now, a nice string is one with all of the following properties:\n",
    "\n",
    "It contains a pair of any two letters that appears at least twice in the string without overlapping, like `xyxy` (`xy`) or `aabcdefgaa` (`aa`), but not like `aaa` (`aa`, but it overlaps).\n",
    "It contains at least one letter which repeats with exactly one letter between them, like `xyx`, `abcdefeghi` (`efe`), or even `aaa`.\n",
    "For example:\n",
    "\n",
    "- `qjhvhtzxzqqjkmpb` is nice because is has a pair that appears twice (`qj`) and a letter that repeats with exactly one letter between them (`zxz`).\n",
    "- `xxyxx` is nice because it has a pair that appears twice and a letter that repeats with one between, even though the letters used by each rule overlap.\n",
    "- `uurcxstgmygtbstg` is naughty because it has a pair (`tg`) but no repeat with a single letter between them.\n",
    "- `ieodomkazucvgmuy` is naughty because it has a repeating letter with one between (`odo`), but no pair that appears twice.\n",
    "\n",
    "How many strings are nice under these new rules?"
   ]
  },
  {
   "cell_type": "code",
   "execution_count": 12,
   "metadata": {},
   "outputs": [
    {
     "name": "stdout",
     "output_type": "stream",
     "text": [
      "53\n"
     ]
    }
   ],
   "source": [
    "def is_nice_part_2(s):\n",
    "    return repeat_not_overlap(s) and repeat_in_between(s)\n",
    "\n",
    "count2 = 0\n",
    "for line in inpt:\n",
    "    if is_nice_part_2(line):\n",
    "        count2 += 1\n",
    "    \n",
    "print(count2)"
   ]
  },
  {
   "cell_type": "markdown",
   "metadata": {},
   "source": [
    "## Day 6: Probably a Fire Hazard\n",
    "\n",
    "### Part 1\n",
    "\n",
    "Because your neighbors keep defeating you in the holiday house decorating contest year after year, you've decided to deploy one million lights in a `1000x1000` grid.\n",
    "\n",
    "Furthermore, because you've been especially nice this year, Santa has mailed you instructions on how to display the ideal lighting configuration.\n",
    "\n",
    "Lights in your grid are numbered from `0` to `999` in each direction; the lights at each corner are at `0,0`, `0,999`, `999,999`, and `999,0`. The instructions include whether to `turn on`, `turn off`, or `toggle` various inclusive ranges given as coordinate pairs. Each coordinate pair represents opposite corners of a rectangle, inclusive; a coordinate pair like `0,0 through 2,2` therefore refers to `9` lights in a `3x3` square. The lights all start turned off.\n",
    "\n",
    "To defeat your neighbors this year, all you have to do is set up your lights by doing the instructions Santa sent you in order.\n",
    "\n",
    "For example:\n",
    "\n",
    "- `turn on 0,0 through 999,999` would turn on (or leave on) every light.\n",
    "- `toggle 0,0 through 999,0` would toggle the first line of 1000 lights, turning off the ones that were on, and turning on the ones that were off.\n",
    "- `turn off 499,499 through 500,500` would turn off (or leave off) the middle four lights.\n",
    "\n",
    "After following the instructions, **how many lights are lit**?"
   ]
  },
  {
   "cell_type": "code",
   "execution_count": 13,
   "metadata": {},
   "outputs": [
    {
     "name": "stdout",
     "output_type": "stream",
     "text": [
      "377891\n"
     ]
    }
   ],
   "source": [
    "with open(\"input/6.txt\", \"r\") as file:\n",
    "    inpt = file.readlines()\n",
    "\n",
    "lights = [[0 for j in range(1000)] for i in range(1000)]\n",
    "\n",
    "for line in inpt:\n",
    "    line_split = line.replace(\",\", \" \").split()\n",
    "    ei, ej = int(line_split[-2]), int(line_split[-1])\n",
    "\n",
    "    if line_split[0] == \"turn\":\n",
    "        si, sj = int(line_split[2]), int(line_split[3])\n",
    "        if line_split[1] == \"on\":\n",
    "            s = 1\n",
    "        else:\n",
    "            s = 0\n",
    "        for i in range(si,ei+1):\n",
    "            for j in range(sj,ej+1):\n",
    "                lights[i][j] = s\n",
    "            \n",
    "    elif line_split[0] == \"toggle\":\n",
    "        si, sj = int(line_split[1]), int(line_split[2])\n",
    "        for i in range(si,ei+1):\n",
    "            for j in range(sj,ej+1):\n",
    "                lights[i][j] = (lights[i][j] + 1) % 2\n",
    "\n",
    "print(sum([sum(row) for row in lights]))"
   ]
  },
  {
   "cell_type": "markdown",
   "metadata": {},
   "source": [
    "### Part 2\n",
    "\n",
    "You just finish implementing your winning light pattern when you realize you mistranslated Santa's message from Ancient Nordic Elvish.\n",
    "\n",
    "The light grid you bought actually has individual brightness controls; each light can have a brightness of zero or more. The lights all start at zero.\n",
    "\n",
    "The phrase `turn on` actually means that you should increase the brightness of those lights by `1`.\n",
    "\n",
    "The phrase `turn off` actually means that you should decrease the brightness of those lights by `1`, to a minimum of zero.\n",
    "\n",
    "The phrase `toggle` actually means that you should increase the brightness of those lights by `2`.\n",
    "\n",
    "What is the total brightness of all lights combined after following Santa's instructions?\n",
    "\n",
    "For example:\n",
    "\n",
    "- `turn on 0,0 through 0,0` would increase the total brightness by `1`.\n",
    "- `toggle 0,0 through 999,999` would increase the total brightness by `2000000`."
   ]
  },
  {
   "cell_type": "code",
   "execution_count": 14,
   "metadata": {},
   "outputs": [
    {
     "name": "stdout",
     "output_type": "stream",
     "text": [
      "14345087\n"
     ]
    }
   ],
   "source": [
    "for line in inpt:\n",
    "    line_split = line.replace(\",\", \" \").split()\n",
    "    ei, ej = int(line_split[-2]), int(line_split[-1])\n",
    "\n",
    "    if line_split[0] == \"turn\":\n",
    "        si, sj = int(line_split[2]), int(line_split[3])\n",
    "        if line_split[1] == \"on\":\n",
    "            s = 1\n",
    "        else:\n",
    "            s = -1\n",
    "        for i in range(si,ei+1):\n",
    "            for j in range(sj,ej+1):\n",
    "                lights[i][j] = max(lights[i][j] + s, 0)\n",
    "            \n",
    "    elif line_split[0] == \"toggle\":\n",
    "        si, sj = int(line_split[1]), int(line_split[2])\n",
    "        for i in range(si,ei+1):\n",
    "            for j in range(sj,ej+1):\n",
    "                lights[i][j] += 2\n",
    "\n",
    "print(sum([sum(row) for row in lights]))"
   ]
  },
  {
   "cell_type": "markdown",
   "metadata": {},
   "source": [
    "## Day 7: Some Assembly Required\n",
    "\n",
    "### Part 1\n",
    "\n",
    "This year, Santa brought little Bobby Tables a set of wires and [bitwise logic gates](https://en.wikipedia.org/wiki/Bitwise_operation)! Unfortunately, little Bobby is a little under the recommended age range, and he needs help assembling the circuit.\n",
    "\n",
    "Each wire has an identifier (some lowercase letters) and can carry a 16-bit signal (a number from `0` to `65535`). A signal is provided to each wire by a gate, another wire, or some specific value. Each wire can only get a signal from one source, but can provide its signal to multiple destinations. A gate provides no signal until all of its inputs have a signal.\n",
    "\n",
    "The included instructions booklet describes how to connect the parts together: `x AND y -> z` means to connect wires `x` and `y` to an AND gate, and then connect its output to wire `z`.\n",
    "\n",
    "For example:\n",
    "- `123 -> x` means that the signal `123` is provided to wire `x`.\n",
    "- `x AND y -> z` means that the [bitwise AND](https://en.wikipedia.org/wiki/Bitwise_operation#AND) of wire `x` and wire `y` is provided to wire `z`.\n",
    "- `p LSHIFT 2 -> q` means that the value from wire p is [left-shifted](https://en.wikipedia.org/wiki/Logical_shift) by `2` and then provided to wire `q`.\n",
    "- `NOT e -> f` means that the [bitwise complement](https://en.wikipedia.org/wiki/Bitwise_operation#NOT) of the value from wire `e` is provided to wire `f`.\n",
    "\n",
    "Other possible gates include OR ([bitwise OR](https://en.wikipedia.org/wiki/Bitwise_operation#OR)) and RSHIFT ([right-shift](https://en.wikipedia.org/wiki/Logical_shift)). If, for some reason, you'd like to **emulate** the circuit instead, almost all programming languages (for example, [C](https://en.wikipedia.org/wiki/Bitwise_operations_in_C), [JavaScript](https://developer.mozilla.org/en-US/docs/Web/JavaScript/Reference/Operators), or [Python](https://wiki.python.org/moin/BitwiseOperators)) provide operators for these gates.\n",
    "\n",
    "For example, here is a simple circuit:\n",
    "\n",
    "```\n",
    "123 -> x\n",
    "456 -> y\n",
    "x AND y -> d\n",
    "x OR y -> e\n",
    "x LSHIFT 2 -> f\n",
    "y RSHIFT 2 -> g\n",
    "NOT x -> h\n",
    "NOT y -> i\n",
    "```\n",
    "\n",
    "After it is run, these are the signals on the wires:\n",
    "\n",
    "```\n",
    "d: 72\n",
    "e: 507\n",
    "f: 492\n",
    "g: 114\n",
    "h: 65412\n",
    "i: 65079\n",
    "x: 123\n",
    "y: 456\n",
    "```\n",
    "\n",
    "In little Bobby's kit's instructions booklet (provided as your puzzle input), what signal is ultimately provided to wire `a`?\n",
    "\n",
    "### Part 2\n",
    "\n",
    "Now, take the signal you got on wire `a`, override wire `b` to that signal, and reset the other wires (including wire `a`). What new signal is ultimately provided to wire `a`?"
   ]
  },
  {
   "cell_type": "code",
   "execution_count": 15,
   "metadata": {},
   "outputs": [
    {
     "name": "stdout",
     "output_type": "stream",
     "text": [
      "3176\n"
     ]
    }
   ],
   "source": [
    "with open(\"input/7.1.txt\") as file: # or \"input/7.2.txt\"\n",
    "    inpt = file.readlines()\n",
    "\n",
    "# Only for AND, OR, LSHIFT, RSHIFT\n",
    "def bitwise_op(op, *args):\n",
    "    if op == \"AND\":\n",
    "        return args[0] & args[1]\n",
    "    elif op == \"OR\":\n",
    "        return args[0] | args[1]\n",
    "    elif op == \"LSHIFT\":\n",
    "        return args[0] << args[1]\n",
    "    elif op == \"RSHIFT\":\n",
    "        return args[0] >> args[1]\n",
    "    \n",
    "wires = dict()\n",
    "k = 0\n",
    "while inpt:\n",
    "    k = min(k, len(inpt) - 1)\n",
    "    i, o = inpt[k].split(\" -> \")\n",
    "    o = o.strip()\n",
    "    i = i.split()\n",
    "    if len(i) == 1 and i[0].isdigit():\n",
    "        wires[o] = int(i[0])\n",
    "        del inpt[k]\n",
    "    elif len(i) == 1 and i[0] in wires:\n",
    "        wires[o] = wires[i[0]]\n",
    "        del inpt[k]\n",
    "\n",
    "    elif len(i) == 2 and i[1].isdigit():\n",
    "        wires[o] = ~int(i[1])\n",
    "        del inpt[k]\n",
    "    elif len(i) == 2 and i[1] in wires:\n",
    "        wires[o] = ~wires[i[1]]\n",
    "        del inpt[k]\n",
    "        \n",
    "    elif len(i) == 3 and (i[0].isdigit() and i[2] in wires):\n",
    "        wires[o] = bitwise_op(i[1], int(i[0]), wires[i[2]])\n",
    "        del inpt[k]\n",
    "    elif len(i) == 3 and (i[0] in wires and i[2].isdigit()):\n",
    "        wires[o] = bitwise_op(i[1], wires[i[0]], int(i[2]))\n",
    "        del inpt[k]\n",
    "    elif len(i) == 3 and (i[0].isdigit() and i[2].isdigit()):\n",
    "        wires[o] = bitwise_op(i[1], int(i[0]), int(i[2]))\n",
    "        del inpt[k]\n",
    "    elif len(i) == 3 and (i[0] in wires and i[2] in wires):\n",
    "        wires[o] = bitwise_op(i[1], wires[i[0]], wires[i[2]])\n",
    "        del inpt[k]\n",
    "        \n",
    "    else:\n",
    "        #print(f\"k: {k}, len: {len(inpt)}\")\n",
    "        if k + 1 >= len(inpt): k = 0\n",
    "        else: k += 1\n",
    "\n",
    "print(wires['a'])"
   ]
  },
  {
   "cell_type": "markdown",
   "metadata": {},
   "source": [
    "## Day 8: Matchsticks\n",
    "\n",
    "### Part 1\n",
    "\n",
    "Space on the sleigh is limited this year, and so Santa will be bringing his list as a digital copy. He needs to know how much space it will take up when stored.\n",
    "\n",
    "It is common in many programming languages to provide a way to escape special characters in strings. For example, [C](https://en.wikipedia.org/wiki/Escape_sequences_in_C), [JavaScript](https://developer.mozilla.org/en-US/docs/Web/JavaScript/Reference/Global_Objects/String), [Perl](http://perldoc.perl.org/perlop.html#Quote-and-Quote-like-Operators), [Python](https://docs.python.org/2.0/ref/strings.html), and even [PHP](http://php.net/manual/en/language.types.string.php#language.types.string.syntax.double) handle special characters in very similar ways.\n",
    "\n",
    "However, it is important to realize the difference between the number of characters **in the code representation of the string literal** and the number of characters **in the in-memory string itself**.\n",
    "\n",
    "For example:\n",
    "- `\"\"` is `2` characters of code (the two double quotes), but the string contains zero characters.\n",
    "- `\"abc\"` is `5` characters of code, but `3` characters in the string data.\n",
    "- `\"aaa\\\"aaa\"` is `10` characters of code, but the string itself contains six `\"a\"` characters and a single, escaped quote character, for a total of `7` characters in the string data.\n",
    "- `\"\\x27\"` is `6` characters of code, but the string itself contains just one - an apostrophe (`'`), escaped using hexadecimal notation.\n",
    "\n",
    "Santa's list is a file that contains many double-quoted string literals, one on each line. The only escape sequences used are `\\\\` (which represents a single backslash), `\\\"` (which represents a lone double-quote character), and `\\x` plus two hexadecimal characters (which represents a single character with that ASCII code).\n",
    "\n",
    "Disregarding the whitespace in the file, what is the number of characters of code for string literals minus the number of characters in memory for the values of the strings in total for the entire file?\n",
    "\n",
    "For example, given the four strings above, the total number of characters of string code (`2 + 5 + 10 + 6 = 23`) minus the total number of characters in memory for string values (`0 + 3 + 7 + 1 = 11`) is `23 - 11 = 12`."
   ]
  },
  {
   "cell_type": "code",
   "execution_count": 16,
   "metadata": {},
   "outputs": [
    {
     "name": "stdout",
     "output_type": "stream",
     "text": [
      "1350\n"
     ]
    }
   ],
   "source": [
    "with open(\"input/8.txt\", \"r\") as file:\n",
    "    inpt = file.readlines()\n",
    "\n",
    "num_chars_string_1 = 0\n",
    "num_chars_memory_1 = 0\n",
    "\n",
    "for line in inpt:\n",
    "    line = line.strip()\n",
    "    num_chars_string_1 += len(line)\n",
    "    i = 1\n",
    "    while i < len(line) - 1:\n",
    "        if line[i:i+2] == r'\\\\' or line[i:i+2] == r'\\\"':\n",
    "            i += 2\n",
    "        elif line[i:i+2] == r'\\x':\n",
    "            i += 4\n",
    "        else:\n",
    "            i += 1\n",
    "        num_chars_memory_1 += 1\n",
    "\n",
    "print(num_chars_string_1 - num_chars_memory_1)"
   ]
  },
  {
   "cell_type": "markdown",
   "metadata": {},
   "source": [
    "### Part 2\n",
    "\n",
    "Now, let's go the other way. In addition to finding the number of characters of code, you should now **encode each code representation as a new string** and find the number of characters of the new encoded representation, including the surrounding double quotes.\n",
    "\n",
    "For example:\n",
    "- `\"\"` encodes to `\"\\\"\\\"\"`, an increase from `2` characters to `6`.\n",
    "- `\"abc\"` encodes to `\"\\\"abc\\\"\"`, an increase from `5` characters to `9`.\n",
    "- `\"aaa\\\"aaa\"` encodes to `\"\\\"aaa\\\\\\\"aaa\\\"\"`, an increase from `10` characters to `16`.\n",
    "- `\"\\x27\"` encodes to `\"\\\"\\\\x27\\\"\"`, an increase from `6` characters to `11`.\n",
    "\n",
    "Your task is to find the total number of characters to represent the newly encoded strings minus the number of characters of code in each original string literal. For example, for the strings above, the total encoded length (`6 + 9 + 16 + 11 = 42`) minus the characters in the original code representation (`23`, just like in the first part of this puzzle) is `42 - 23 = 19`."
   ]
  },
  {
   "cell_type": "code",
   "execution_count": 17,
   "metadata": {},
   "outputs": [
    {
     "name": "stdout",
     "output_type": "stream",
     "text": [
      "2085\n"
     ]
    }
   ],
   "source": [
    "num_chars_string_2 = 0\n",
    "\n",
    "for line in inpt:\n",
    "    line = line.strip()\n",
    "    num_chars_string_2 += len(line) + 4 # \\\" ... \\\"\n",
    "    i = 1\n",
    "    while i < len(line) - 1:\n",
    "        if line[i:i+2] == r'\\\\' or line[i:i+2] == r'\\\"':\n",
    "            num_chars_string_2 += 2\n",
    "            i += 2\n",
    "        elif line[i:i+2] == r'\\x':\n",
    "            num_chars_string_2 += 1\n",
    "            i += 4\n",
    "        else:\n",
    "            i += 1\n",
    "\n",
    "print(num_chars_string_2 - num_chars_string_1)"
   ]
  },
  {
   "cell_type": "markdown",
   "metadata": {},
   "source": [
    "## Day 9: All in a Single Night\n",
    "\n",
    "### Part 1\n",
    "\n",
    "Every year, Santa manages to deliver all of his presents in a single night.\n",
    "\n",
    "This year, however, he has some new locations to visit; his elves have provided him the distances between every pair of locations. He can start and end at any two (different) locations he wants, but he must visit each location exactly once. What is the **shortest distance** he can travel to achieve this?\n",
    "\n",
    "For example, given the following distances:\n",
    "\n",
    "```\n",
    "London to Dublin = 464\n",
    "London to Belfast = 518\n",
    "Dublin to Belfast = 141\n",
    "```\n",
    "\n",
    "The possible routes are therefore:\n",
    "\n",
    "```\n",
    "Dublin -> London -> Belfast = 982\n",
    "London -> Dublin -> Belfast = 605\n",
    "London -> Belfast -> Dublin = 659\n",
    "Dublin -> Belfast -> London = 659\n",
    "Belfast -> Dublin -> London = 605\n",
    "Belfast -> London -> Dublin = 982\n",
    "```\n",
    "\n",
    "The shortest of these is `London -> Dublin -> Belfast = 605`, and so the answer is `605` in this example.\n",
    "\n",
    "What is the distance of the shortest route?"
   ]
  },
  {
   "cell_type": "code",
   "execution_count": 2,
   "metadata": {},
   "outputs": [
    {
     "name": "stdout",
     "output_type": "stream",
     "text": [
      "117\n"
     ]
    }
   ],
   "source": [
    "from math import inf\n",
    "from itertools import permutations\n",
    "\n",
    "from pprint import PrettyPrinter\n",
    "\n",
    "pp = PrettyPrinter()\n",
    "\n",
    "with open(\"input/9.txt\", \"r\") as file:\n",
    "    inpt = file.readlines()\n",
    "\n",
    "g = dict()\n",
    "for line in inpt:\n",
    "    cities, distance = line.split(\" = \")\n",
    "    start, end = cities.split(\" to \")\n",
    "    if start in g:\n",
    "        g[start][end] = int(distance)\n",
    "    else:\n",
    "        g[start] = {end: int(distance)}\n",
    "    if end in g:\n",
    "        g[end][start] = int(distance)\n",
    "    else:\n",
    "        g[end] = {start: int(distance)}\n",
    "\n",
    "# pp.pprint(g)\n",
    "\n",
    "dist = list()\n",
    "for perm in permutations(list(g.keys())):\n",
    "    dist.append(0)\n",
    "    for i in range(len(perm)-1):\n",
    "        #print(f\"{perm[i]} -> {perm[i+1]}\", end=\" -> \")\n",
    "        if perm[i+1] in g[perm[i]]:\n",
    "            dist[-1] += g[perm[i]][perm[i+1]]\n",
    "        else:\n",
    "            del dist[-1]\n",
    "            break\n",
    "\n",
    "print(min(dist))"
   ]
  },
  {
   "cell_type": "markdown",
   "metadata": {},
   "source": [
    "### Part 2\n",
    "\n",
    "The next year, just to show off, Santa decides to take the route with the **longest distance** instead.\n",
    "\n",
    "He can still start and end at any two (different) locations he wants, and he still must visit each location exactly once.\n",
    "\n",
    "For example, given the distances above, the longest route would be `982` via (for example) `Dublin -> London -> Belfast`.\n",
    "\n",
    "What is the distance of the longest route?"
   ]
  },
  {
   "cell_type": "code",
   "execution_count": 19,
   "metadata": {},
   "outputs": [
    {
     "name": "stdout",
     "output_type": "stream",
     "text": [
      "909\n"
     ]
    }
   ],
   "source": [
    "print(max(dist))"
   ]
  },
  {
   "cell_type": "markdown",
   "metadata": {},
   "source": [
    "## Day 10: Elves Look, Elves Say\n",
    "\n",
    "### Part 1\n",
    "\n",
    "Today, the Elves are playing a game called [look-and-say](https://en.wikipedia.org/wiki/Look-and-say_sequence). They take turns making sequences by reading aloud the previous sequence and using that reading as the next sequence. For example, `211` is read as \"one two, two ones\", which becomes `1221` (`1` `2`, `2` `1`s).\n",
    "\n",
    "Look-and-say sequences are generated iteratively, using the previous value as input for the next step. For each step, take the previous value, and replace each run of digits (like `111`) with the number of digits (`3`) followed by the digit itself (`1`).\n",
    "\n",
    "For example:\n",
    "- `1` becomes `11` (`1` copy of digit `1`).\n",
    "- `11` becomes `21` (`2` copies of digit `1`).\n",
    "- `21` becomes `1211` (one `2` followed by one `1`).\n",
    "- `1211` becomes `111221` (one `1`, one `2`, and two `1`s).\n",
    "- `111221` becomes `312211` (three `1`s, two `2`s, and one `1`).\n",
    "\n",
    "Starting with the digits in your puzzle input, apply this process `40` times. What is the length of the result?"
   ]
  },
  {
   "cell_type": "code",
   "execution_count": 20,
   "metadata": {},
   "outputs": [
    {
     "name": "stdout",
     "output_type": "stream",
     "text": [
      "329356\n"
     ]
    }
   ],
   "source": [
    "with open(\"input/10.txt\", \"r\") as file:\n",
    "    inpt = [int(n) for n in file.read()]\n",
    "\n",
    "def look_and_say(v):\n",
    "    res = list()\n",
    "    counter = 1\n",
    "    for i in range(len(v)):\n",
    "        if i == len(v) - 1:\n",
    "            res.extend([counter, v[i]])\n",
    "        elif v[i] == v[i+1]:\n",
    "            counter += 1\n",
    "        else:\n",
    "            res.extend([counter, v[i]])\n",
    "            counter = 1\n",
    "    return res\n",
    "\n",
    "for _ in range(40):\n",
    "    inpt = look_and_say(inpt)\n",
    "\n",
    "print(len(inpt))"
   ]
  },
  {
   "cell_type": "markdown",
   "metadata": {},
   "source": [
    "### Part 2\n",
    "\n",
    "Neat, right? You might also enjoy hearing [John Conway talking about this sequence](https://www.youtube.com/watch?v=ea7lJkEhytA) (that's Conway of **Conway's Game of Life** fame).\n",
    "\n",
    "Now, starting again with the digits in your puzzle input, apply this process `50` times. What is the **length of the new result**?"
   ]
  },
  {
   "cell_type": "code",
   "execution_count": 22,
   "metadata": {},
   "outputs": [
    {
     "name": "stdout",
     "output_type": "stream",
     "text": [
      "4666278\n"
     ]
    }
   ],
   "source": [
    "with open(\"input/10.txt\", \"r\") as file:\n",
    "    inpt = [int(n) for n in file.read()]\n",
    "\n",
    "for _ in range(50):\n",
    "    inpt = look_and_say(inpt)\n",
    "\n",
    "print(len(inpt))"
   ]
  },
  {
   "cell_type": "markdown",
   "metadata": {},
   "source": [
    "## Day 11: Corporate Policy\n",
    "\n",
    "### Part 1\n",
    "\n",
    "Santa's previous password expired, and he needs help choosing a new one.\n",
    "\n",
    "To help him remember his new password after the old one expires, Santa has devised a method of coming up with a password based on the previous one. Corporate policy dictates that passwords must be exactly eight lowercase letters (for security reasons), so he finds his new password by **incrementing** his old password string repeatedly until it is valid.\n",
    "\n",
    "Incrementing is just like counting with numbers: `xx`, `xy`, `xz`, `ya`, `yb`, and so on. Increase the rightmost letter one step; if it was `z`, it wraps around to `a`, and repeat with the next letter to the left until one doesn't wrap around.\n",
    "\n",
    "Unfortunately for Santa, a new Security-Elf recently started, and he has imposed some additional password requirements:\n",
    "\n",
    "- Passwords must include one increasing straight of at least three letters, like `abc`, `bcd`, `cde`, and so on, up to `xyz`. They cannot skip letters; `abd` doesn't count.\n",
    "- Passwords may not contain the letters `i`, `o`, or `l`, as these letters can be mistaken for other characters and are therefore confusing.\n",
    "- Passwords must contain at least two different, non-overlapping pairs of letters, like `aa`, `bb`, or `zz`.\n",
    "\n",
    "For example:\n",
    "- `hijklmmn` meets the first requirement (because it contains the straight `hij`) but fails the second requirement requirement (because it contains `i` and `l`).\n",
    "- `abbceffg` meets the third requirement (because it repeats bb and `ff`) but fails the first requirement.\n",
    "- `abbcegjk` fails the third requirement, because it only has one double letter (`bb`).\n",
    "- The next password after `abcdefgh` is `abcdffaa`.\n",
    "- The next password after `ghijklmn` is `ghjaabcc`, because you eventually skip all the passwords that start with `ghi...`, since `i` is not allowed.\n",
    "\n",
    "Given Santa's current password (your puzzle input), what should his **next password** be?"
   ]
  },
  {
   "cell_type": "code",
   "execution_count": 41,
   "metadata": {},
   "outputs": [
    {
     "name": "stdout",
     "output_type": "stream",
     "text": [
      "hxbxxyzz\n"
     ]
    }
   ],
   "source": [
    "def next_char(letter):\n",
    "    return chr(ord(letter) + 1)\n",
    "\n",
    "def next_pwd(pwd):\n",
    "    last_char = pwd[-1]\n",
    "    if last_char < \"z\":\n",
    "        return pwd[:-1] + next_char(last_char)\n",
    "    else:\n",
    "        return next_pwd(pwd[:-1]) + \"a\"\n",
    "\n",
    "def is_increasing(triplet):\n",
    "    first, second, third =  triplet\n",
    "    return second == next_char(first) and third == next_char(second)\n",
    "\n",
    "def has_increasing_triplet(word):\n",
    "    return any([is_increasing(word[i:i+3]) for i in range(len(word) - 3)])\n",
    "\n",
    "def has_iol(word):\n",
    "    return (\"i\" in word) or (\"o\" in word) or (\"l\" in word) \n",
    "\n",
    "def has_two_equal_couple(word):\n",
    "    count = 0\n",
    "    word_length = len(word)\n",
    "    i = 0\n",
    "    while i < word_length - 1:\n",
    "        if word[i] == word[i+1]:\n",
    "            i += 2\n",
    "            count += 1\n",
    "            if count == 2:\n",
    "                return True\n",
    "        else:\n",
    "            i += 1\n",
    "    return False\n",
    "\n",
    "def is_good_pwd(pwd):\n",
    "    return has_increasing_triplet(pwd) and (not has_iol(pwd)) and has_two_equal_couple(pwd)\n",
    "\n",
    "\n",
    "with open(\"input/11.txt\") as file:\n",
    "    pwd = file.read()\n",
    "\n",
    "while True:\n",
    "    pwd = next_pwd(pwd)\n",
    "    if is_good_pwd(pwd):\n",
    "        print(pwd)\n",
    "        break"
   ]
  },
  {
   "cell_type": "markdown",
   "metadata": {},
   "source": [
    "### Part 2\n",
    "\n",
    "Santa's password expired again. What's the next one?"
   ]
  },
  {
   "cell_type": "code",
   "execution_count": 42,
   "metadata": {},
   "outputs": [
    {
     "name": "stdout",
     "output_type": "stream",
     "text": [
      "hxcaabcc\n"
     ]
    }
   ],
   "source": [
    "while True:\n",
    "    pwd = next_pwd(pwd)\n",
    "    if is_good_pwd(pwd):\n",
    "        print(pwd)\n",
    "        break"
   ]
  },
  {
   "cell_type": "markdown",
   "metadata": {},
   "source": [
    "## Day 23: Opening the Turing Lock\n",
    "\n",
    "### Part 1\n",
    "\n",
    "Little Jane Marie just got her very first computer for Christmas from some unknown benefactor. It comes with instructions and an example program, but the computer itself seems to be malfunctioning. She's curious what the program does, and would like you to help her run it.\n",
    "\n",
    "The manual explains that the computer supports two [registers](https://en.wikipedia.org/wiki/Processor_register) and six [instructions](https://en.wikipedia.org/wiki/Instruction_set) (truly, it goes on to remind the reader, a state-of-the-art technology). The registers are named `a` and `b`, can hold any [non-negative integer](https://en.wikipedia.org/wiki/Natural_number), and begin with a value of `0`. The instructions are as follows:\n",
    "- `hlf r` sets register `r` to **half** its current value, then continues with the next instruction.\n",
    "- `tpl r` sets register `r` to **triple** its current value, then continues with the next instruction.\n",
    "- `inc r` **increments** register `r`, adding `1` to it, then continues with the next instruction.\n",
    "- `jmp offset` is a **jump**; it continues with the instruction offset away relative to itself.\n",
    "- `jie r`, offset is like `jmp`, but only jumps if register `r` is even (\"jump if **even**\").\n",
    "- `jio r`, offset is like `jmp`, but only jumps if register `r` is `1` (\"jump if **one**\", not odd).\n",
    "\n",
    "All three jump instructions work with an offset relative to that instruction. The offset is always written with a prefix + or - to indicate the direction of the jump (forward or backward, respectively). For example, jmp +1 would simply continue with the next instruction, while jmp +0 would continuously jump back to itself forever.\n",
    "\n",
    "The program exits when it tries to run an instruction beyond the ones defined.\n",
    "\n",
    "For example, this program sets a to `2`, because the `jio` instruction causes it to skip the `tpl` instruction:\n",
    "\n",
    "```\n",
    "inc a\n",
    "jio a, +2\n",
    "tpl a\n",
    "inc a\n",
    "```\n",
    "\n",
    "What is **the value in register `b`** when the program in your puzzle input is finished executing?"
   ]
  },
  {
   "cell_type": "code",
   "execution_count": 42,
   "metadata": {},
   "outputs": [
    {
     "name": "stdout",
     "output_type": "stream",
     "text": [
      "{'a': 1, 'b': 255}\n"
     ]
    }
   ],
   "source": [
    "with open(\"input/13.txt\", \"r\") as file:\n",
    "    inpt = file.read().split(\"\\n\")\n",
    "\n",
    "\"\"\" inpt = [\n",
    "    \"inc a\",\n",
    "    \"jio a, +2\",\n",
    "    \"tpl a\",\n",
    "    \"inc a\"\n",
    "] \"\"\"\n",
    "\n",
    "n       = len(inpt)\n",
    "state   = {\"a\": 0, \"b\": 0}\n",
    "pointer = 0\n",
    "\n",
    "def parse_instruction(instruction, pointer, state):\n",
    "    if \",\" in instruction:\n",
    "        cmd, register, offset = ''.join(instruction.split(\",\")).split()\n",
    "        if (cmd == \"jie\" and state[register] % 2 == 0) or (cmd == \"jio\" and state[register] == 1):\n",
    "            pointer += int(offset)\n",
    "        else:\n",
    "            pointer += 1\n",
    "    else: \n",
    "        cmd, value = instruction.split()\n",
    "        if cmd == \"hlf\":\n",
    "            state[value] //= 2\n",
    "            pointer += 1\n",
    "        elif cmd == \"tpl\":\n",
    "            state[value] *= 3 \n",
    "            pointer += 1\n",
    "        elif cmd == \"inc\":\n",
    "            state[value] += 1\n",
    "            pointer += 1\n",
    "        elif cmd == \"jmp\":\n",
    "            pointer += int(value)\n",
    "\n",
    "    return pointer, state\n",
    "\n",
    "while pointer < n:\n",
    "    pointer, state = parse_instruction(inpt[pointer], pointer, state)\n",
    "\n",
    "print(state)"
   ]
  },
  {
   "cell_type": "markdown",
   "metadata": {},
   "source": [
    "### Part 2\n",
    "\n",
    "The unknown benefactor is very thankful for releasi-- er, helping little Jane Marie with her computer. Definitely not to distract you, what is the value in register `b` after the program is finished executing if register `a` starts as `1` instead?"
   ]
  },
  {
   "cell_type": "code",
   "execution_count": 41,
   "metadata": {},
   "outputs": [
    {
     "name": "stdout",
     "output_type": "stream",
     "text": [
      "{'a': 1, 'b': 334}\n"
     ]
    }
   ],
   "source": [
    "state   = {\"a\": 1, \"b\": 0}\n",
    "pointer = 0\n",
    "\n",
    "while pointer < n:\n",
    "    pointer, state = parse_instruction(inpt[pointer], pointer, state)\n",
    "\n",
    "print(state)"
   ]
  },
  {
   "cell_type": "markdown",
   "metadata": {},
   "source": [
    "## Day 25: Let It Snow\n",
    "\n",
    "### Part 1\n",
    "\n",
    "Merry Christmas! Santa is booting up his weather machine; looks like you might get a [white Christmas](https://adventofcode.com/2015/day/1) after all.\n",
    "\n",
    "The weather machine beeps! On the console of the machine is a copy protection message asking you to [enter a code from the instruction manual](https://en.wikipedia.org/wiki/Copy_protection#Early_video_games). Apparently, it refuses to run unless you give it that code. No problem; you'll just look up the code in the--\n",
    "\n",
    "\"Ho ho ho\", Santa ponders aloud. \"I can't seem to find the manual.\"\n",
    "\n",
    "You look up the support number for the manufacturer and give them a call. Good thing, too - that 49th star wasn't going to earn itself.\n",
    "\n",
    "\"Oh, that machine is quite old!\", they tell you. \"That model went out of support six minutes ago, and we just finished shredding all of the manuals. I bet we can find you the code generation algorithm, though.\"\n",
    "\n",
    "After putting you on hold for twenty minutes (your call is very important to them, it reminded you repeatedly), they finally find an engineer that remembers how the code system works.\n",
    "\n",
    "The codes are printed on an infinite sheet of paper, starting in the top-left corner. The codes are filled in by diagonals: starting with the first row with an empty first box, the codes are filled in diagonally up and to the right. This process repeats until the [infinite paper is covered](https://en.wikipedia.org/wiki/Cantor's_diagonal_argument). So, the first few codes are filled in in this order:\n",
    "\n",
    "```\n",
    "   | 1   2   3   4   5   6  \n",
    "---+---+---+---+---+---+---+\n",
    " 1 |  1   3   6  10  15  21\n",
    " 2 |  2   5   9  14  20\n",
    " 3 |  4   8  13  19\n",
    " 4 |  7  12  18\n",
    " 5 | 11  17\n",
    " 6 | 16\n",
    "```\n",
    "\n",
    "For example, the 12th code would be written to row `4`, column `2`; the 15th code would be written to row `1`, column `5`.\n",
    "\n",
    "The voice on the other end of the phone continues with how the codes are actually generated. The first code is `20151125`. After that, each code is generated by taking the previous one, multiplying it by `252533`, and then keeping the remainder from dividing that value by `33554393`.\n",
    "\n",
    "So, to find the second code (which ends up in row `2`, column `1`), start with the previous value, `20151125`. Multiply it by `252533` to get `5088824049625`. Then, divide that by `33554393`, which leaves a remainder of `31916031`. That remainder is the second code.\n",
    "\n",
    "\"Oh!\", says the voice. \"It looks like we missed a scrap from one of the manuals. Let me read it to you.\" You write down his numbers:\n",
    "\n",
    "```\n",
    "   |    1         2         3         4         5         6\n",
    "---+---------+---------+---------+---------+---------+---------+\n",
    " 1 | 20151125  18749137  17289845  30943339  10071777  33511524\n",
    " 2 | 31916031  21629792  16929656   7726640  15514188   4041754\n",
    " 3 | 16080970   8057251   1601130   7981243  11661866  16474243\n",
    " 4 | 24592653  32451966  21345942   9380097  10600672  31527494\n",
    " 5 |    77061  17552253  28094349   6899651   9250759  31663883\n",
    " 6 | 33071741   6796745  25397450  24659492   1534922  27995004\n",
    "```\n",
    "\n",
    "\"Now remember\", the voice continues, \"that's not even all of the first few numbers; for example, you're missing the one at `7,1` that would come before `6,2`. But, it should be enough to let your-- oh, it's time for lunch! Bye!\" The call disconnects.\n",
    "\n",
    "Santa looks nervous. Your puzzle input contains the message on the machine's console. **What code do you give the machine?**"
   ]
  },
  {
   "cell_type": "markdown",
   "metadata": {},
   "source": [
    "#### Some math...\n",
    "\n",
    "We can tackle the problem from an analytically: the code $s(k)$ is generated by the following recursive equation\n",
    "$$\n",
    "    s(k) = \\text{rem}(Ns(k-1),M)\n",
    "$$\n",
    "where $k$ is the curren iteration, $N=252533$, $M=33554393$ and $\\text{rem}(a,b)$ is the reminder of $a/b$. The initial value is known, i.e., $s(0) = 20151125$. \n",
    "\n",
    "We now need to know at which $k$ the recursive equation should stop, i.e., we want to find the number contained in the cell with row $r$ and columm $c$, which we denote as $k(r,c)$. The diagonal $k(x,c)$ belongs to is $d(r,c) = r+c-1$, where $d(1,1) = 1$ is the diagonal the first entry of the matrix belong to. Up to diagonal $d(r,c)$ there are $D = d(r,c)(d(r,c) + 1)/2$ numbers, where D is the $d(r,c)$-th triangular number. Also, $f(1,d(r,c)) = D$. At this point, ew need to descend along the $d(r,c)$-th diagonal from $(1,d(r,c))$ to $(r,c)$, i.e., we need to reduce $D$ up to $k(r,c)$, hence\n",
    "$$\n",
    "    k(r,c) = D - r = \\frac{d(r,c)(d(r,c)+1)}{2} - r = \\frac{(r + c - 1)(r + c)}{2} - r\n",
    "$$"
   ]
  },
  {
   "cell_type": "code",
   "execution_count": 1,
   "metadata": {},
   "outputs": [
    {
     "name": "stdout",
     "output_type": "stream",
     "text": [
      "19980801\n"
     ]
    }
   ],
   "source": [
    "r, c = 2947, 3029\n",
    "N, M = 252533, 33554393\n",
    "\n",
    "k = (r + c - 1)*(r + c) // 2 - r\n",
    "\n",
    "s = 20151125\n",
    "for _ in range(k):\n",
    "    s = N*s % M\n",
    "\n",
    "print(s)"
   ]
  },
  {
   "cell_type": "markdown",
   "metadata": {},
   "source": [
    "### Part 2"
   ]
  },
  {
   "cell_type": "code",
   "execution_count": null,
   "metadata": {},
   "outputs": [],
   "source": []
  }
 ],
 "metadata": {
  "kernelspec": {
   "display_name": "Python 3.10.0 64-bit",
   "language": "python",
   "name": "python3"
  },
  "language_info": {
   "codemirror_mode": {
    "name": "ipython",
    "version": 3
   },
   "file_extension": ".py",
   "mimetype": "text/x-python",
   "name": "python",
   "nbconvert_exporter": "python",
   "pygments_lexer": "ipython3",
   "version": "3.10.0"
  },
  "orig_nbformat": 4,
  "vscode": {
   "interpreter": {
    "hash": "85c576d62e5a69baba7dcae6282c7bf6fba6f8d537c9cbb11ca984aece3c77a0"
   }
  }
 },
 "nbformat": 4,
 "nbformat_minor": 2
}
