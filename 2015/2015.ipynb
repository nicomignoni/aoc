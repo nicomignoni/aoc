{
 "cells": [
  {
   "cell_type": "markdown",
   "metadata": {},
   "source": [
    "# Advent of Code 2015"
   ]
  },
  {
   "attachments": {},
   "cell_type": "markdown",
   "metadata": {},
   "source": [
    "## Day 1: Not Quite Lisp\n",
    "\n",
    "### Part 1"
   ]
  },
  {
   "cell_type": "code",
   "execution_count": 2,
   "metadata": {},
   "outputs": [
    {
     "name": "stdout",
     "output_type": "stream",
     "text": [
      "138\n"
     ]
    }
   ],
   "source": [
    "with open(\"input/1.txt\", \"r\") as file:\n",
    "    inpt = file.read()\n",
    "\n",
    "floor = 0\n",
    "for b in inpt:\n",
    "    if b == \"(\": floor +=1\n",
    "    else: floor -= 1\n",
    "\n",
    "print(floor)"
   ]
  },
  {
   "attachments": {},
   "cell_type": "markdown",
   "metadata": {},
   "source": [
    "### Part 2"
   ]
  },
  {
   "cell_type": "code",
   "execution_count": 3,
   "metadata": {},
   "outputs": [
    {
     "name": "stdout",
     "output_type": "stream",
     "text": [
      "1771\n"
     ]
    }
   ],
   "source": [
    "floor = 0\n",
    "for i,b in enumerate(inpt):\n",
    "    if b == \"(\": floor +=1\n",
    "    else: floor -= 1\n",
    "    if floor == -1:\n",
    "        print(i + 1)\n",
    "        break"
   ]
  },
  {
   "attachments": {},
   "cell_type": "markdown",
   "metadata": {},
   "source": [
    "## Day 2: I Was Told There Would Be No Math\n",
    "\n",
    "### Part 1"
   ]
  },
  {
   "cell_type": "code",
   "execution_count": 4,
   "metadata": {},
   "outputs": [
    {
     "name": "stdout",
     "output_type": "stream",
     "text": [
      "1606483\n"
     ]
    }
   ],
   "source": [
    "def paper_needed(l,w,h):\n",
    "    return 2*l*w + 2*l*h + 2*w*h + min([l*w,l*h,w*h])\n",
    "\n",
    "def ribbon_needed(l,w,h):\n",
    "    d1, d2, d3 = sorted([l,w,h])\n",
    "    return 2*(d1 + d2) + d1*d2*d3\n",
    "\n",
    "with open(\"input/2.txt\") as file:\n",
    "    inpt = file.readlines()\n",
    "\n",
    "total_paper = 0\n",
    "for line in inpt:\n",
    "    l,w,h = list(map(int, line.split(\"x\")))\n",
    "    total_paper += paper_needed(l,w,h)\n",
    "\n",
    "print(total_paper)"
   ]
  },
  {
   "attachments": {},
   "cell_type": "markdown",
   "metadata": {},
   "source": [
    "### Part 2"
   ]
  },
  {
   "cell_type": "code",
   "execution_count": 5,
   "metadata": {},
   "outputs": [
    {
     "name": "stdout",
     "output_type": "stream",
     "text": [
      "3842356\n"
     ]
    }
   ],
   "source": [
    "total_ribbon = 0\n",
    "for line in inpt:\n",
    "    l,w,h = list(map(int, line.split(\"x\")))\n",
    "    total_ribbon += ribbon_needed(l,w,h)\n",
    "\n",
    "print(total_ribbon)"
   ]
  },
  {
   "attachments": {},
   "cell_type": "markdown",
   "metadata": {},
   "source": [
    "## Day 3: Perfectly Spherical Houses in a Vacuum\n",
    "\n",
    "### Part 1"
   ]
  },
  {
   "cell_type": "code",
   "execution_count": 6,
   "metadata": {},
   "outputs": [
    {
     "name": "stdout",
     "output_type": "stream",
     "text": [
      "2081\n"
     ]
    }
   ],
   "source": [
    "with open(\"input/3.txt\", \"r\") as file:\n",
    "    inpt = file.read()\n",
    "\n",
    "x = 0\n",
    "y = 0\n",
    "visited_houses = {(0,0)}\n",
    "for d in inpt:\n",
    "    if d  == \"^\":\n",
    "        y += 1\n",
    "    elif d == \"v\":\n",
    "        y -= 1\n",
    "    elif d == \">\":\n",
    "        x += 1\n",
    "    elif d == \"<\":\n",
    "        x -= 1\n",
    "    visited_houses.add((x,y))\n",
    "\n",
    "print(len(visited_houses))"
   ]
  },
  {
   "attachments": {},
   "cell_type": "markdown",
   "metadata": {},
   "source": [
    "### Part 2"
   ]
  },
  {
   "cell_type": "code",
   "execution_count": 7,
   "metadata": {},
   "outputs": [
    {
     "name": "stdout",
     "output_type": "stream",
     "text": [
      "2341\n"
     ]
    }
   ],
   "source": [
    "sx = 0\n",
    "sy = 0\n",
    "rx = 0\n",
    "ry = 0\n",
    "visited_houses = {(0,0)}\n",
    "for i,d in enumerate(inpt):\n",
    "    if i % 2 == 0:\n",
    "        if d  == \"^\":\n",
    "            sy += 1\n",
    "        elif d == \"v\":\n",
    "            sy -= 1\n",
    "        elif d == \">\":\n",
    "            sx += 1\n",
    "        elif d == \"<\":\n",
    "            sx -= 1\n",
    "        visited_houses.add((sx,sy))\n",
    "    else:\n",
    "        if d  == \"^\":\n",
    "            ry += 1\n",
    "        elif d == \"v\":\n",
    "            ry -= 1\n",
    "        elif d == \">\":\n",
    "            rx += 1\n",
    "        elif d == \"<\":\n",
    "            rx -= 1\n",
    "    visited_houses.add((rx,ry))\n",
    "\n",
    "print(len(visited_houses))"
   ]
  },
  {
   "attachments": {},
   "cell_type": "markdown",
   "metadata": {},
   "source": [
    "## Day 4: The Ideal Stocking Stuffer\n",
    "\n",
    "### Part 1"
   ]
  },
  {
   "cell_type": "code",
   "execution_count": 1,
   "metadata": {},
   "outputs": [
    {
     "name": "stdout",
     "output_type": "stream",
     "text": [
      "346386\n"
     ]
    }
   ],
   "source": [
    "from hashlib import md5\n",
    "\n",
    "sk1 = \"iwrupvqb\"\n",
    "sk2 = 0\n",
    "while True:\n",
    "    inpt = sk1 + str(sk2)\n",
    "    h = md5(inpt.encode()).hexdigest()\n",
    "    # print(f\"Input: {inpt}, MD5: {h}\")\n",
    "    if h[:5] == \"00000\":\n",
    "        print(sk2)\n",
    "        break\n",
    "    else:\n",
    "        sk2 += 1"
   ]
  },
  {
   "attachments": {},
   "cell_type": "markdown",
   "metadata": {},
   "source": [
    "### Part 2"
   ]
  },
  {
   "cell_type": "code",
   "execution_count": 10,
   "metadata": {},
   "outputs": [
    {
     "name": "stdout",
     "output_type": "stream",
     "text": [
      "9958218\n"
     ]
    }
   ],
   "source": [
    "sk1 = \"iwrupvqb\"\n",
    "sk2 = 346387\n",
    "while True:\n",
    "    inpt = sk1 + str(sk2)\n",
    "    h = md5(inpt.encode()).hexdigest()\n",
    "    if h[:6] == \"000000\":\n",
    "        print(sk2)\n",
    "        break\n",
    "    else:\n",
    "        sk2 += 1"
   ]
  },
  {
   "attachments": {},
   "cell_type": "markdown",
   "metadata": {},
   "source": [
    "## Day 5: Doesn't He Have Intern-Elves For This?\n",
    "\n",
    "### Part 1"
   ]
  },
  {
   "cell_type": "code",
   "execution_count": 11,
   "metadata": {},
   "outputs": [
    {
     "name": "stdout",
     "output_type": "stream",
     "text": [
      "258\n"
     ]
    }
   ],
   "source": [
    "def is_nice_part_1(s):\n",
    "    has_three_vowels    = sum([c in \"aeiou\" for c in s]) >= 3\n",
    "    has_twice_in_a_row  = any([s[i] == s[i+1] for i in range(len(s)-1)])\n",
    "    doesnt_have_strings = all([c not in s for c in (\"ab\", \"cd\", \"pq\", \"xy\")]) \n",
    "    return has_three_vowels and has_twice_in_a_row and doesnt_have_strings\n",
    "\n",
    "def repeat_not_overlap(s):\n",
    "    couples = set()\n",
    "    last_couple = \"\"\n",
    "    for i in range(len(s)-1):\n",
    "        if s[i:i+2] in couples and s[i:i+2] != last_couple:\n",
    "            return True\n",
    "        else:\n",
    "            couples.add(s[i:i+2])\n",
    "            last_couple = s[i:i+2]\n",
    "    return False\n",
    "\n",
    "def repeat_in_between(s):\n",
    "    return any([s[i] == s[i+2] for i in range(len(s)-2)]) \n",
    "\n",
    "with open(\"input/5.txt\", \"r\") as file:\n",
    "    inpt = file.readlines()\n",
    "\n",
    "count1 = 0\n",
    "for line in inpt:\n",
    "    if is_nice_part_1(line):\n",
    "        count1 += 1\n",
    "\n",
    "print(count1)"
   ]
  },
  {
   "attachments": {},
   "cell_type": "markdown",
   "metadata": {},
   "source": [
    "### Part 2"
   ]
  },
  {
   "cell_type": "code",
   "execution_count": 12,
   "metadata": {},
   "outputs": [
    {
     "name": "stdout",
     "output_type": "stream",
     "text": [
      "53\n"
     ]
    }
   ],
   "source": [
    "def is_nice_part_2(s):\n",
    "    return repeat_not_overlap(s) and repeat_in_between(s)\n",
    "\n",
    "count2 = 0\n",
    "for line in inpt:\n",
    "    if is_nice_part_2(line):\n",
    "        count2 += 1\n",
    "    \n",
    "print(count2)"
   ]
  },
  {
   "attachments": {},
   "cell_type": "markdown",
   "metadata": {},
   "source": [
    "## Day 6: Probably a Fire Hazard\n",
    "\n",
    "### Part 1"
   ]
  },
  {
   "cell_type": "code",
   "execution_count": 13,
   "metadata": {},
   "outputs": [
    {
     "name": "stdout",
     "output_type": "stream",
     "text": [
      "377891\n"
     ]
    }
   ],
   "source": [
    "with open(\"input/6.txt\", \"r\") as file:\n",
    "    inpt = file.readlines()\n",
    "\n",
    "lights = [[0 for j in range(1000)] for i in range(1000)]\n",
    "\n",
    "for line in inpt:\n",
    "    line_split = line.replace(\",\", \" \").split()\n",
    "    ei, ej = int(line_split[-2]), int(line_split[-1])\n",
    "\n",
    "    if line_split[0] == \"turn\":\n",
    "        si, sj = int(line_split[2]), int(line_split[3])\n",
    "        if line_split[1] == \"on\":\n",
    "            s = 1\n",
    "        else:\n",
    "            s = 0\n",
    "        for i in range(si,ei+1):\n",
    "            for j in range(sj,ej+1):\n",
    "                lights[i][j] = s\n",
    "            \n",
    "    elif line_split[0] == \"toggle\":\n",
    "        si, sj = int(line_split[1]), int(line_split[2])\n",
    "        for i in range(si,ei+1):\n",
    "            for j in range(sj,ej+1):\n",
    "                lights[i][j] = (lights[i][j] + 1) % 2\n",
    "\n",
    "print(sum([sum(row) for row in lights]))"
   ]
  },
  {
   "attachments": {},
   "cell_type": "markdown",
   "metadata": {},
   "source": [
    "### Part 2"
   ]
  },
  {
   "cell_type": "code",
   "execution_count": 14,
   "metadata": {},
   "outputs": [
    {
     "name": "stdout",
     "output_type": "stream",
     "text": [
      "14345087\n"
     ]
    }
   ],
   "source": [
    "for line in inpt:\n",
    "    line_split = line.replace(\",\", \" \").split()\n",
    "    ei, ej = int(line_split[-2]), int(line_split[-1])\n",
    "\n",
    "    if line_split[0] == \"turn\":\n",
    "        si, sj = int(line_split[2]), int(line_split[3])\n",
    "        if line_split[1] == \"on\":\n",
    "            s = 1\n",
    "        else:\n",
    "            s = -1\n",
    "        for i in range(si,ei+1):\n",
    "            for j in range(sj,ej+1):\n",
    "                lights[i][j] = max(lights[i][j] + s, 0)\n",
    "            \n",
    "    elif line_split[0] == \"toggle\":\n",
    "        si, sj = int(line_split[1]), int(line_split[2])\n",
    "        for i in range(si,ei+1):\n",
    "            for j in range(sj,ej+1):\n",
    "                lights[i][j] += 2\n",
    "\n",
    "print(sum([sum(row) for row in lights]))"
   ]
  },
  {
   "attachments": {},
   "cell_type": "markdown",
   "metadata": {},
   "source": [
    "## Day 7: Some Assembly Required\n",
    "\n",
    "### Part 1 and 2"
   ]
  },
  {
   "cell_type": "code",
   "execution_count": 15,
   "metadata": {},
   "outputs": [
    {
     "name": "stdout",
     "output_type": "stream",
     "text": [
      "3176\n"
     ]
    }
   ],
   "source": [
    "with open(\"input/7.1.txt\") as file: # or \"input/7.2.txt\"\n",
    "    inpt = file.readlines()\n",
    "\n",
    "# Only for AND, OR, LSHIFT, RSHIFT\n",
    "def bitwise_op(op, *args):\n",
    "    if op == \"AND\":\n",
    "        return args[0] & args[1]\n",
    "    elif op == \"OR\":\n",
    "        return args[0] | args[1]\n",
    "    elif op == \"LSHIFT\":\n",
    "        return args[0] << args[1]\n",
    "    elif op == \"RSHIFT\":\n",
    "        return args[0] >> args[1]\n",
    "    \n",
    "wires = dict()\n",
    "k = 0\n",
    "while inpt:\n",
    "    k = min(k, len(inpt) - 1)\n",
    "    i, o = inpt[k].split(\" -> \")\n",
    "    o = o.strip()\n",
    "    i = i.split()\n",
    "    if len(i) == 1 and i[0].isdigit():\n",
    "        wires[o] = int(i[0])\n",
    "        del inpt[k]\n",
    "    elif len(i) == 1 and i[0] in wires:\n",
    "        wires[o] = wires[i[0]]\n",
    "        del inpt[k]\n",
    "\n",
    "    elif len(i) == 2 and i[1].isdigit():\n",
    "        wires[o] = ~int(i[1])\n",
    "        del inpt[k]\n",
    "    elif len(i) == 2 and i[1] in wires:\n",
    "        wires[o] = ~wires[i[1]]\n",
    "        del inpt[k]\n",
    "        \n",
    "    elif len(i) == 3 and (i[0].isdigit() and i[2] in wires):\n",
    "        wires[o] = bitwise_op(i[1], int(i[0]), wires[i[2]])\n",
    "        del inpt[k]\n",
    "    elif len(i) == 3 and (i[0] in wires and i[2].isdigit()):\n",
    "        wires[o] = bitwise_op(i[1], wires[i[0]], int(i[2]))\n",
    "        del inpt[k]\n",
    "    elif len(i) == 3 and (i[0].isdigit() and i[2].isdigit()):\n",
    "        wires[o] = bitwise_op(i[1], int(i[0]), int(i[2]))\n",
    "        del inpt[k]\n",
    "    elif len(i) == 3 and (i[0] in wires and i[2] in wires):\n",
    "        wires[o] = bitwise_op(i[1], wires[i[0]], wires[i[2]])\n",
    "        del inpt[k]\n",
    "        \n",
    "    else:\n",
    "        #print(f\"k: {k}, len: {len(inpt)}\")\n",
    "        if k + 1 >= len(inpt): k = 0\n",
    "        else: k += 1\n",
    "\n",
    "print(wires['a'])"
   ]
  },
  {
   "attachments": {},
   "cell_type": "markdown",
   "metadata": {},
   "source": [
    "## Day 8: Matchsticks\n",
    "\n",
    "### Part 1"
   ]
  },
  {
   "cell_type": "code",
   "execution_count": 16,
   "metadata": {},
   "outputs": [
    {
     "name": "stdout",
     "output_type": "stream",
     "text": [
      "1350\n"
     ]
    }
   ],
   "source": [
    "with open(\"input/8.txt\", \"r\") as file:\n",
    "    inpt = file.readlines()\n",
    "\n",
    "num_chars_string_1 = 0\n",
    "num_chars_memory_1 = 0\n",
    "\n",
    "for line in inpt:\n",
    "    line = line.strip()\n",
    "    num_chars_string_1 += len(line)\n",
    "    i = 1\n",
    "    while i < len(line) - 1:\n",
    "        if line[i:i+2] == r'\\\\' or line[i:i+2] == r'\\\"':\n",
    "            i += 2\n",
    "        elif line[i:i+2] == r'\\x':\n",
    "            i += 4\n",
    "        else:\n",
    "            i += 1\n",
    "        num_chars_memory_1 += 1\n",
    "\n",
    "print(num_chars_string_1 - num_chars_memory_1)"
   ]
  },
  {
   "attachments": {},
   "cell_type": "markdown",
   "metadata": {},
   "source": [
    "### Part 2"
   ]
  },
  {
   "cell_type": "code",
   "execution_count": 17,
   "metadata": {},
   "outputs": [
    {
     "name": "stdout",
     "output_type": "stream",
     "text": [
      "2085\n"
     ]
    }
   ],
   "source": [
    "num_chars_string_2 = 0\n",
    "\n",
    "for line in inpt:\n",
    "    line = line.strip()\n",
    "    num_chars_string_2 += len(line) + 4 # \\\" ... \\\"\n",
    "    i = 1\n",
    "    while i < len(line) - 1:\n",
    "        if line[i:i+2] == r'\\\\' or line[i:i+2] == r'\\\"':\n",
    "            num_chars_string_2 += 2\n",
    "            i += 2\n",
    "        elif line[i:i+2] == r'\\x':\n",
    "            num_chars_string_2 += 1\n",
    "            i += 4\n",
    "        else:\n",
    "            i += 1\n",
    "\n",
    "print(num_chars_string_2 - num_chars_string_1)"
   ]
  },
  {
   "attachments": {},
   "cell_type": "markdown",
   "metadata": {},
   "source": [
    "## Day 9: All in a Single Night\n",
    "\n",
    "### Part 1"
   ]
  },
  {
   "cell_type": "code",
   "execution_count": 2,
   "metadata": {},
   "outputs": [
    {
     "name": "stdout",
     "output_type": "stream",
     "text": [
      "117\n"
     ]
    }
   ],
   "source": [
    "from math import inf\n",
    "from itertools import permutations\n",
    "\n",
    "from pprint import PrettyPrinter\n",
    "\n",
    "pp = PrettyPrinter()\n",
    "\n",
    "with open(\"input/9.txt\", \"r\") as file:\n",
    "    inpt = file.readlines()\n",
    "\n",
    "g = dict()\n",
    "for line in inpt:\n",
    "    cities, distance = line.split(\" = \")\n",
    "    start, end = cities.split(\" to \")\n",
    "    if start in g:\n",
    "        g[start][end] = int(distance)\n",
    "    else:\n",
    "        g[start] = {end: int(distance)}\n",
    "    if end in g:\n",
    "        g[end][start] = int(distance)\n",
    "    else:\n",
    "        g[end] = {start: int(distance)}\n",
    "\n",
    "# pp.pprint(g)\n",
    "\n",
    "dist = list()\n",
    "for perm in permutations(list(g.keys())):\n",
    "    dist.append(0)\n",
    "    for i in range(len(perm)-1):\n",
    "        #print(f\"{perm[i]} -> {perm[i+1]}\", end=\" -> \")\n",
    "        if perm[i+1] in g[perm[i]]:\n",
    "            dist[-1] += g[perm[i]][perm[i+1]]\n",
    "        else:\n",
    "            del dist[-1]\n",
    "            break\n",
    "\n",
    "print(min(dist))"
   ]
  },
  {
   "attachments": {},
   "cell_type": "markdown",
   "metadata": {},
   "source": [
    "### Part 2"
   ]
  },
  {
   "cell_type": "code",
   "execution_count": 19,
   "metadata": {},
   "outputs": [
    {
     "name": "stdout",
     "output_type": "stream",
     "text": [
      "909\n"
     ]
    }
   ],
   "source": [
    "print(max(dist))"
   ]
  },
  {
   "attachments": {},
   "cell_type": "markdown",
   "metadata": {},
   "source": [
    "## Day 10: Elves Look, Elves Say\n",
    "\n",
    "### Part 1"
   ]
  },
  {
   "cell_type": "code",
   "execution_count": 20,
   "metadata": {},
   "outputs": [
    {
     "name": "stdout",
     "output_type": "stream",
     "text": [
      "329356\n"
     ]
    }
   ],
   "source": [
    "with open(\"input/10.txt\", \"r\") as file:\n",
    "    inpt = [int(n) for n in file.read()]\n",
    "\n",
    "def look_and_say(v):\n",
    "    res = list()\n",
    "    counter = 1\n",
    "    for i in range(len(v)):\n",
    "        if i == len(v) - 1:\n",
    "            res.extend([counter, v[i]])\n",
    "        elif v[i] == v[i+1]:\n",
    "            counter += 1\n",
    "        else:\n",
    "            res.extend([counter, v[i]])\n",
    "            counter = 1\n",
    "    return res\n",
    "\n",
    "for _ in range(40):\n",
    "    inpt = look_and_say(inpt)\n",
    "\n",
    "print(len(inpt))"
   ]
  },
  {
   "attachments": {},
   "cell_type": "markdown",
   "metadata": {},
   "source": [
    "### Part 2"
   ]
  },
  {
   "cell_type": "code",
   "execution_count": 22,
   "metadata": {},
   "outputs": [
    {
     "name": "stdout",
     "output_type": "stream",
     "text": [
      "4666278\n"
     ]
    }
   ],
   "source": [
    "with open(\"input/10.txt\", \"r\") as file:\n",
    "    inpt = [int(n) for n in file.read()]\n",
    "\n",
    "for _ in range(50):\n",
    "    inpt = look_and_say(inpt)\n",
    "\n",
    "print(len(inpt))"
   ]
  },
  {
   "attachments": {},
   "cell_type": "markdown",
   "metadata": {},
   "source": [
    "## Day 11: Corporate Policy\n",
    "\n",
    "### Part 1"
   ]
  },
  {
   "cell_type": "code",
   "execution_count": 41,
   "metadata": {},
   "outputs": [
    {
     "name": "stdout",
     "output_type": "stream",
     "text": [
      "hxbxxyzz\n"
     ]
    }
   ],
   "source": [
    "def next_char(letter):\n",
    "    return chr(ord(letter) + 1)\n",
    "\n",
    "def next_pwd(pwd):\n",
    "    last_char = pwd[-1]\n",
    "    if last_char < \"z\":\n",
    "        return pwd[:-1] + next_char(last_char)\n",
    "    else:\n",
    "        return next_pwd(pwd[:-1]) + \"a\"\n",
    "\n",
    "def is_increasing(triplet):\n",
    "    first, second, third =  triplet\n",
    "    return second == next_char(first) and third == next_char(second)\n",
    "\n",
    "def has_increasing_triplet(word):\n",
    "    return any([is_increasing(word[i:i+3]) for i in range(len(word) - 3)])\n",
    "\n",
    "def has_iol(word):\n",
    "    return (\"i\" in word) or (\"o\" in word) or (\"l\" in word) \n",
    "\n",
    "def has_two_equal_couple(word):\n",
    "    count = 0\n",
    "    word_length = len(word)\n",
    "    i = 0\n",
    "    while i < word_length - 1:\n",
    "        if word[i] == word[i+1]:\n",
    "            i += 2\n",
    "            count += 1\n",
    "            if count == 2:\n",
    "                return True\n",
    "        else:\n",
    "            i += 1\n",
    "    return False\n",
    "\n",
    "def is_good_pwd(pwd):\n",
    "    return has_increasing_triplet(pwd) and (not has_iol(pwd)) and has_two_equal_couple(pwd)\n",
    "\n",
    "\n",
    "with open(\"input/11.txt\") as file:\n",
    "    pwd = file.read()\n",
    "\n",
    "while True:\n",
    "    pwd = next_pwd(pwd)\n",
    "    if is_good_pwd(pwd):\n",
    "        print(pwd)\n",
    "        break"
   ]
  },
  {
   "attachments": {},
   "cell_type": "markdown",
   "metadata": {},
   "source": [
    "### Part 2"
   ]
  },
  {
   "cell_type": "code",
   "execution_count": 42,
   "metadata": {},
   "outputs": [
    {
     "name": "stdout",
     "output_type": "stream",
     "text": [
      "hxcaabcc\n"
     ]
    }
   ],
   "source": [
    "while True:\n",
    "    pwd = next_pwd(pwd)\n",
    "    if is_good_pwd(pwd):\n",
    "        print(pwd)\n",
    "        break"
   ]
  },
  {
   "cell_type": "markdown",
   "metadata": {},
   "source": [
    "## Day 12: JSAbacusFramework.io\n",
    "\n",
    "### Part 1"
   ]
  },
  {
   "cell_type": "code",
   "execution_count": 9,
   "metadata": {},
   "outputs": [
    {
     "name": "stdout",
     "output_type": "stream",
     "text": [
      "156366\n"
     ]
    }
   ],
   "source": [
    "import re\n",
    "\n",
    "with open(\"input/12.json\", \"r\") as file:\n",
    "    inpt = file.read()\n",
    "\n",
    "s1 = sum([int(n) for n in re.findall(r\"-?\\d*\", inpt) if n])\n",
    "print(s1)"
   ]
  },
  {
   "cell_type": "markdown",
   "metadata": {},
   "source": [
    "### Part 2\n"
   ]
  },
  {
   "cell_type": "code",
   "execution_count": 18,
   "metadata": {},
   "outputs": [
    {
     "name": "stdout",
     "output_type": "stream",
     "text": [
      "66096\n"
     ]
    }
   ],
   "source": [
    "import json\n",
    "\n",
    "excluded = []\n",
    "def find_reds(d):\n",
    "\n",
    "    if isinstance(d,dict):\n",
    "        to_check = d.values()\n",
    "    elif isinstance(d,list):\n",
    "        to_check = d\n",
    "\n",
    "    for e in to_check:\n",
    "        if isinstance(e,list) or isinstance(e,dict):\n",
    "            find_reds(e)\n",
    "        elif e == \"red\" and isinstance(d,dict):\n",
    "            excluded.append(d)\n",
    "\n",
    "with open(\"input/12.json\", \"r\") as file:\n",
    "    inpt = json.load(file)\n",
    "\n",
    "find_reds(inpt)\n",
    "s2 = sum([int(n) for n in re.findall(r\"-?\\d*\", json.dumps(excluded)) if n])\n",
    "print(s1 - s2)"
   ]
  },
  {
   "attachments": {},
   "cell_type": "markdown",
   "metadata": {},
   "source": [
    "## Day 21: RPG Simulator 20XX\n",
    "\n",
    "### Part 1"
   ]
  },
  {
   "cell_type": "code",
   "execution_count": 35,
   "metadata": {},
   "outputs": [
    {
     "name": "stdout",
     "output_type": "stream",
     "text": [
      "91\n"
     ]
    }
   ],
   "source": [
    "import numpy as np\n",
    "from itertools import combinations\n",
    "\n",
    "Ho = 100 # Opponent's hit points\n",
    "Ao = 2   # Opponent's armor\n",
    "Do = 8   # Opponent's damage\n",
    "\n",
    "Hp = 100 # Player hit points\n",
    "\n",
    "# Weapons\n",
    "wc = np.array([8, 10, 25, 40, 74])\n",
    "wd = np.array([4, 5, 6, 7, 8])\n",
    "\n",
    "# Armors (the first option is \"no armor\")\n",
    "ac = np.array([0, 13, 31, 53, 75, 102])\n",
    "aa = np.array([0, 1, 2, 3, 4, 5])\n",
    "\n",
    "# Rings (the first two options are \"no ring\")\n",
    "rc = np.array([0, 0, 25, 50, 100, 20, 40, 80])\n",
    "rd = np.array([0, 0, 1, 2, 3, 0, 0, 0])\n",
    "ra = np.array([0, 0, 0, 0, 0, 1, 2, 3])\n",
    "\n",
    "W = wc.size\n",
    "A = ac.size\n",
    "R = rc.size\n",
    "\n",
    "best_cost = np.inf\n",
    "for w in range(W):\n",
    "    for a in range(A):\n",
    "        for r1, r2 in combinations(range(R),2):\n",
    "            Ap, Ac = aa[a] + ra[r1] + ra[r2], ac[a]\n",
    "            Dp, Dc = wd[w] + rd[r1] + rd[r2], wc[w]\n",
    "            Rc     = rc[r1] + rc[r2]\n",
    "\n",
    "            cost = Ac + Dc + Rc\n",
    "            tp = Hp / np.max([1,Do - Ap])\n",
    "            to = (Ho - np.max([1,Dp - Ao])) / np.max([1,Dp - Ao])\n",
    "\n",
    "            if  tp > to and cost < best_cost:\n",
    "                best_cost = cost\n",
    "\n",
    "print(best_cost)"
   ]
  },
  {
   "attachments": {},
   "cell_type": "markdown",
   "metadata": {},
   "source": [
    "### Part 2"
   ]
  },
  {
   "cell_type": "code",
   "execution_count": 36,
   "metadata": {},
   "outputs": [
    {
     "name": "stdout",
     "output_type": "stream",
     "text": [
      "158\n"
     ]
    }
   ],
   "source": [
    "best_cost = 0\n",
    "for w in range(W):\n",
    "    for a in range(A):\n",
    "        for r1, r2 in combinations(range(R),2):\n",
    "            Ap, Ac = aa[a] + ra[r1] + ra[r2], ac[a]\n",
    "            Dp, Dc = wd[w] + rd[r1] + rd[r2], wc[w]\n",
    "            Rc     = rc[r1] + rc[r2]\n",
    "\n",
    "            cost = Ac + Dc + Rc\n",
    "            tp = Hp / np.max([1,Do - Ap])\n",
    "            to = (Ho - np.max([1,Dp - Ao])) / np.max([1,Dp - Ao])\n",
    "\n",
    "            if  tp < to and cost > best_cost:\n",
    "                best_cost = cost\n",
    "\n",
    "print(best_cost)"
   ]
  },
  {
   "attachments": {},
   "cell_type": "markdown",
   "metadata": {},
   "source": [
    "## Day 23: Opening the Turing Lock\n",
    "\n",
    "### Part 1"
   ]
  },
  {
   "cell_type": "code",
   "execution_count": 42,
   "metadata": {},
   "outputs": [
    {
     "name": "stdout",
     "output_type": "stream",
     "text": [
      "{'a': 1, 'b': 255}\n"
     ]
    }
   ],
   "source": [
    "with open(\"input/23.txt\", \"r\") as file:\n",
    "    inpt = file.read().split(\"\\n\")\n",
    "    \n",
    "n       = len(inpt)\n",
    "state   = {\"a\": 0, \"b\": 0}\n",
    "pointer = 0\n",
    "\n",
    "def parse_instruction(instruction, pointer, state):\n",
    "    if \",\" in instruction:\n",
    "        cmd, register, offset = ''.join(instruction.split(\",\")).split()\n",
    "        if (cmd == \"jie\" and state[register] % 2 == 0) or (cmd == \"jio\" and state[register] == 1):\n",
    "            pointer += int(offset)\n",
    "        else:\n",
    "            pointer += 1\n",
    "    else: \n",
    "        cmd, value = instruction.split()\n",
    "        if cmd == \"hlf\":\n",
    "            state[value] //= 2\n",
    "            pointer += 1\n",
    "        elif cmd == \"tpl\":\n",
    "            state[value] *= 3 \n",
    "            pointer += 1\n",
    "        elif cmd == \"inc\":\n",
    "            state[value] += 1\n",
    "            pointer += 1\n",
    "        elif cmd == \"jmp\":\n",
    "            pointer += int(value)\n",
    "\n",
    "    return pointer, state\n",
    "\n",
    "while pointer < n:\n",
    "    pointer, state = parse_instruction(inpt[pointer], pointer, state)\n",
    "\n",
    "print(state)"
   ]
  },
  {
   "attachments": {},
   "cell_type": "markdown",
   "metadata": {},
   "source": [
    "### Part 2"
   ]
  },
  {
   "cell_type": "code",
   "execution_count": 41,
   "metadata": {},
   "outputs": [
    {
     "name": "stdout",
     "output_type": "stream",
     "text": [
      "{'a': 1, 'b': 334}\n"
     ]
    }
   ],
   "source": [
    "state   = {\"a\": 1, \"b\": 0}\n",
    "pointer = 0\n",
    "\n",
    "while pointer < n:\n",
    "    pointer, state = parse_instruction(inpt[pointer], pointer, state)\n",
    "\n",
    "print(state)"
   ]
  },
  {
   "attachments": {},
   "cell_type": "markdown",
   "metadata": {},
   "source": [
    "## Day 25: Let It Snow\n",
    "\n",
    "### Part 1"
   ]
  },
  {
   "cell_type": "markdown",
   "metadata": {},
   "source": [
    "#### Some math...\n",
    "\n",
    "We can tackle the problem from an analytically: the code $s(k)$ is generated by the following recursive equation\n",
    "$$\n",
    "    s(k) = \\text{rem}(Ns(k-1),M)\n",
    "$$\n",
    "where $k$ is the curren iteration, $N=252533$, $M=33554393$ and $\\text{rem}(a,b)$ is the reminder of $a/b$. The initial value is known, i.e., $s(0) = 20151125$. \n",
    "\n",
    "We now need to know at which $k$ the recursive equation should stop, i.e., we want to find the number contained in the cell with row $r$ and columm $c$, which we denote as $k(r,c)$. The diagonal $k(x,c)$ belongs to is $d(r,c) = r+c-1$, where $d(1,1) = 1$ is the diagonal the first entry of the matrix belong to. Up to diagonal $d(r,c)$ there are $D = d(r,c)(d(r,c) + 1)/2$ numbers, where D is the $d(r,c)$-th triangular number. Also, $f(1,d(r,c)) = D$. At this point, ew need to descend along the $d(r,c)$-th diagonal from $(1,d(r,c))$ to $(r,c)$, i.e., we need to reduce $D$ up to $k(r,c)$, hence\n",
    "$$\n",
    "    k(r,c) = D - r = \\frac{d(r,c)(d(r,c)+1)}{2} - r = \\frac{(r + c - 1)(r + c)}{2} - r\n",
    "$$"
   ]
  },
  {
   "cell_type": "code",
   "execution_count": 1,
   "metadata": {},
   "outputs": [
    {
     "name": "stdout",
     "output_type": "stream",
     "text": [
      "19980801\n"
     ]
    }
   ],
   "source": [
    "r, c = 2947, 3029\n",
    "N, M = 252533, 33554393\n",
    "\n",
    "k = (r + c - 1)*(r + c) // 2 - r\n",
    "\n",
    "s = 20151125\n",
    "for _ in range(k):\n",
    "    s = N*s % M\n",
    "\n",
    "print(s)"
   ]
  }
 ],
 "metadata": {
  "kernelspec": {
   "display_name": "Python 3.10.0 64-bit",
   "language": "python",
   "name": "python3"
  },
  "language_info": {
   "codemirror_mode": {
    "name": "ipython",
    "version": 3
   },
   "file_extension": ".py",
   "mimetype": "text/x-python",
   "name": "python",
   "nbconvert_exporter": "python",
   "pygments_lexer": "ipython3",
   "version": "3.10.0 (tags/v3.10.0:b494f59, Oct  4 2021, 19:00:18) [MSC v.1929 64 bit (AMD64)]"
  },
  "orig_nbformat": 4,
  "vscode": {
   "interpreter": {
    "hash": "85c576d62e5a69baba7dcae6282c7bf6fba6f8d537c9cbb11ca984aece3c77a0"
   }
  }
 },
 "nbformat": 4,
 "nbformat_minor": 2
}
