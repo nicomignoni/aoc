{
 "cells": [
  {
   "cell_type": "markdown",
   "metadata": {},
   "source": [
    "# Advent of Code 2022"
   ]
  },
  {
   "attachments": {},
   "cell_type": "markdown",
   "metadata": {},
   "source": [
    "## Day 1: Calorie Counting\n",
    "\n",
    "### Part 1"
   ]
  },
  {
   "cell_type": "code",
   "execution_count": 1,
   "metadata": {},
   "outputs": [
    {
     "name": "stdout",
     "output_type": "stream",
     "text": [
      "68802\n"
     ]
    }
   ],
   "source": [
    "with open(\"input/1.txt\", \"r\") as file:\n",
    "    inpt = file.read().splitlines()\n",
    "\n",
    "inventories = []\n",
    "inventory   = []\n",
    "for n in inpt:\n",
    "    if n == \"\":\n",
    "        inventories.append(inventory)\n",
    "        inventory = []\n",
    "    else:\n",
    "        inventory.append(int(n))\n",
    "\n",
    "print(max([sum(inventory) for inventory in inventories]))"
   ]
  },
  {
   "attachments": {},
   "cell_type": "markdown",
   "metadata": {},
   "source": [
    "### Part 2"
   ]
  },
  {
   "cell_type": "code",
   "execution_count": 28,
   "metadata": {},
   "outputs": [
    {
     "name": "stdout",
     "output_type": "stream",
     "text": [
      "205370\n"
     ]
    }
   ],
   "source": [
    "sorted_inpt = sorted(inventories, reverse=True, key=lambda x: sum(x))\n",
    "print(sum([sum(inventory) for inventory in sorted_inpt[:3]]))"
   ]
  },
  {
   "attachments": {},
   "cell_type": "markdown",
   "metadata": {},
   "source": [
    "## Day 2: Rock Paper Scissors\n",
    "\n",
    "### Part 1"
   ]
  },
  {
   "cell_type": "code",
   "execution_count": 9,
   "metadata": {},
   "outputs": [
    {
     "name": "stdout",
     "output_type": "stream",
     "text": [
      "10994\n"
     ]
    }
   ],
   "source": [
    "points = {\n",
    "    \"X\": { # rock (A)\n",
    "        \"value\": 1,\n",
    "        \"A\": 3,\n",
    "        \"B\": 0,\n",
    "        \"C\": 6\n",
    "    },\n",
    "    \"Y\": { # paper (B)\n",
    "        \"value\": 2,\n",
    "        \"A\": 6,\n",
    "        \"B\": 3,\n",
    "        \"C\": 0\n",
    "    }, \n",
    "    \"Z\": { # scissor (C)\n",
    "        \"value\": 3,\n",
    "        \"A\": 0,\n",
    "        \"B\": 6,\n",
    "        \"C\": 3\n",
    "    } \n",
    "}\n",
    "\n",
    "def outcome(opponent_move, my_move):\n",
    "    return points[my_move][opponent_move] + points[my_move][\"value\"]\n",
    "\n",
    "with open(\"input/2.txt\", \"r\") as file:\n",
    "    inpt = file.read().split(\"\\n\")\n",
    "\n",
    "total_points = 0\n",
    "for turn in inpt:\n",
    "    opponent_move, my_move = turn.split()\n",
    "    total_points += outcome(opponent_move, my_move)\n",
    "\n",
    "print(total_points)\n"
   ]
  },
  {
   "attachments": {},
   "cell_type": "markdown",
   "metadata": {},
   "source": [
    "### Part 2"
   ]
  },
  {
   "cell_type": "code",
   "execution_count": 10,
   "metadata": {},
   "outputs": [
    {
     "name": "stdout",
     "output_type": "stream",
     "text": [
      "12526\n"
     ]
    }
   ],
   "source": [
    "points = {\n",
    "    \"A\": 1,\n",
    "    \"B\": 2,\n",
    "    \"C\": 3\n",
    "}\n",
    "\n",
    "response = {\n",
    "    \"X\": {\n",
    "        \"value\": 0,\n",
    "        \"A\": \"C\",\n",
    "        \"B\": \"A\",\n",
    "        \"C\": \"B\"\n",
    "    },\n",
    "    \"Y\": {\n",
    "        \"value\": 3,\n",
    "        \"A\": \"A\",\n",
    "        \"B\": \"B\",\n",
    "        \"C\": \"C\"\n",
    "    },\n",
    "    \"Z\": {\n",
    "        \"value\": 6,\n",
    "        \"A\": \"B\",\n",
    "        \"B\": \"C\",\n",
    "        \"C\": \"A\"\n",
    "    }\n",
    "}\n",
    "\n",
    "def outcome(opponent_move, my_move):\n",
    "    return points[response[my_move][opponent_move]] + response[my_move][\"value\"]\n",
    "\n",
    "total_points = 0\n",
    "for turn in inpt:\n",
    "    opponent_move, my_move = turn.split()\n",
    "    total_points += outcome(opponent_move, my_move)\n",
    "\n",
    "print(total_points)"
   ]
  },
  {
   "attachments": {},
   "cell_type": "markdown",
   "metadata": {},
   "source": [
    "## Day 3: Rucksack Reorganization\n",
    "\n",
    "### Part 1"
   ]
  },
  {
   "cell_type": "code",
   "execution_count": 20,
   "metadata": {},
   "outputs": [
    {
     "name": "stdout",
     "output_type": "stream",
     "text": [
      "7878\n"
     ]
    }
   ],
   "source": [
    "from string import ascii_lowercase, ascii_uppercase\n",
    "from itertools import chain\n",
    "\n",
    "with open(\"input/3.txt\", \"r\") as file:\n",
    "    inpt = file.read().split(\"\\n\")\n",
    "\n",
    "letters = ascii_lowercase + ascii_uppercase\n",
    "values  = chain(range(1,27), range(27,53))\n",
    "priorities = {letter: val for letter, val in zip(letters, values)}\n",
    "\n",
    "total_priority = 0\n",
    "for line in inpt:\n",
    "    n = len(line)\n",
    "    comp1, comp2 = line[:(n // 2)], line[(n // 2):]\n",
    "    common_letters = set(comp1).intersection(comp2)\n",
    "    total_priority += sum([priorities[letter] for letter in common_letters])\n",
    "\n",
    "print(total_priority)"
   ]
  },
  {
   "attachments": {},
   "cell_type": "markdown",
   "metadata": {},
   "source": [
    "### Part 2"
   ]
  },
  {
   "cell_type": "code",
   "execution_count": 25,
   "metadata": {},
   "outputs": [
    {
     "name": "stdout",
     "output_type": "stream",
     "text": [
      "2760\n"
     ]
    }
   ],
   "source": [
    "n = len(inpt)\n",
    "total_priority = 0\n",
    "for i in range(0,n,3):\n",
    "    group1, group2, group3 = inpt[i:i+3]\n",
    "    badges = set(group1).intersection(group2, group3)\n",
    "    total_priority += sum([priorities[badge] for badge in badges])\n",
    "\n",
    "print(total_priority)"
   ]
  },
  {
   "attachments": {},
   "cell_type": "markdown",
   "metadata": {},
   "source": [
    "## Day 4: Camp Cleanup\n",
    "\n",
    "### Part 1"
   ]
  },
  {
   "cell_type": "code",
   "execution_count": 32,
   "metadata": {},
   "outputs": [
    {
     "name": "stdout",
     "output_type": "stream",
     "text": [
      "644\n"
     ]
    }
   ],
   "source": [
    "with open(\"input/4.txt\", \"r\") as file:\n",
    "    inpt = file.read().split(\"\\n\")\n",
    "\n",
    "counter = 0\n",
    "for line in inpt:\n",
    "    range1_str, range2_str = line.split(\",\")\n",
    "    range1_extremals, range2_extremals = range1_str.split(\"-\"), range2_str.split(\"-\")\n",
    "    range1 = range(int(range1_extremals[0]), int(range1_extremals[1]) + 1)\n",
    "    range2 = range(int(range2_extremals[0]), int(range2_extremals[1]) + 1)\n",
    "    if all([e in range1 for e in range2]) or all([e in range2 for e in range1]):\n",
    "        counter += 1\n",
    "\n",
    "print(counter)"
   ]
  },
  {
   "attachments": {},
   "cell_type": "markdown",
   "metadata": {},
   "source": [
    "### Part 2"
   ]
  },
  {
   "cell_type": "code",
   "execution_count": 33,
   "metadata": {},
   "outputs": [
    {
     "name": "stdout",
     "output_type": "stream",
     "text": [
      "926\n"
     ]
    }
   ],
   "source": [
    "counter = 0\n",
    "for line in inpt:\n",
    "    range1_str, range2_str = line.split(\",\")\n",
    "    range1_extremals, range2_extremals = range1_str.split(\"-\"), range2_str.split(\"-\")\n",
    "    range1 = range(int(range1_extremals[0]), int(range1_extremals[1]) + 1)\n",
    "    range2 = range(int(range2_extremals[0]), int(range2_extremals[1]) + 1)\n",
    "    if any([e in range1 for e in range2]) or any([e in range2 for e in range1]):\n",
    "        counter += 1\n",
    "\n",
    "print(counter)"
   ]
  },
  {
   "attachments": {},
   "cell_type": "markdown",
   "metadata": {},
   "source": [
    "## Day 5: Supply Stacks\n",
    "\n",
    "### Part 1"
   ]
  },
  {
   "cell_type": "code",
   "execution_count": 42,
   "metadata": {},
   "outputs": [
    {
     "name": "stdout",
     "output_type": "stream",
     "text": [
      "FJSRQCFTN\n"
     ]
    }
   ],
   "source": [
    "from collections import deque\n",
    "\n",
    "with open(\"input/5.txt\", \"r\") as file:\n",
    "    inpt = file.read().split(\"\\n\")\n",
    "\n",
    "inpt_pkgs  = inpt[:8][::-1]\n",
    "inpt_moves = inpt[10:]\n",
    "\n",
    "bins = 9\n",
    "\n",
    "# Parse the packages\n",
    "packages = {i: deque() for i in range(bins)}\n",
    "for line in inpt_pkgs:\n",
    "    for j in range(1,len(line),4):\n",
    "        if line[j] != \" \":\n",
    "            packages[j // 4].append(line[j])\n",
    "\n",
    "# Parse the moves\n",
    "for line in inpt_moves:\n",
    "    _, num, _, start, _, to = line.split()\n",
    "    num, start, to = int(num), int(start), int(to)\n",
    "    for _ in range(num):\n",
    "        packages[to-1].append(packages[start-1].pop())\n",
    "    \n",
    "print(''.join([pack[-1] for pack in packages.values()]))"
   ]
  },
  {
   "attachments": {},
   "cell_type": "markdown",
   "metadata": {},
   "source": [
    "### Part 2"
   ]
  },
  {
   "cell_type": "code",
   "execution_count": 58,
   "metadata": {},
   "outputs": [
    {
     "name": "stdout",
     "output_type": "stream",
     "text": [
      "CJVLJQPHS\n"
     ]
    }
   ],
   "source": [
    "# Parse the packages\n",
    "packages = {i: deque() for i in range(bins)}\n",
    "for line in inpt_pkgs:\n",
    "    for j in range(1,len(line),4):\n",
    "        if line[j] != \" \":\n",
    "            packages[j // 4].append(line[j])\n",
    "\n",
    "# Parse the moves\n",
    "for line in inpt_moves:\n",
    "    _, num, _, start, _, to = line.split()\n",
    "    num, start, to = int(num), int(start), int(to)\n",
    "    buffer = deque()\n",
    "    for _ in range(num):\n",
    "        buffer.append(packages[start-1].pop())\n",
    "    buffer.reverse()\n",
    "    packages[to-1].extend(buffer)\n",
    "\n",
    "print(''.join([pack[-1] for pack in packages.values()]))"
   ]
  },
  {
   "attachments": {},
   "cell_type": "markdown",
   "metadata": {},
   "source": [
    "## Day 6: Tuning Trouble\n",
    "\n",
    "### Part 1"
   ]
  },
  {
   "cell_type": "code",
   "execution_count": 7,
   "metadata": {},
   "outputs": [
    {
     "name": "stdout",
     "output_type": "stream",
     "text": [
      "1723\n"
     ]
    }
   ],
   "source": [
    "with open(\"input/6.txt\", \"r\") as file:\n",
    "    inpt = file.read()\n",
    "\n",
    "n = len(inpt)\n",
    "\n",
    "for i in range(n-4):\n",
    "    if len(set(inpt[i:i+4])) == 4:\n",
    "        print(i+4)\n",
    "        break"
   ]
  },
  {
   "attachments": {},
   "cell_type": "markdown",
   "metadata": {},
   "source": [
    "### Part 2"
   ]
  },
  {
   "cell_type": "code",
   "execution_count": 10,
   "metadata": {},
   "outputs": [
    {
     "name": "stdout",
     "output_type": "stream",
     "text": [
      "3708\n"
     ]
    }
   ],
   "source": [
    "for i in range(n-14):\n",
    "    if len(set(inpt[i:i+14])) == 14:\n",
    "        print(i+14)\n",
    "        break"
   ]
  },
  {
   "attachments": {},
   "cell_type": "markdown",
   "metadata": {},
   "source": [
    "## Day 7: No Space Left On Device\n",
    "\n",
    "### Part 1"
   ]
  },
  {
   "cell_type": "code",
   "execution_count": 181,
   "metadata": {},
   "outputs": [
    {
     "name": "stdout",
     "output_type": "stream",
     "text": [
      "1749646\n"
     ]
    }
   ],
   "source": [
    "class Node:\n",
    "    def __init__(self, path: list, size=None, is_dir: bool=True):\n",
    "        self.path   = path\n",
    "        self.is_dir = is_dir\n",
    "        if not self.is_dir:\n",
    "             self.size = size\n",
    "\n",
    "    @property\n",
    "    def parent(self) -> str:\n",
    "        return self.path[:len(self.path)-len(self.name)-1]\n",
    "\n",
    "    @property\n",
    "    def name(self) -> str:\n",
    "        return self.path.split(\"/\")[-1]\n",
    "\n",
    "class FileSystem:\n",
    "    def __init__(self):\n",
    "        self.nodes = {\n",
    "            \"/\": Node(\"/\")\n",
    "        } \n",
    "        self.pwd = self.nodes[\"/\"]\n",
    "\n",
    "    def cd(self, arg: str):\n",
    "        if arg == \"..\":\n",
    "            self.pwd = self.nodes[self.pwd.parent]\n",
    "        elif arg == \"/\":\n",
    "            self.pwd = self.nodes[\"/\"]\n",
    "        else:\n",
    "            self.pwd = self.nodes[self.pwd.path + f\"/{arg}\"]\n",
    "\n",
    "    def size(self, path: str) -> int:\n",
    "        if not self.nodes[path].is_dir:\n",
    "            return self.nodes[path].size\n",
    "        else:\n",
    "            return sum([self.size(child_path) for child_path in self.node_children(path)])\n",
    "\n",
    "    def add_node(self, node: Node):\n",
    "        self.nodes[node.path] = node\n",
    "\n",
    "    def node_children(self, path: str) -> list:\n",
    "        return [node.path for node in self.nodes.values() if node.parent == path]\n",
    "\n",
    "fs = FileSystem()\n",
    "\n",
    "with open(\"input/7.txt\", \"r\") as file:\n",
    "    inpt = file.read().split(\"\\n\")\n",
    "\n",
    "# Construct file system\n",
    "for line in inpt:\n",
    "    args = line.split()\n",
    "    if args[0] == \"$\" and args[1] == \"cd\":\n",
    "        fs.cd(args[2])\n",
    "    elif args[0] == \"dir\":\n",
    "        fs.add_node(Node(path=fs.pwd.path + f\"/{args[1]}\"))\n",
    "    elif not (args[0] == \"$\" and args[1] == \"ls\"):\n",
    "        fs.add_node(Node(path=fs.pwd.path + f\"/{args[1]}\", size=int(args[0]), is_dir=False))\n",
    "\n",
    "print(sum([s for path,node in fs.nodes.items() if node.is_dir and (s:=fs.size(path)) <= 100000]))"
   ]
  },
  {
   "attachments": {},
   "cell_type": "markdown",
   "metadata": {},
   "source": [
    "### Part 2"
   ]
  },
  {
   "cell_type": "code",
   "execution_count": 180,
   "metadata": {},
   "outputs": [
    {
     "name": "stdout",
     "output_type": "stream",
     "text": [
      "1498966\n"
     ]
    }
   ],
   "source": [
    "total_space   = 70000000\n",
    "needed_space  = 30000000\n",
    "size_root     = fs.size(\"/\")\n",
    "free_space    = total_space - size_root\n",
    "space_to_free = needed_space - free_space\n",
    "\n",
    "min_dir_size = total_space\n",
    "for node in filter(lambda x: x.is_dir, fs.nodes.values(), ):\n",
    "    node_size = fs.size(node.path)\n",
    "    if node_size >= space_to_free and node_size < min_dir_size:\n",
    "        min_dir_size = node_size\n",
    "\n",
    "print(min_dir_size)"
   ]
  },
  {
   "attachments": {},
   "cell_type": "markdown",
   "metadata": {},
   "source": [
    "## Day 8: Treetop Tree House\n",
    "\n",
    "### Part 1"
   ]
  },
  {
   "cell_type": "code",
   "execution_count": 64,
   "metadata": {},
   "outputs": [
    {
     "name": "stdout",
     "output_type": "stream",
     "text": [
      "1546\n"
     ]
    }
   ],
   "source": [
    "import numpy as np\n",
    "\n",
    "def check_trees(trees):\n",
    "    visible_trees = []\n",
    "    max_high_tree = -1 # i.e., all visible\n",
    "    for i,tree in enumerate(trees):\n",
    "        if tree > max_high_tree:\n",
    "            visible_trees.append(i)\n",
    "            max_high_tree = tree\n",
    "    return np.array(visible_trees)\n",
    "\n",
    "\n",
    "with open(\"input/8.txt\", \"r\") as file:\n",
    "    inpt = np.array([[int(n) for n in row] for row in file.read().split(\"\\n\")])\n",
    "\n",
    "m, n = inpt.shape\n",
    "visible = np.full((m,n), False)\n",
    "\n",
    "for i in range(m):\n",
    "    for j in range(n):\n",
    "        # Left <-> Right\n",
    "        visible[i,check_trees(inpt[i,:])] = True\n",
    "        visible[i,n - 1 - check_trees(inpt[i,::-1])] = True\n",
    "\n",
    "        # Top <-> Bottom\n",
    "        visible[check_trees(inpt[:,j]),j] = True\n",
    "        visible[n - 1 - check_trees(inpt[::-1,j]),j] = True\n",
    "\n",
    "print(np.sum(visible))"
   ]
  },
  {
   "attachments": {},
   "cell_type": "markdown",
   "metadata": {},
   "source": [
    "### Part 2"
   ]
  },
  {
   "cell_type": "code",
   "execution_count": 65,
   "metadata": {},
   "outputs": [
    {
     "name": "stdout",
     "output_type": "stream",
     "text": [
      "519064\n"
     ]
    }
   ],
   "source": [
    "def scenic_score(i,j,trees):\n",
    "    m, n = trees.shape\n",
    "    direction_scores = [0,0,0,0]\n",
    "\n",
    "    # To right\n",
    "    k = j + 1\n",
    "    while k < n and trees[i,k] < trees[i,j]:\n",
    "        direction_scores[0] += 1\n",
    "        k += 1\n",
    "    if k < n: direction_scores[0] += 1\n",
    "\n",
    "    # To left\n",
    "    k = j - 1\n",
    "    while k >= 0 and trees[i,k] < trees[i,j]:\n",
    "        direction_scores[1] += 1\n",
    "        k -= 1\n",
    "    if k >= 0: direction_scores[1] += 1\n",
    "\n",
    "    # To bottom\n",
    "    k = i + 1\n",
    "    while k < m and trees[k,j] < trees[i,j]:\n",
    "        direction_scores[2] += 1\n",
    "        k += 1\n",
    "    if k < m: direction_scores[2] += 1\n",
    "\n",
    "    # To top\n",
    "    k = i - 1\n",
    "    while k >= 0 and trees[k,j] < trees[i,j]:\n",
    "        direction_scores[3] += 1\n",
    "        k -= 1\n",
    "    if k >= 0: direction_scores[3] += 1\n",
    "\n",
    "    return np.prod(direction_scores)\n",
    "\n",
    "scores = [scenic_score(i,j,inpt) for i in range(m) for j in range(n)]\n",
    "print(np.max(scores))"
   ]
  },
  {
   "attachments": {},
   "cell_type": "markdown",
   "metadata": {},
   "source": [
    "## Day 9: Rope Bridge\n",
    "\n",
    "### Part 1"
   ]
  },
  {
   "cell_type": "code",
   "execution_count": 1,
   "metadata": {},
   "outputs": [
    {
     "name": "stdout",
     "output_type": "stream",
     "text": [
      "6376\n"
     ]
    }
   ],
   "source": [
    "import numpy as np\n",
    "\n",
    "with open(\"input/9.txt\", \"r\") as file:\n",
    "    inpt = file.read().split(\"\\n\")\n",
    "\n",
    "h = [0,0]\n",
    "t = [0,0]\n",
    "\n",
    "def sat(x,l,u):\n",
    "    assert l <= u\n",
    "    if x > u: return u\n",
    "    elif x < l: return l\n",
    "    else: return x\n",
    "\n",
    "\n",
    "def move(dir, h, t):\n",
    "    # Move head\n",
    "    if dir == \"L\":\n",
    "        h[0] -= 1\n",
    "    elif dir == \"R\":\n",
    "        h[0] += 1\n",
    "    elif dir == \"D\":\n",
    "        h[1] -= 1\n",
    "    elif dir == \"U\":\n",
    "        h[1] += 1\n",
    "\n",
    "    # Check tail\n",
    "    rel_x, rel_y = h[0] - t[0], h[1] - t[1] \n",
    "    are_adjacent = rel_x in range(-1,2) and rel_y in range(-1,2)\n",
    "    if not are_adjacent:\n",
    "        t[0] += sat(rel_x,-1,1)\n",
    "        t[1] += sat(rel_y,-1,1)\n",
    "\n",
    "    return h,t\n",
    "\n",
    "positions = {(0,0)}\n",
    "for line in inpt:\n",
    "    dir, n = line.split()\n",
    "    for _ in range(int(n)):\n",
    "        h, t = move(dir, h, t)\n",
    "        positions.add(tuple(t))\n",
    "\n",
    "print(len(positions))"
   ]
  },
  {
   "attachments": {},
   "cell_type": "markdown",
   "metadata": {},
   "source": [
    "### Part 2"
   ]
  },
  {
   "cell_type": "code",
   "execution_count": 70,
   "metadata": {},
   "outputs": [
    {
     "name": "stdout",
     "output_type": "stream",
     "text": [
      "2607\n"
     ]
    }
   ],
   "source": [
    "def move_head(dir, h):\n",
    "    if dir == \"L\":\n",
    "        h[0] -= 1\n",
    "    elif dir == \"R\":\n",
    "        h[0] += 1\n",
    "    elif dir == \"D\":\n",
    "        h[1] -= 1\n",
    "    elif dir == \"U\":\n",
    "        h[1] += 1\n",
    "    return h\n",
    "\n",
    "def follow(h, t):\n",
    "    rel_x, rel_y = h[0] - t[0], h[1] - t[1] \n",
    "    are_adjacent = rel_x in range(-1,2) and rel_y in range(-1,2)\n",
    "    if not are_adjacent:\n",
    "        t[0] += sat(rel_x,-1,1)\n",
    "        t[1] += sat(rel_y,-1,1)\n",
    "    return t\n",
    "\n",
    "positions = {(0,0)}\n",
    "\n",
    "l = 10\n",
    "rope = [[0,0] for _ in range(l)]\n",
    "for line in inpt:\n",
    "    dir, n = line.split()\n",
    "    for _ in range(int(n)):\n",
    "        rope[0] = move_head(dir, rope[0])\n",
    "        for i in range(1,l):\n",
    "            rope[i] = follow(rope[i-1], rope[i])\n",
    "        positions.add(tuple(rope[-1]))\n",
    "\n",
    "print(len(positions))"
   ]
  },
  {
   "attachments": {},
   "cell_type": "markdown",
   "metadata": {},
   "source": [
    "## Day 10: Cathode-Ray Tube\n",
    "\n",
    "### Part 1"
   ]
  },
  {
   "cell_type": "code",
   "execution_count": 24,
   "metadata": {},
   "outputs": [
    {
     "name": "stdout",
     "output_type": "stream",
     "text": [
      "14420\n"
     ]
    }
   ],
   "source": [
    "with open(\"input/10.txt\", \"r\") as file:\n",
    "    inpt = file.read().split(\"\\n\")\n",
    "\n",
    "# inpt = [\n",
    "#     \"noop\",\n",
    "#     \"addx 3\",\n",
    "#     \"addx -5\"\n",
    "# ]\n",
    "\n",
    "check = [19, 59, 99, 139, 179, 219]\n",
    "\n",
    "X = [1]\n",
    "for line in inpt:\n",
    "    if line != \"noop\":\n",
    "        cmd, v = line.split()\n",
    "        X.append(X[-1])\n",
    "        X.append(X[-1] + int(v))\n",
    "    else:\n",
    "        X.append(X[-1])\n",
    "\n",
    "print(sum([(i+1)*X[i] for i in check]))\n"
   ]
  },
  {
   "attachments": {},
   "cell_type": "markdown",
   "metadata": {},
   "source": [
    "### Part 2"
   ]
  },
  {
   "cell_type": "code",
   "execution_count": 26,
   "metadata": {},
   "outputs": [
    {
     "name": "stdout",
     "output_type": "stream",
     "text": [
      "###...##..#....###..###..####..##..#..#.\n",
      "#..#.#..#.#....#..#.#..#....#.#..#.#..#.\n",
      "#..#.#....#....#..#.###....#..#..#.#..#.\n",
      "###..#.##.#....###..#..#..#...####.#..#.\n",
      "#.#..#..#.#....#.#..#..#.#....#..#.#..#.\n",
      "#..#..###.####.#..#.###..####.#..#..##..\n"
     ]
    }
   ],
   "source": [
    "crt = [\"#\" if i % 40 in range(x-1,x+2) else \".\" for i,x in enumerate(X)]\n",
    "\n",
    "for i in range(6):\n",
    "    print(''.join(crt[40*i:40*(i+1)]))"
   ]
  },
  {
   "attachments": {},
   "cell_type": "markdown",
   "metadata": {},
   "source": [
    "## Day 11: Monkey in the Middle\n",
    "\n",
    "### Part 1"
   ]
  },
  {
   "cell_type": "code",
   "execution_count": 106,
   "metadata": {},
   "outputs": [
    {
     "name": "stdout",
     "output_type": "stream",
     "text": [
      "55458\n"
     ]
    }
   ],
   "source": [
    "with open(\"input/11.txt\", \"r\") as file:\n",
    "    inpt = file.read().split(\"\\n\")\n",
    "l = len(inpt)\n",
    "\n",
    "R = range(20)\n",
    "monkeys = dict()\n",
    "\n",
    "j = 0\n",
    "for i in range(0,l,7):\n",
    "    block = inpt[i:i+7]\n",
    "    monkeys[j] = {\n",
    "        \"obj\": [int(n) for n in block[1][18:].split(\", \")],\n",
    "        \"new\": block[2][19:],\n",
    "        \"test\": int(block[3][21:]),\n",
    "        \"true\" : int(block[4][-1]),\n",
    "        \"false\": int(block[5][-1]),\n",
    "        \"num_inspected\": 0\n",
    "    }\n",
    "    j += 1\n",
    "\n",
    "for _ in R:\n",
    "    for monkey in monkeys.values():\n",
    "        while monkey[\"obj\"]:\n",
    "            old = monkey[\"obj\"][0]\n",
    "            new = eval(monkey[\"new\"]) // 3\n",
    "            if new % monkey[\"test\"] == 0:\n",
    "                monkeys[monkey[\"true\"]][\"obj\"].append(new)\n",
    "            else:\n",
    "                monkeys[monkey[\"false\"]][\"obj\"].append(new)\n",
    "            monkey[\"obj\"] = monkey[\"obj\"][1:]\n",
    "            monkey[\"num_inspected\"] += 1\n",
    "\n",
    "num_inspected_ord = sorted([monkey[\"num_inspected\"] for monkey in monkeys.values()])\n",
    "print(num_inspected_ord[-1]*num_inspected_ord[-2])"
   ]
  },
  {
   "attachments": {},
   "cell_type": "markdown",
   "metadata": {},
   "source": [
    "### Part 2"
   ]
  },
  {
   "cell_type": "code",
   "execution_count": 108,
   "metadata": {},
   "outputs": [
    {
     "name": "stdout",
     "output_type": "stream",
     "text": [
      "14508081294\n"
     ]
    }
   ],
   "source": [
    "R = range(10000)\n",
    "monkeys = dict()\n",
    "\n",
    "j = 0\n",
    "for i in range(0,l,7):\n",
    "    block = inpt[i:i+7]\n",
    "    monkeys[j] = {\n",
    "        \"obj\": [int(n) for n in block[1][18:].split(\", \")],\n",
    "        \"new\": block[2][19:],\n",
    "        \"test\": int(block[3][21:]),\n",
    "        \"true\" : int(block[4][-1]),\n",
    "        \"false\": int(block[5][-1]),\n",
    "        \"num_inspected\": 0\n",
    "    }\n",
    "    j += 1\n",
    "\n",
    "# (Least common multiple for the test values)\n",
    "lcm = 1\n",
    "for monkey in monkeys.values():\n",
    "    lcm *= monkey[\"test\"]\n",
    "\n",
    "for k in R:\n",
    "    for monkey in monkeys.values():\n",
    "        while monkey[\"obj\"]:\n",
    "            old = monkey[\"obj\"][0]\n",
    "            new = eval(monkey[\"new\"]) % lcm\n",
    "            if new % monkey[\"test\"] == 0:\n",
    "                monkeys[monkey[\"true\"]][\"obj\"].append(new)\n",
    "            else:\n",
    "                monkeys[monkey[\"false\"]][\"obj\"].append(new)\n",
    "            monkey[\"obj\"] = monkey[\"obj\"][1:]\n",
    "            monkey[\"num_inspected\"] += 1\n",
    "\n",
    "num_inspected_ord = sorted([monkey[\"num_inspected\"] for monkey in monkeys.values()])\n",
    "print(num_inspected_ord[-1]*num_inspected_ord[-2])"
   ]
  },
  {
   "attachments": {},
   "cell_type": "markdown",
   "metadata": {},
   "source": [
    "## Day 12: Hill Climbing Algorithm\n",
    "\n",
    "### Part 1"
   ]
  },
  {
   "cell_type": "code",
   "execution_count": 121,
   "metadata": {},
   "outputs": [
    {
     "name": "stdout",
     "output_type": "stream",
     "text": [
      "370\n"
     ]
    }
   ],
   "source": [
    "from string import ascii_lowercase\n",
    "import networkx as nx\n",
    "import numpy as np\n",
    "\n",
    "with open(\"input/12.txt\", \"r\") as file:\n",
    "    inpt = file.read().split(\"\\n\")\n",
    "\n",
    "letter2high = {letter: i for i,letter in enumerate(ascii_lowercase)} | {\"S\": 0, \"E\": 25}\n",
    "\n",
    "n, m = len(inpt), len(inpt[0])\n",
    "\n",
    "graph = nx.DiGraph()\n",
    "for i in range(n):\n",
    "    for j in range(m):\n",
    "        letter = inpt[i][j]\n",
    "        index  = np.ravel_multi_index((i,j), (n,m))\n",
    "        if letter == \"S\": start = index\n",
    "        elif letter == \"E\": end = index\n",
    "        neighbors = {(i+1,j), (i-1,j), (i,j+1), (i,j-1)}\n",
    "        apt = lambda x: x[0] in range(n) and x[1] in range(m) and \\\n",
    "                        letter2high[inpt[x[0]][x[1]]] <= letter2high[letter] + 1\n",
    "        for node in filter(apt, neighbors):\n",
    "            node_letter = inpt[node[0]][node[1]]\n",
    "            node_index  = np.ravel_multi_index(node, (n,m))\n",
    "            graph.add_node(index, height=letter2high[letter])\n",
    "            graph.add_node(node_index, height=letter2high[inpt[node[0]][node[1]]])\n",
    "            graph.add_edge(index, node_index)\n",
    "\n",
    "print(nx.shortest_path_length(graph, start, end))"
   ]
  },
  {
   "attachments": {},
   "cell_type": "markdown",
   "metadata": {},
   "source": [
    "### Part 2"
   ]
  },
  {
   "cell_type": "code",
   "execution_count": 128,
   "metadata": {},
   "outputs": [
    {
     "data": {
      "text/plain": [
       "363"
      ]
     },
     "execution_count": 128,
     "metadata": {},
     "output_type": "execute_result"
    }
   ],
   "source": [
    "distances = []\n",
    "for index,node in graph.nodes(data=True):\n",
    "    if node[\"height\"] == 0:\n",
    "        try:\n",
    "            distances.append(nx.shortest_path_length(graph, index, end))\n",
    "        except nx.NetworkXNoPath:\n",
    "            pass\n",
    "\n",
    "print(min(distances))"
   ]
  },
  {
   "attachments": {},
   "cell_type": "markdown",
   "metadata": {},
   "source": [
    "## Day 13: Distress Signal\n",
    "\n",
    "### Part 1"
   ]
  },
  {
   "cell_type": "code",
   "execution_count": 43,
   "metadata": {},
   "outputs": [
    {
     "name": "stdout",
     "output_type": "stream",
     "text": [
      "4821\n"
     ]
    }
   ],
   "source": [
    "with open(\"input/13.txt\", \"r\") as file:\n",
    "    inpt = file.read().split(\"\\n\")\n",
    "\n",
    "inpt = [eval(inpt[i]) for i in range(len(inpt)) if inpt[i] != \"\"]\n",
    "l = len(inpt)\n",
    "\n",
    "def is_right_order(list1, list2):\n",
    "    n1 = len(list1)\n",
    "    n2 = len(list2)\n",
    "    for i in range(min(n1,n2)):\n",
    "        if isinstance(list1[i], int) and isinstance(list2[i], int) and list1[i] < list2[i]:\n",
    "            return True\n",
    "        elif isinstance(list1[i], int) and isinstance(list2[i], int) and list1[i] > list2[i]:\n",
    "            return False\n",
    "        elif isinstance(list1[i], list) and isinstance(list2[i], int):\n",
    "            if (res:=is_right_order(list1[i], [list2[i]])) is not None:\n",
    "                return res\n",
    "        elif isinstance(list1[i], int) and isinstance(list2[i], list):\n",
    "            if (res:=is_right_order([list1[i]], list2[i])) is not None:\n",
    "                return res\n",
    "        elif isinstance(list1[i], list) and isinstance(list2[i], list):\n",
    "            if (res:=is_right_order(list1[i], list2[i])) is not None:\n",
    "                return res\n",
    "    if n1 > n2:\n",
    "        return False\n",
    "    elif n1 < n2:\n",
    "        return True\n",
    "\n",
    "\n",
    "total = 0\n",
    "for i in range(0,l-1,2):\n",
    "    line1 = inpt[i]\n",
    "    line2 = inpt[i+1]\n",
    "    if is_right_order(line1, line2):\n",
    "        total += i // 2 + 1\n",
    "\n",
    "print(total)"
   ]
  },
  {
   "attachments": {},
   "cell_type": "markdown",
   "metadata": {},
   "source": [
    "### Part 2"
   ]
  },
  {
   "cell_type": "code",
   "execution_count": 44,
   "metadata": {},
   "outputs": [
    {
     "name": "stdout",
     "output_type": "stream",
     "text": [
      "21890\n"
     ]
    }
   ],
   "source": [
    "inpt.extend([[[2]], [[6]]])\n",
    "\n",
    "l = len(inpt)\n",
    "\n",
    "for i in range(l):\n",
    "    for j in range(i+1,l):\n",
    "        line1 = inpt[i]\n",
    "        line2 = inpt[j]\n",
    "        if not is_right_order(line1, line2):\n",
    "            inpt[i], inpt[j] = line2, line1\n",
    "\n",
    "print((inpt.index([[2]]) + 1)*(inpt.index([[6]]) + 1))"
   ]
  },
  {
   "attachments": {},
   "cell_type": "markdown",
   "metadata": {},
   "source": [
    "## Day 14: Regolith Reservoir\n",
    "\n",
    "### Part 1"
   ]
  },
  {
   "cell_type": "code",
   "execution_count": 58,
   "metadata": {},
   "outputs": [
    {
     "name": "stdout",
     "output_type": "stream",
     "text": [
      "1072\n"
     ]
    }
   ],
   "source": [
    "with open(\"input/14.txt\", \"r\") as file:\n",
    "    inpt = file.read().split(\"\\n\") \n",
    "\n",
    "y_max_limit = 0\n",
    "\n",
    "# Create the map\n",
    "rocks, sand = set(), set()\n",
    "for line in inpt:\n",
    "    line = [eval(f\"({s.strip()})\") for s in line.split(\"->\")]\n",
    "    line_len = len(line)\n",
    "    for i in range(line_len-1):\n",
    "        p1, p2 = line[i:i+2]\n",
    "        if p1[0] == p2[0]:\n",
    "            y_min, y_max = min(p1[1],p2[1]), max(p1[1],p2[1])\n",
    "            if y_max > y_max_limit: y_max_limit = y_max\n",
    "            for y in range(y_min, y_max+1):\n",
    "                rocks.add((p1[0], y))\n",
    "        else:\n",
    "            x_min, x_max = min(p1[0], p2[0]), max(p1[0], p2[0])\n",
    "            for x in range(x_min, x_max+1):\n",
    "                rocks.add((x, p1[1]))\n",
    "\n",
    "# Simulate\n",
    "s = (500,0)\n",
    "while True:\n",
    "    if s[1]+1 > y_max_limit: break\n",
    "    s_down  = (s[0], s[1]+1)\n",
    "    s_left  = (s[0]-1, s[1]+1)\n",
    "    s_right = (s[0]+1, s[1]+1)\n",
    "    if s_down not in rocks and s_down not in sand:\n",
    "        s = s_down\n",
    "    elif s_left not in rocks and s_left not in sand:\n",
    "        s = s_left\n",
    "    elif s_right not in rocks and s_right not in sand:\n",
    "        s = s_right\n",
    "    else:\n",
    "        sand.add(s)\n",
    "        s = (500,0)\n",
    "\n",
    "print(len(sand))"
   ]
  },
  {
   "attachments": {},
   "cell_type": "markdown",
   "metadata": {},
   "source": [
    "### Part 2"
   ]
  },
  {
   "cell_type": "code",
   "execution_count": 59,
   "metadata": {},
   "outputs": [
    {
     "name": "stdout",
     "output_type": "stream",
     "text": [
      "24659\n"
     ]
    }
   ],
   "source": [
    "y_max_limit = 0\n",
    "\n",
    "# Create the map\n",
    "rocks, sand = set(), set()\n",
    "for line in inpt:\n",
    "    line = [eval(f\"({s.strip()})\") for s in line.split(\"->\")]\n",
    "    line_len = len(line)\n",
    "    for i in range(line_len-1):\n",
    "        p1, p2 = line[i:i+2]\n",
    "        if p1[0] == p2[0]:\n",
    "            y_min, y_max = min(p1[1],p2[1]), max(p1[1],p2[1])\n",
    "            if y_max > y_max_limit: y_max_limit = y_max\n",
    "            for y in range(y_min, y_max+1):\n",
    "                rocks.add((p1[0], y))\n",
    "        else:\n",
    "            x_min, x_max = min(p1[0], p2[0]), max(p1[0], p2[0])\n",
    "            for x in range(x_min, x_max+1):\n",
    "                rocks.add((x, p1[1]))\n",
    "\n",
    "floor = y_max_limit + 2\n",
    "\n",
    "# Simulate\n",
    "s = (500,0)\n",
    "while True:\n",
    "    if s[1]+1 == floor: \n",
    "        sand.add(s)\n",
    "        s = (500,0)\n",
    "    else:\n",
    "        s_down  = (s[0], s[1]+1)\n",
    "        s_left  = (s[0]-1, s[1]+1)\n",
    "        s_right = (s[0]+1, s[1]+1)\n",
    "        if s_down not in rocks and s_down not in sand:\n",
    "            s = s_down\n",
    "        elif s_left not in rocks and s_left not in sand:\n",
    "            s = s_left\n",
    "        elif s_right not in rocks and s_right not in sand:\n",
    "            s = s_right\n",
    "        else:\n",
    "            sand.add(s)\n",
    "            if s == (500,0): \n",
    "                break\n",
    "            else:\n",
    "                s = (500,0)\n",
    "\n",
    "print(len(sand))"
   ]
  },
  {
   "attachments": {},
   "cell_type": "markdown",
   "metadata": {},
   "source": [
    "## Day 15: Beacon Exclusion Zone\n",
    "\n",
    "### Part 1"
   ]
  },
  {
   "cell_type": "code",
   "execution_count": 27,
   "metadata": {},
   "outputs": [
    {
     "name": "stdout",
     "output_type": "stream",
     "text": [
      "4919281\n"
     ]
    }
   ],
   "source": [
    "import re\n",
    "\n",
    "with open(\"input/15.txt\", \"r\") as file:\n",
    "    inpt = file.read().split(\"\\n\")\n",
    "\n",
    "sensors = set()\n",
    "for line in inpt:\n",
    "    sx, sy, bx, by = list(map(int, re.findall(r\"-?\\d+\", line)))\n",
    "    dist = abs(sx - bx) + abs(sy - by)\n",
    "    sensors.add((sx, sy, bx, by, dist))\n",
    "\n",
    "y = 2000000\n",
    "\n",
    "excluded = set()\n",
    "for sensor in sensors:\n",
    "    sx, sy, bx, by, dist = sensor\n",
    "    least_dist = abs(sy - y)\n",
    "    if least_dist <= dist:\n",
    "        excluded |= {(x,y) for x in range(sx-dist+least_dist, sx+dist-least_dist+1)}\n",
    "    excluded -= {(bx,by), (sx,sy)}\n",
    "\n",
    "print(len(excluded))"
   ]
  },
  {
   "attachments": {},
   "cell_type": "markdown",
   "metadata": {},
   "source": [
    "### Part 2"
   ]
  },
  {
   "cell_type": "code",
   "execution_count": 28,
   "metadata": {},
   "outputs": [
    {
     "name": "stdout",
     "output_type": "stream",
     "text": [
      "12630143363767\n"
     ]
    }
   ],
   "source": [
    "limit = 4000000\n",
    "\n",
    "point = None\n",
    "for y in range(limit):\n",
    "    if point: break\n",
    "    intervals = list()\n",
    "    for sensor in sensors:\n",
    "        sx, sy, bx, by, dist = sensor\n",
    "        least_dist = abs(sy - y)\n",
    "        if least_dist <= dist:\n",
    "            intervals.append((sx-dist+least_dist, sx+dist-least_dist))\n",
    "    \n",
    "    sorted_interval = sorted(intervals, key=lambda x: x[0])\n",
    "    current_interval = sorted_interval[0]\n",
    "    for inteval in sorted_interval[1:]:\n",
    "        c1, c2, n1, n2 = current_interval + inteval\n",
    "        if n1 <= c2 + 1:\n",
    "            current_interval = (min(c1,n1), max(c2,n2))\n",
    "        else:\n",
    "            point = (current_interval[1]+1,y)\n",
    "            break\n",
    "    \n",
    "print(4000000*point[0] + point[1])"
   ]
  }
 ],
 "metadata": {
  "kernelspec": {
   "display_name": "Python 3.10.0 64-bit",
   "language": "python",
   "name": "python3"
  },
  "language_info": {
   "codemirror_mode": {
    "name": "ipython",
    "version": 3
   },
   "file_extension": ".py",
   "mimetype": "text/x-python",
   "name": "python",
   "nbconvert_exporter": "python",
   "pygments_lexer": "ipython3",
   "version": "3.10.0"
  },
  "orig_nbformat": 4,
  "vscode": {
   "interpreter": {
    "hash": "85c576d62e5a69baba7dcae6282c7bf6fba6f8d537c9cbb11ca984aece3c77a0"
   }
  }
 },
 "nbformat": 4,
 "nbformat_minor": 2
}
