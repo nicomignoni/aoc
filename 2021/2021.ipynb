{
 "cells": [
  {
   "cell_type": "markdown",
   "metadata": {},
   "source": [
    "# Advent of Code 2021"
   ]
  },
  {
   "attachments": {},
   "cell_type": "markdown",
   "metadata": {},
   "source": [
    "## Day 1: Sonar Sweep\n",
    "\n",
    "### Part 1"
   ]
  },
  {
   "cell_type": "code",
   "execution_count": 1,
   "metadata": {},
   "outputs": [
    {
     "name": "stdout",
     "output_type": "stream",
     "text": [
      "1154\n"
     ]
    }
   ],
   "source": [
    "with open(\"input/1.txt\", \"r\") as file:\n",
    "    inpt = [int(n) for n in file.readlines()]\n",
    "\n",
    "increase = 0\n",
    "for i in range(len(inpt)-1):\n",
    "    if inpt[i+1] > inpt[i]:\n",
    "        increase += 1\n",
    "\n",
    "print(increase)"
   ]
  },
  {
   "attachments": {},
   "cell_type": "markdown",
   "metadata": {},
   "source": [
    "### Part 2"
   ]
  },
  {
   "cell_type": "code",
   "execution_count": 2,
   "metadata": {},
   "outputs": [
    {
     "name": "stdout",
     "output_type": "stream",
     "text": [
      "1127\n"
     ]
    }
   ],
   "source": [
    "increase = 0\n",
    "for i in range(len(inpt)-3):\n",
    "    if sum(inpt[i:i+3]) < sum(inpt[i+1:i+4]):\n",
    "        increase += 1\n",
    "\n",
    "print(increase)"
   ]
  },
  {
   "attachments": {},
   "cell_type": "markdown",
   "metadata": {},
   "source": [
    "## Day 2: Dive!\n",
    "\n",
    "### Part 1"
   ]
  },
  {
   "cell_type": "code",
   "execution_count": 3,
   "metadata": {},
   "outputs": [
    {
     "name": "stdout",
     "output_type": "stream",
     "text": [
      "2150351\n"
     ]
    }
   ],
   "source": [
    "with open(\"input/2.txt\", \"r\") as file:\n",
    "    inpt = file.readlines()\n",
    "\n",
    "h = 0\n",
    "d = 0\n",
    "for order in inpt:\n",
    "    direction, amount = order.split()\n",
    "    if direction == \"down\":\n",
    "        d += int(amount)\n",
    "    elif direction == \"up\":\n",
    "        d -= int(amount)\n",
    "    elif direction == \"forward\":\n",
    "        h += int(amount)\n",
    "\n",
    "print(d*h)"
   ]
  },
  {
   "attachments": {},
   "cell_type": "markdown",
   "metadata": {},
   "source": [
    "### Part 2"
   ]
  },
  {
   "cell_type": "code",
   "execution_count": 4,
   "metadata": {},
   "outputs": [
    {
     "name": "stdout",
     "output_type": "stream",
     "text": [
      "1842742223\n"
     ]
    }
   ],
   "source": [
    "a = 0\n",
    "h = 0\n",
    "d = 0\n",
    "for order in inpt:\n",
    "    direction, amount = order.split()\n",
    "    if direction == \"down\":\n",
    "        a += int(amount)\n",
    "    elif direction == \"up\":\n",
    "        a -= int(amount)\n",
    "    elif direction == \"forward\":\n",
    "        h += int(amount)\n",
    "        d += a*int(amount)\n",
    "\n",
    "print(d*h)"
   ]
  },
  {
   "attachments": {},
   "cell_type": "markdown",
   "metadata": {},
   "source": [
    "## Day 3: Binary Diagnostic\n",
    "\n",
    "### Part 1"
   ]
  },
  {
   "cell_type": "code",
   "execution_count": 5,
   "metadata": {},
   "outputs": [
    {
     "name": "stdout",
     "output_type": "stream",
     "text": [
      "3320834\n"
     ]
    }
   ],
   "source": [
    "with open(\"input/3.txt\", \"r\") as file:\n",
    "    inpt = file.read().splitlines()\n",
    "\n",
    "gamma = [\"0\" for _ in range(12)]\n",
    "epsilon = [\"0\" for _ in range(12)]\n",
    "\n",
    "one_frequency = [0 for _ in range(12)]\n",
    "zero_frequency = [0 for _ in range(12)]\n",
    "\n",
    "for line in inpt:\n",
    "    for i,bit in enumerate(line):\n",
    "        if bit == \"1\":\n",
    "            one_frequency[i] += 1\n",
    "        else:\n",
    "            zero_frequency[i] += 1\n",
    "        if one_frequency[i] > zero_frequency[i]:\n",
    "            gamma[i] = \"1\"\n",
    "            epsilon[i] = \"0\"\n",
    "        else:\n",
    "            gamma[i] = \"0\"\n",
    "            epsilon[i] = \"1\"\n",
    "\n",
    "print(int(''.join(gamma),2)*int(''.join(epsilon),2))"
   ]
  },
  {
   "attachments": {},
   "cell_type": "markdown",
   "metadata": {},
   "source": [
    "### Part 2"
   ]
  },
  {
   "cell_type": "code",
   "execution_count": 6,
   "metadata": {},
   "outputs": [
    {
     "name": "stdout",
     "output_type": "stream",
     "text": [
      "4481199\n"
     ]
    }
   ],
   "source": [
    "index_oxigen = list(range(len(inpt)))\n",
    "l = len(index_oxigen)\n",
    "k = 0\n",
    "while len(index_oxigen) != 1:\n",
    "    one_freq = sum([int(inpt[i][k]) for i in index_oxigen])\n",
    "    zero_freq = l - one_freq\n",
    "\n",
    "    if one_freq >= zero_freq:\n",
    "        oxigen_criterion = \"1\"\n",
    "    else:\n",
    "        oxigen_criterion = \"0\"\n",
    "    \n",
    "    h = 0\n",
    "    while h < len(index_oxigen):\n",
    "        if inpt[index_oxigen[h]][k] != oxigen_criterion:\n",
    "            del index_oxigen[h]\n",
    "        else:\n",
    "            h += 1\n",
    "    k += 1\n",
    "    l = len(index_oxigen)\n",
    "\n",
    "index_scrubber = list(range(len(inpt)))\n",
    "l = len(index_scrubber)\n",
    "k = 0\n",
    "while len(index_scrubber) != 1:\n",
    "    one_freq = sum([int(inpt[i][k]) for i in index_scrubber])\n",
    "    zero_freq = l - one_freq\n",
    "\n",
    "    if one_freq >= zero_freq:\n",
    "        scrubber_criterion = \"0\"\n",
    "    else:\n",
    "        scrubber_criterion = \"1\"\n",
    "\n",
    "    h = 0\n",
    "    while h < len(index_scrubber):\n",
    "        if inpt[index_scrubber[h]][k] != scrubber_criterion:\n",
    "            del index_scrubber[h]\n",
    "        else:\n",
    "            h += 1\n",
    "    k += 1\n",
    "    l = len(index_scrubber)\n",
    "\n",
    "oxigen = int(inpt[index_oxigen[0]], 2)\n",
    "scrubber = int(inpt[index_scrubber[0]], 2)\n",
    "print(oxigen*scrubber)"
   ]
  },
  {
   "attachments": {},
   "cell_type": "markdown",
   "metadata": {},
   "source": [
    "## Day 4: Giant Squid\n",
    "\n",
    "### Part 1"
   ]
  },
  {
   "cell_type": "code",
   "execution_count": 7,
   "metadata": {},
   "outputs": [
    {
     "name": "stdout",
     "output_type": "stream",
     "text": [
      "49860\n"
     ]
    }
   ],
   "source": [
    "def check_number(board, n):\n",
    "    l = len(board)\n",
    "    for i in range(l):\n",
    "        for j in range(l):\n",
    "            if board[i][j][0] == n:\n",
    "                board[i][j][1] = True\n",
    "\n",
    "def is_bingo(board):\n",
    "    l = len(board[0])\n",
    "    counter = [[0 for _ in range(l)] for _ in range(2)]\n",
    "    for i in range(l):\n",
    "        for j in range(l):\n",
    "            if board[i][j][1]:\n",
    "                counter[0][i] += 1\n",
    "                counter[1][j] += 1\n",
    "    return any(c == 5 for c in counter[0]) or any(c == 5 for c in counter[1])\n",
    "\n",
    "def score(board):\n",
    "    l = len(board[0])\n",
    "    score = 0\n",
    "    for i in range(l):\n",
    "        for j in range(l):\n",
    "            if not board[i][j][1]:\n",
    "                score += board[i][j][0]\n",
    "    return score\n",
    "\n",
    "def print_board(board):\n",
    "    for row in board:\n",
    "        print(row)\n",
    "    print()\n",
    "\n",
    "    \n",
    "with open(\"input/4.txt\") as file:\n",
    "    inpt = file.read().split(\"\\n\\n\")\n",
    "\n",
    "numbers = [int(n) for n in inpt[0].split(\",\")]\n",
    "boards = [[[[int(n), False] for n in row.split()] for row in line.split(\"\\n\")] for line in inpt[1:]]\n",
    "\n",
    "someone_made_bingo = False\n",
    "for number in numbers:\n",
    "    for board in boards:\n",
    "        check_number(board, number)\n",
    "        if is_bingo(board):\n",
    "            print(score(board)*number)\n",
    "            someone_made_bingo = True\n",
    "            break\n",
    "    if someone_made_bingo:\n",
    "        break"
   ]
  },
  {
   "attachments": {},
   "cell_type": "markdown",
   "metadata": {},
   "source": [
    "### Part 2"
   ]
  },
  {
   "cell_type": "code",
   "execution_count": 8,
   "metadata": {},
   "outputs": [
    {
     "name": "stdout",
     "output_type": "stream",
     "text": [
      "24628\n"
     ]
    }
   ],
   "source": [
    "last_board = False\n",
    "for number in numbers:\n",
    "    boards_to_remove = list()\n",
    "    for i,board in enumerate(boards):\n",
    "        check_number(board, number)\n",
    "        if is_bingo(board):\n",
    "            if len(boards) == 1:\n",
    "                print(score(board)*number)\n",
    "                last_board = True\n",
    "                break\n",
    "            else:\n",
    "                boards_to_remove.append(i)\n",
    "    if last_board:\n",
    "        break\n",
    "    for i in sorted(boards_to_remove, reverse=True):\n",
    "        del boards[i]"
   ]
  },
  {
   "attachments": {},
   "cell_type": "markdown",
   "metadata": {},
   "source": [
    "## Day 5: Hydrothermal Venture\n",
    "\n",
    "### Part 1"
   ]
  },
  {
   "cell_type": "code",
   "execution_count": 10,
   "metadata": {},
   "outputs": [
    {
     "name": "stdout",
     "output_type": "stream",
     "text": [
      "5576\n"
     ]
    }
   ],
   "source": [
    "with open(\"input/5.txt\", \"r\") as file:\n",
    "    inpt = file.readlines()\n",
    "\n",
    "def sgn(x,y):\n",
    "    if x - y == 0:\n",
    "        return 0\n",
    "    else:\n",
    "        return (x-y) // abs(x-y)\n",
    "\n",
    "points = dict()\n",
    "\n",
    "for line in inpt:\n",
    "    coords = line.split(\" -> \")\n",
    "    x1, y1 = list(map(int, coords[0].split(\",\")))\n",
    "    x2, y2 = list(map(int, coords[1].split(\",\")))\n",
    "    if (x1 == x2 or y1 == y2):\n",
    "        dirx = sgn(x2,x1)\n",
    "        diry = sgn(y2,y1)\n",
    "        x, y = x1, y1\n",
    "        while True:\n",
    "            if (x,y) in points:\n",
    "                points[(x,y)] += 1\n",
    "            else:\n",
    "                points[(x,y)] = 1\n",
    "            if x == x2 and y == y2:\n",
    "                break\n",
    "            else:\n",
    "                x += dirx\n",
    "                y += diry\n",
    "                \n",
    "counter = 0\n",
    "for point in points:\n",
    "    if points[point] >= 2:\n",
    "        counter += 1\n",
    "\n",
    "print(counter)"
   ]
  },
  {
   "attachments": {},
   "cell_type": "markdown",
   "metadata": {},
   "source": [
    "### Part 2"
   ]
  },
  {
   "cell_type": "code",
   "execution_count": 11,
   "metadata": {},
   "outputs": [
    {
     "name": "stdout",
     "output_type": "stream",
     "text": [
      "18144\n"
     ]
    }
   ],
   "source": [
    "points = dict()\n",
    "\n",
    "for line in inpt:\n",
    "    coords = line.split(\" -> \")\n",
    "    x1, y1 = list(map(int, coords[0].split(\",\")))\n",
    "    x2, y2 = list(map(int, coords[1].split(\",\")))\n",
    "    if (x1 == x2 or y1 == y2) or abs(x1-x2) == abs(y1-y2):\n",
    "        dirx = sgn(x2,x1)\n",
    "        diry = sgn(y2,y1)\n",
    "        x, y = x1, y1\n",
    "        while True:\n",
    "            if (x,y) in points:\n",
    "                points[(x,y)] += 1\n",
    "            else:\n",
    "                points[(x,y)] = 1\n",
    "            if x == x2 and y == y2:\n",
    "                break\n",
    "            else:\n",
    "                x += dirx\n",
    "                y += diry\n",
    "                \n",
    "counter = 0\n",
    "for point in points:\n",
    "    if points[point] >= 2:\n",
    "        counter += 1\n",
    "\n",
    "print(counter)"
   ]
  },
  {
   "attachments": {},
   "cell_type": "markdown",
   "metadata": {},
   "source": [
    "## Day 6: Lanternfish\n",
    "\n",
    "### Part 1"
   ]
  },
  {
   "cell_type": "code",
   "execution_count": null,
   "metadata": {},
   "outputs": [],
   "source": [
    "with open(\"input/6.txt\", \"r\") as file:\n",
    "    inpt = list(map(int, file.read().split(\",\")))\n",
    "\n",
    "DAYS = 256\n",
    "\n",
    "for _ in range(DAYS):\n",
    "    newborns = 0\n",
    "    for i in range(len(inpt)):\n",
    "        if inpt[i] == 0:\n",
    "            newborns += 1\n",
    "            inpt[i] = 6\n",
    "        else:\n",
    "            inpt[i] -= 1\n",
    "            \n",
    "    inpt += [8 for _ in range(newborns)]\n",
    "\n",
    "print(len(inpt))"
   ]
  },
  {
   "attachments": {},
   "cell_type": "markdown",
   "metadata": {},
   "source": [
    "### Part 2"
   ]
  },
  {
   "cell_type": "code",
   "execution_count": null,
   "metadata": {},
   "outputs": [],
   "source": [
    "s = [[0,0] for _ in range(9)]\n",
    "for n in inpt:\n",
    "    s[n][0] += 1\n",
    "\n",
    "print(s)\n",
    "\n",
    "for _ in range(DAYS):\n",
    "    s[0][1] = s[1][0]\n",
    "    s[1][1] = s[2][0]\n",
    "    s[2][1] = s[3][0]\n",
    "    s[3][1] = s[4][0]\n",
    "    s[4][1] = s[5][0]\n",
    "    s[5][1] = s[6][0]\n",
    "    s[6][1] = s[7][0] + s[0][0]\n",
    "    s[7][1] = s[8][0]\n",
    "    s[8][1] = s[0][0]\n",
    "    N = sum([e[1] for e in s])\n",
    "    for i in range(len(s)):\n",
    "        s[i][0], s[i][1] = s[i][1], 0\n",
    "\n",
    "print(N)"
   ]
  },
  {
   "attachments": {},
   "cell_type": "markdown",
   "metadata": {},
   "source": [
    "## Day 7: The Treachery of Whales\n",
    "\n",
    "### Part 1"
   ]
  },
  {
   "cell_type": "code",
   "execution_count": 14,
   "metadata": {},
   "outputs": [
    {
     "name": "stdout",
     "output_type": "stream",
     "text": [
      "352254\n"
     ]
    }
   ],
   "source": [
    "import math\n",
    "\n",
    "with open(\"input/7.txt\", \"r\") as file:\n",
    "    inpt = list(map(int, file.read().split(\",\")))\n",
    "\n",
    "\n",
    "def J(x,x0):\n",
    "    return sum((abs(x-n) for n in x0))\n",
    "\n",
    "lower = min(inpt)\n",
    "upper = max(inpt)\n",
    "\n",
    "minimum = math.inf\n",
    "optimum = None\n",
    "for x in range(lower,upper+1):\n",
    "    value = J(x,inpt)\n",
    "    if value < minimum:\n",
    "        minimum = value\n",
    "        optimum = x\n",
    "\n",
    "print(minimum)"
   ]
  },
  {
   "attachments": {},
   "cell_type": "markdown",
   "metadata": {},
   "source": [
    "### Part 2"
   ]
  },
  {
   "cell_type": "code",
   "execution_count": 15,
   "metadata": {},
   "outputs": [
    {
     "name": "stdout",
     "output_type": "stream",
     "text": [
      "99053143\n"
     ]
    }
   ],
   "source": [
    "def triangular(n):\n",
    "    return n*(n+1) // 2\n",
    "\n",
    "def J2(x,x0):\n",
    "    return sum((triangular(abs(x-n)) for n in x0))\n",
    "\n",
    "lower = min(inpt)\n",
    "upper = max(inpt)\n",
    "\n",
    "minimum = math.inf\n",
    "optimum = None\n",
    "for x in range(lower,upper+1):\n",
    "    value = J2(x,inpt)\n",
    "    if value < minimum:\n",
    "        minimum = value\n",
    "        optimum = x\n",
    "\n",
    "print(minimum)"
   ]
  },
  {
   "attachments": {},
   "cell_type": "markdown",
   "metadata": {},
   "source": [
    "## Day 8: Seven Segment Search\n",
    "\n",
    "### Part 1"
   ]
  },
  {
   "cell_type": "code",
   "execution_count": 16,
   "metadata": {},
   "outputs": [
    {
     "name": "stdout",
     "output_type": "stream",
     "text": [
      "421\n"
     ]
    }
   ],
   "source": [
    "with open(\"input/8.txt\", \"r\") as file:\n",
    "    inpt = file.readlines()\n",
    "\n",
    "mapping = {\n",
    "    2: (1),\n",
    "    3: (7),\n",
    "    4: (4),\n",
    "    5: (2,5,3),\n",
    "    6: (0,6,9),\n",
    "    7: (8)\n",
    "}\n",
    "\n",
    "occurrences = [0 for _ in range(10)]\n",
    "for line in inpt:\n",
    "    signal_pattern, out = line.split(\" | \")\n",
    "    for signal in out.split():\n",
    "        if type(mapping[len(signal)]) == int:\n",
    "           occurrences[mapping[len(signal)]] += 1\n",
    "\n",
    "print(sum(occurrences))"
   ]
  },
  {
   "attachments": {},
   "cell_type": "markdown",
   "metadata": {},
   "source": [
    "### Part 2"
   ]
  },
  {
   "cell_type": "code",
   "execution_count": 17,
   "metadata": {},
   "outputs": [
    {
     "name": "stdout",
     "output_type": "stream",
     "text": [
      "986163\n"
     ]
    }
   ],
   "source": [
    "decoded = {\n",
    "    \"abcefg\": 0,\n",
    "    \"cf\": 1,\n",
    "    \"acdeg\": 2,\n",
    "    \"acdfg\": 3,\n",
    "    \"bcdf\": 4,\n",
    "    \"abdfg\": 5,\n",
    "    \"abdefg\": 6,\n",
    "    \"acf\": 7,\n",
    "    \"abcdefg\": 8,\n",
    "    \"abcdfg\": 9\n",
    "}\n",
    "\n",
    "total = 0\n",
    "\n",
    "for line in inpt:\n",
    "    mapping = {l: set() for l in \"abcdefg\"}\n",
    "    \n",
    "    signal_pattern, out = line.split(\" | \")\n",
    "    signal_pattern = sorted(signal_pattern.split(), key=lambda x: len(x))\n",
    "\n",
    "    # Find possible c and b (1)\n",
    "    mapping[\"c\"] = set(signal_pattern[0])\n",
    "    mapping[\"f\"] = set(signal_pattern[0])\n",
    "\n",
    "    # Find a (7)\n",
    "    mapping[\"a\"] = set(signal_pattern[1]) - set(signal_pattern[0])\n",
    "\n",
    "    # Find possible d and g (3)\n",
    "    for signal in signal_pattern:\n",
    "        possible_dg = set(signal) - mapping[\"a\"] - mapping[\"c\"] # <- includes f also\n",
    "        if len(possible_dg) == 2 and len(signal) == 5:\n",
    "            mapping[\"d\"] = possible_dg\n",
    "            mapping[\"g\"] = possible_dg\n",
    "            break\n",
    "\n",
    "    # Find b (9)\n",
    "    for signal in signal_pattern:\n",
    "        possible_b = set(signal) - mapping[\"a\"] - mapping[\"c\"] - mapping[\"d\"] # <- includes f and g also\n",
    "        if len(possible_b) == 1 and len(signal) == 6:\n",
    "            mapping[\"b\"] = possible_b\n",
    "            break\n",
    "\n",
    "    # Find e (8, but basically is the remainig letter)\n",
    "    mapping[\"e\"] = {\"a\",\"b\",\"c\",\"d\",\"e\",\"f\",\"g\"} - mapping[\"a\"] - mapping[\"c\"] - mapping[\"d\"] - mapping[\"b\"]\n",
    "\n",
    "    # Find c (and f) (6)\n",
    "    for signal in signal_pattern:\n",
    "        possible_c = set(signal) - mapping[\"a\"] - mapping[\"b\"] - mapping[\"e\"] - mapping[\"d\"]\n",
    "        if len(possible_c) == 1 and len(signal) == 6:\n",
    "            mapping[\"f\"] = possible_c\n",
    "            mapping[\"c\"] -= possible_c\n",
    "            break\n",
    "        \n",
    "    # Find g (and d) (4)\n",
    "    for signal in signal_pattern:\n",
    "        possible_g = set(signal) - mapping[\"b\"] - mapping[\"c\"] - mapping[\"f\"]\n",
    "        if len(possible_g) == 1 and len(signal) == 4:\n",
    "            mapping[\"d\"] = possible_g\n",
    "            mapping[\"g\"] -= possible_g\n",
    "            break\n",
    "\n",
    "    inv_mapping = {v.pop(): k for k,v in mapping.items()}\n",
    "\n",
    "    digital = list()\n",
    "    for signal in out.split():\n",
    "        mapped_signal = ''.join(sorted([inv_mapping[l] for l in signal]))\n",
    "        digital.append(str(decoded[mapped_signal]))\n",
    "\n",
    "    total += int(''.join(digital))\n",
    "\n",
    "print(total)"
   ]
  },
  {
   "attachments": {},
   "cell_type": "markdown",
   "metadata": {},
   "source": [
    "## Day 9: Smoke Basin\n",
    "\n",
    "### Part 1"
   ]
  },
  {
   "cell_type": "code",
   "execution_count": 18,
   "metadata": {},
   "outputs": [
    {
     "name": "stdout",
     "output_type": "stream",
     "text": [
      "554\n"
     ]
    }
   ],
   "source": [
    "with open(\"input/9.txt\", \"r\") as file:\n",
    "    inpt = [[int(n) for n in row.strip()] for row in file.readlines()]\n",
    "\n",
    "# Returns adjacent point's value\n",
    "def adjacent(i,j,matrix):\n",
    "    n = len(matrix)\n",
    "    adj = list()\n",
    "    for k in ((0,1), (0,-1), (1,0), (-1,0)):\n",
    "        if i + k[0] < n and i + k[0] >= 0 and j + k[1] < n and j + k[1] >= 0:\n",
    "            adj.append((matrix[i+k[0]][j+k[1]]))\n",
    "    return adj\n",
    "\n",
    "n = len(inpt)\n",
    "minimum = list()\n",
    "for i in range(n):\n",
    "    for j in range(n):\n",
    "        if all([inpt[i][j] < p for p in adjacent(i,j,inpt)]):\n",
    "            minimum.append(inpt[i][j])\n",
    "\n",
    "print(sum(minimum) + len(minimum))"
   ]
  },
  {
   "attachments": {},
   "cell_type": "markdown",
   "metadata": {},
   "source": [
    "### Part 2"
   ]
  },
  {
   "cell_type": "code",
   "execution_count": 19,
   "metadata": {},
   "outputs": [
    {
     "name": "stdout",
     "output_type": "stream",
     "text": [
      "1017792\n"
     ]
    }
   ],
   "source": [
    "# Returns adjacent point's coords\n",
    "def adjacent(i,j,matrix):\n",
    "    n = len(matrix)\n",
    "    adj = list()\n",
    "    for k in ((0,1), (0,-1), (1,0), (-1,0)):\n",
    "        if i + k[0] < n and i + k[0] >= 0 and j + k[1] < n and j + k[1] >= 0:\n",
    "            adj.append((i+k[0], j+k[1]))\n",
    "    return adj\n",
    "\n",
    "n = len(inpt)\n",
    "minimum = list()\n",
    "for i in range(n):\n",
    "    for j in range(n):\n",
    "        if all([inpt[i][j] < inpt[c[0]][c[1]] for c in adjacent(i,j,inpt)]):\n",
    "            minimum.append((i,j))\n",
    "\n",
    "# Same as part 1 so far\n",
    "basins = {m: {\"to_explore\": {m},\n",
    "              \"explored\": set()}\n",
    "          for m in minimum}\n",
    "\n",
    "for m in basins:\n",
    "    while basins[m][\"to_explore\"]:\n",
    "        p = basins[m][\"to_explore\"].pop()\n",
    "        for a in adjacent(p[0], p[1], inpt):\n",
    "            if inpt[a[0]][a[1]] != 9 and (a[0],a[1]) not in basins[m][\"explored\"]:\n",
    "                basins[m][\"to_explore\"].add((a[0],a[1]))\n",
    "        basins[m][\"explored\"].add(p)\n",
    "\n",
    "length = sorted([len(d[\"explored\"]) for d in basins.values()], reverse=True)\n",
    "\n",
    "print(length[0]*length[1]*length[2])"
   ]
  },
  {
   "attachments": {},
   "cell_type": "markdown",
   "metadata": {},
   "source": [
    "## Day 10: Syntax Scoring\n",
    "\n",
    "### Part 1"
   ]
  },
  {
   "cell_type": "code",
   "execution_count": 20,
   "metadata": {},
   "outputs": [
    {
     "name": "stdout",
     "output_type": "stream",
     "text": [
      "469755\n"
     ]
    }
   ],
   "source": [
    "with open(\"input/10.txt\", \"r\") as file:\n",
    "    inpt = [line.strip() for line in file.readlines()]\n",
    "\n",
    "opposite = {\n",
    "    \")\": \"(\",\n",
    "    \"]\": \"[\",\n",
    "    \"}\": \"{\",\n",
    "    \">\": \"<\",\n",
    "    \"(\": \")\",\n",
    "    \"[\": \"]\",\n",
    "    \"{\": \"}\",\n",
    "    \"<\": \">\"\n",
    "    }\n",
    "\n",
    "opening = {\"(\", \"[\", \"{\", \"<\"}\n",
    "closing = {\")\", \"]\", \"}\", \">\"}\n",
    "\n",
    "scores = {\n",
    "    \")\": 3,\n",
    "    \"]\": 57,\n",
    "    \"}\": 1197,\n",
    "    \">\": 25137,\n",
    "    }\n",
    "\n",
    "score = 0 \n",
    "\n",
    "for line in inpt:\n",
    "    opn = list()\n",
    "    for c in line:\n",
    "        if c in opening:\n",
    "            opn.append(c)\n",
    "        elif c in closing and opposite[c] == opn[-1]:\n",
    "            opn.pop()\n",
    "        elif c in closing and opposite[c] != opn[-1]:\n",
    "            score += scores[c]\n",
    "            break\n",
    "\n",
    "print(score)"
   ]
  },
  {
   "attachments": {},
   "cell_type": "markdown",
   "metadata": {},
   "source": [
    "### Part 2"
   ]
  },
  {
   "cell_type": "code",
   "execution_count": 21,
   "metadata": {},
   "outputs": [
    {
     "name": "stdout",
     "output_type": "stream",
     "text": [
      "2762335572\n"
     ]
    }
   ],
   "source": [
    "scores = {\n",
    "    \")\": 1,\n",
    "    \"]\": 2,\n",
    "    \"}\": 3,\n",
    "    \">\": 4,\n",
    "    }\n",
    "\n",
    "score = list()\n",
    "\n",
    "for line in inpt:\n",
    "    opn = list()\n",
    "    wrong_line = False\n",
    "    for c in line:\n",
    "        if c in opening:\n",
    "            opn.append(c)\n",
    "        elif c in closing and opposite[c] == opn[-1]:\n",
    "            opn.pop()\n",
    "        elif c in closing and opposite[c] != opn[-1]:\n",
    "            wrong_line = True\n",
    "            break\n",
    "    if not wrong_line:\n",
    "        score.append(0)\n",
    "        for b in opn[::-1]:\n",
    "            score[-1] = 5*score[-1]\n",
    "            score[-1] += scores[opposite[b]]\n",
    "\n",
    "print(sorted(score)[len(score) // 2])"
   ]
  },
  {
   "attachments": {},
   "cell_type": "markdown",
   "metadata": {},
   "source": [
    "## Day 11: Dumbo Octopus\n",
    "\n",
    "### Part 1"
   ]
  },
  {
   "cell_type": "code",
   "execution_count": 24,
   "metadata": {},
   "outputs": [
    {
     "name": "stdout",
     "output_type": "stream",
     "text": [
      "1659\n"
     ]
    }
   ],
   "source": [
    "with open(\"input/11.txt\", \"r\") as file:\n",
    "    inpt = [[int(n) for n in line.strip()] for line in file.readlines()]\n",
    "\n",
    "def diag_adj(i,j,matrix):\n",
    "    n = len(matrix)\n",
    "    adj = list()\n",
    "    for k in [(1,1), (1,-1), (-1,1), (-1,-1), (1,0), (-1,0), (0,1), (0,-1)]:\n",
    "        if (i + k[0] < n and i + k[0] >= 0) and \\\n",
    "           (j + k[1] < n and j + k[1] >= 0):\n",
    "            adj.append((i + k[0], j + k[1]))\n",
    "    return adj\n",
    "\n",
    "def flash(i,j,matrix):\n",
    "    matrix[i][j] = 0\n",
    "    for p in diag_adj(i,j,matrix):\n",
    "        if matrix[p[0]][p[1]] > 0 and matrix[p[0]][p[1]] <= 9:\n",
    "            matrix[p[0]][p[1]] += 1\n",
    "        if matrix[p[0]][p[1]] > 9:\n",
    "            flash(p[0],p[1],matrix)\n",
    "\n",
    "def print_state(matrix):\n",
    "    for row in matrix:\n",
    "        print(f\"{''.join(list(map(str, row)))}\")\n",
    "\n",
    "STEPS = 100\n",
    "\n",
    "flashes = 0\n",
    "\n",
    "n = len(inpt)\n",
    "for _ in range(STEPS):\n",
    "    # Increase by one (fist step)\n",
    "    for i in range(n):\n",
    "        for j in range(n):\n",
    "            inpt[i][j] += 1\n",
    "\n",
    "    for i in range(n):\n",
    "        for j in range(n):\n",
    "           if inpt[i][j] > 9:\n",
    "               flash(i,j,inpt)\n",
    "\n",
    "    for row in inpt:\n",
    "        flashes += row.count(0)\n",
    "            \n",
    "#print_state(inpt)\n",
    "print(flashes)"
   ]
  },
  {
   "attachments": {},
   "cell_type": "markdown",
   "metadata": {},
   "source": [
    "### Part 2"
   ]
  },
  {
   "cell_type": "code",
   "execution_count": 25,
   "metadata": {},
   "outputs": [
    {
     "name": "stdout",
     "output_type": "stream",
     "text": [
      "127\n"
     ]
    }
   ],
   "source": [
    "n = len(inpt)\n",
    "s = 0\n",
    "while sum([sum(row) for row in inpt]) != 0:\n",
    "    # Increase by one (fist step)\n",
    "    for i in range(n):\n",
    "        for j in range(n):\n",
    "            inpt[i][j] += 1\n",
    "\n",
    "    for i in range(n):\n",
    "        for j in range(n):\n",
    "           if inpt[i][j] > 9:\n",
    "               flash(i,j,inpt)\n",
    "    s += 1\n",
    "\n",
    "print(s)"
   ]
  },
  {
   "cell_type": "markdown",
   "metadata": {},
   "source": [
    "## Day 12: Passage Pathing\n",
    "\n",
    "### Part 1"
   ]
  },
  {
   "cell_type": "code",
   "execution_count": 12,
   "metadata": {},
   "outputs": [],
   "source": [
    "with open(\"input/12.txt\", \"r\") as file:\n",
    "    inpt = file.read().split(\"\\n\")\n",
    "\n",
    "# Create graph\n",
    "graph = dict()\n",
    "for line in inpt:\n",
    "    start, end = line.split(\"-\")\n",
    "    if start not in graph:\n",
    "        graph[start] = set()\n",
    "    graph[start].add(end)\n",
    "\n",
    "    if end not in graph:\n",
    "        graph[end] = set()\n",
    "    graph[end].add(start)"
   ]
  },
  {
   "attachments": {},
   "cell_type": "markdown",
   "metadata": {},
   "source": [
    "### Part 2"
   ]
  },
  {
   "cell_type": "code",
   "execution_count": null,
   "metadata": {},
   "outputs": [],
   "source": []
  }
 ],
 "metadata": {
  "kernelspec": {
   "display_name": "Python 3.10.0 64-bit",
   "language": "python",
   "name": "python3"
  },
  "language_info": {
   "codemirror_mode": {
    "name": "ipython",
    "version": 3
   },
   "file_extension": ".py",
   "mimetype": "text/x-python",
   "name": "python",
   "nbconvert_exporter": "python",
   "pygments_lexer": "ipython3",
   "version": "3.10.0 (tags/v3.10.0:b494f59, Oct  4 2021, 19:00:18) [MSC v.1929 64 bit (AMD64)]"
  },
  "orig_nbformat": 4,
  "vscode": {
   "interpreter": {
    "hash": "85c576d62e5a69baba7dcae6282c7bf6fba6f8d537c9cbb11ca984aece3c77a0"
   }
  }
 },
 "nbformat": 4,
 "nbformat_minor": 2
}
