{
 "cells": [
  {
   "cell_type": "markdown",
   "metadata": {},
   "source": [
    "# Advent of Code 2020"
   ]
  },
  {
   "attachments": {},
   "cell_type": "markdown",
   "metadata": {},
   "source": [
    "## Day 1: Report Repair\n",
    "\n",
    "### Part 1"
   ]
  },
  {
   "cell_type": "code",
   "execution_count": 3,
   "metadata": {},
   "outputs": [
    {
     "name": "stdout",
     "output_type": "stream",
     "text": [
      "964875\n"
     ]
    }
   ],
   "source": [
    "with open('input/1.txt') as f:\n",
    "    nums = [int(n) for n in f.readlines()]\n",
    "\n",
    "for i in range(len(nums)):\n",
    "    for j in range(i + 1, len(nums)):\n",
    "        if nums[i] + nums[j] == 2020:\n",
    "            result = nums[i] * nums[j]\n",
    "            break\n",
    "\n",
    "print(result)\n"
   ]
  },
  {
   "attachments": {},
   "cell_type": "markdown",
   "metadata": {},
   "source": [
    "### Part 2"
   ]
  },
  {
   "cell_type": "code",
   "execution_count": 6,
   "metadata": {},
   "outputs": [
    {
     "name": "stdout",
     "output_type": "stream",
     "text": [
      "158661360\n"
     ]
    }
   ],
   "source": [
    "for i in range(len(nums)):\n",
    "    for j in range(i + 1, len(nums)):\n",
    "        for w in range(j + 1, len(nums)):\n",
    "            if nums[i] + nums[j] + nums[w] == 2020:\n",
    "                result = nums[i] * nums[j] * nums[w]\n",
    "                break\n",
    "\n",
    "print(result)"
   ]
  },
  {
   "attachments": {},
   "cell_type": "markdown",
   "metadata": {},
   "source": [
    "## Day 2: Password Philosophy\n",
    "\n",
    "### Part 1"
   ]
  },
  {
   "cell_type": "code",
   "execution_count": 8,
   "metadata": {},
   "outputs": [
    {
     "name": "stdout",
     "output_type": "stream",
     "text": [
      "538\n"
     ]
    }
   ],
   "source": [
    "with open('input/2.txt') as f:\n",
    "    p = f.readlines()\n",
    "    count = 0\n",
    "    for l in p:\n",
    "        splitted_l = l.split()\n",
    "        policy = splitted_l[0].split('-')\n",
    "        letter = splitted_l[1][:-1]\n",
    "        passwd = splitted_l[2]\n",
    "\n",
    "        if (passwd.count(letter) >= int(policy[0]) and passwd.count(letter) <= int(policy[1])):\n",
    "            count += 1\n",
    "\n",
    "print(count)"
   ]
  },
  {
   "attachments": {},
   "cell_type": "markdown",
   "metadata": {},
   "source": [
    "### Part 2"
   ]
  },
  {
   "cell_type": "code",
   "execution_count": 10,
   "metadata": {},
   "outputs": [
    {
     "name": "stdout",
     "output_type": "stream",
     "text": [
      "489\n"
     ]
    }
   ],
   "source": [
    "count = 0\n",
    "for l in p:\n",
    "    splitted_l = l.split()\n",
    "    policy = splitted_l[0].split('-')\n",
    "    letter = splitted_l[1][:-1]\n",
    "    passwd = splitted_l[2]\n",
    "\n",
    "    if (passwd[int(policy[0]) - 1] == letter or passwd[int(policy[1]) - 1] == letter) and \\\n",
    "        not (passwd[int(policy[0]) - 1] == letter and passwd[int(policy[1]) - 1] == letter):\n",
    "        count += 1\n",
    "\n",
    "print(count)"
   ]
  },
  {
   "attachments": {},
   "cell_type": "markdown",
   "metadata": {},
   "source": [
    "## Day 3: Toboggan Trajectory\n",
    "\n",
    "### Part 1"
   ]
  },
  {
   "cell_type": "code",
   "execution_count": 1,
   "metadata": {},
   "outputs": [
    {
     "name": "stdout",
     "output_type": "stream",
     "text": [
      "286\n"
     ]
    }
   ],
   "source": [
    "with open('input/3.txt') as f:\n",
    "    m = f.read().splitlines()\n",
    "\n",
    "tree = '#'\n",
    "right = [3]\n",
    "down = [1]\n",
    "\n",
    "results = list()\n",
    "\n",
    "for i in range(len(right)):\n",
    "    row_len, col_len = len(m), len(m[0])\n",
    "    prev_row, prev_col = 0, 0\n",
    "    tree_count = 0\n",
    "\n",
    "    for l in range(row_len // down[i] - 1):\n",
    "        \n",
    "        next_row = prev_row + down[i]\n",
    "        next_col = (prev_col + right[i]) % col_len\n",
    "        \n",
    "        if m[next_row][next_col] == tree:\n",
    "            tree_count += 1\n",
    "\n",
    "        prev_row, prev_col = next_row, next_col\n",
    "\n",
    "    results.append(tree_count)\n",
    "        \n",
    "prod = 1\n",
    "for result in results: prod *= result\n",
    "\n",
    "print(prod)"
   ]
  },
  {
   "attachments": {},
   "cell_type": "markdown",
   "metadata": {},
   "source": [
    "### Part 2"
   ]
  },
  {
   "cell_type": "code",
   "execution_count": 3,
   "metadata": {},
   "outputs": [
    {
     "name": "stdout",
     "output_type": "stream",
     "text": [
      "3638606400\n"
     ]
    }
   ],
   "source": [
    "tree = '#'\n",
    "right = [1, 3, 5, 7, 1]\n",
    "down = [1, 1, 1, 1, 2]\n",
    "\n",
    "results = list()\n",
    "\n",
    "for i in range(len(right)):\n",
    "    row_len, col_len = len(m), len(m[0])\n",
    "    prev_row, prev_col = 0, 0\n",
    "    tree_count = 0\n",
    "\n",
    "    for l in range(row_len // down[i] - 1):\n",
    "        \n",
    "        next_row = prev_row + down[i]\n",
    "        next_col = (prev_col + right[i]) % col_len\n",
    "        \n",
    "        if m[next_row][next_col] == tree:\n",
    "            tree_count += 1\n",
    "\n",
    "        prev_row, prev_col = next_row, next_col\n",
    "\n",
    "    results.append(tree_count)\n",
    "        \n",
    "prod = 1\n",
    "for result in results: prod *= result\n",
    "\n",
    "print(prod)"
   ]
  },
  {
   "attachments": {},
   "cell_type": "markdown",
   "metadata": {},
   "source": [
    "## Day 4: Passport Processing\n",
    "\n",
    "### Part 1"
   ]
  },
  {
   "cell_type": "code",
   "execution_count": 22,
   "metadata": {},
   "outputs": [
    {
     "name": "stdout",
     "output_type": "stream",
     "text": [
      "242\n"
     ]
    }
   ],
   "source": [
    "with open('input/4.txt') as f:\n",
    "    docs = f.read().split('\\n\\n')\n",
    "\n",
    "mandatories = {'byr', 'iyr', 'eyr', 'hgt', 'hcl', 'ecl', 'pid'}\n",
    "count = 0\n",
    "\n",
    "for doc in docs:\n",
    "    if all([attribute in doc for attribute in mandatories]):\n",
    "        count += 1\n",
    "\n",
    "print(count)"
   ]
  },
  {
   "attachments": {},
   "cell_type": "markdown",
   "metadata": {},
   "source": [
    "### Part 2"
   ]
  },
  {
   "cell_type": "code",
   "execution_count": 23,
   "metadata": {},
   "outputs": [
    {
     "name": "stdout",
     "output_type": "stream",
     "text": [
      "186\n"
     ]
    }
   ],
   "source": [
    "import re\n",
    "\n",
    "mandatories = {'byr', 'iyr', 'eyr', 'hgt', 'hcl', 'ecl', 'pid'}\n",
    "count = 0\n",
    "\n",
    "def birth_rule(doc):\n",
    "    birth_year = re.findall(r'byr:\\S*', doc)[0].split(':')[1]\n",
    "    if len(birth_year) == 4 and (int(birth_year) >= 1920 and int(birth_year) <= 2002):\n",
    "        return True\n",
    "    else:\n",
    "        return False\n",
    "\n",
    "def issue_rule(doc):\n",
    "    issue_year = re.findall(r'iyr:\\S*', doc)[0].split(':')[1]\n",
    "    if len(issue_year) == 4 and (int(issue_year) >= 2010 and int(issue_year) <= 2020):\n",
    "        return True\n",
    "    else:\n",
    "        return False\n",
    "\n",
    "def expiration_rule(doc):\n",
    "    exp_year = re.findall(r'eyr:\\S*', doc)[0].split(':')[1]\n",
    "    if len(exp_year) == 4 and (int(exp_year) >= 2020 and int(exp_year) <= 2030):\n",
    "        return True\n",
    "    else:\n",
    "        return False\n",
    "\n",
    "def height_rule(doc):\n",
    "    height = re.findall(r'hgt:\\S*', doc)[0].split(':')[1]\n",
    "    if len(height) <= 2: return False\n",
    "    metric = height[-2:]\n",
    "    value  = int(height[:-2])\n",
    "    if (height[-2:] == 'cm' and value >= 150 and value <= 193) or \\\n",
    "       (height[-2:] == 'in' and value >= 59 and value <= 76):\n",
    "        return True\n",
    "    else:\n",
    "        return False\n",
    "\n",
    "def hair_rule(doc):\n",
    "    color = re.findall(r'hcl:\\S*', doc)[0].split(':')[1]\n",
    "    letters = 'abcdef'\n",
    "    numbers = '0123456789'\n",
    "    if color[0] == '#' and all([(s in letters + numbers) for s in color[1:]]):\n",
    "        return True\n",
    "    else:\n",
    "        return False\n",
    "\n",
    "def eye_rule(doc):\n",
    "    eye = re.findall(r'ecl:\\S*', doc)[0].split(':')[1]\n",
    "    colors = {'amb', 'blu', 'brn', 'gry', 'grn', 'hzl', 'oth'}\n",
    "    if len(eye) == 3 and eye in colors: return True\n",
    "    else: return False\n",
    "\n",
    "def passport_rule(doc):\n",
    "    passport = re.findall(r'pid:\\S*', doc)[0].split(':')[1]\n",
    "    numbers = '0123456789'\n",
    "    if len(passport) == 9 and all([n in numbers for n in passport]):\n",
    "        return True\n",
    "    else:\n",
    "        return False\n",
    "\n",
    "\n",
    "for doc in docs:\n",
    "    if all([field in doc for field in mandatories]) and \\\n",
    "       birth_rule(doc)      and \\\n",
    "       issue_rule(doc)      and \\\n",
    "       expiration_rule(doc) and \\\n",
    "       height_rule(doc)     and \\\n",
    "       hair_rule(doc)       and \\\n",
    "       eye_rule(doc)        and \\\n",
    "       passport_rule(doc):\n",
    "        count += 1\n",
    "\n",
    "print(count)"
   ]
  },
  {
   "attachments": {},
   "cell_type": "markdown",
   "metadata": {},
   "source": [
    "## Day 5: Binary Boarding\n",
    "\n",
    "### Part 1"
   ]
  },
  {
   "cell_type": "code",
   "execution_count": 25,
   "metadata": {},
   "outputs": [
    {
     "name": "stdout",
     "output_type": "stream",
     "text": [
      "994\n"
     ]
    }
   ],
   "source": [
    "import math\n",
    "\n",
    "with open('input/5.txt') as f:\n",
    "    seats = f.read().splitlines()\n",
    "\n",
    "# The 'F' and 'B' notation is just a fancy way of doing binary representation.\n",
    "# If F = 0 and B = 1, that FBFBBFF -> 0101100 base 2 -> 44 base 10.\n",
    "all_seats = list(range((2 ** 7) * (2 ** 3)))\n",
    "\n",
    "max_seat_ID = 0\n",
    "for seat in seats:\n",
    "    row     = seat[:-3].replace('F', '0').replace('B', '1')\n",
    "    col     = seat[-3:].replace('L', '0').replace('R', '1')\n",
    "    row_int = int(row, 2)\n",
    "    col_int = int(col, 2)\n",
    "\n",
    "    seat_ID = row_int * 8 + col_int\n",
    "    all_seats.remove(seat_ID)\n",
    "    if seat_ID > max_seat_ID:\n",
    "        max_seat_ID = seat_ID\n",
    "\n",
    "print(max_seat_ID)"
   ]
  },
  {
   "attachments": {},
   "cell_type": "markdown",
   "metadata": {},
   "source": [
    "### Part 2"
   ]
  },
  {
   "cell_type": "code",
   "execution_count": 26,
   "metadata": {},
   "outputs": [
    {
     "name": "stdout",
     "output_type": "stream",
     "text": [
      "741\n"
     ]
    }
   ],
   "source": [
    "for i in range(len(all_seats) - 1):\n",
    "    if math.fabs(all_seats[i + 1] - all_seats[i]) != 1:\n",
    "        print(all_seats[i + 1])\n",
    "        break"
   ]
  },
  {
   "attachments": {},
   "cell_type": "markdown",
   "metadata": {},
   "source": [
    "## Day 6: Custom Customs\n",
    "\n",
    "### Part 1"
   ]
  },
  {
   "cell_type": "code",
   "execution_count": 31,
   "metadata": {},
   "outputs": [
    {
     "name": "stdout",
     "output_type": "stream",
     "text": [
      "6583\n"
     ]
    }
   ],
   "source": [
    "with open('input/6.txt') as f:\n",
    "    groups = f.read().split('\\n\\n')\n",
    "\n",
    "total_part_1 = 0\n",
    "total_part_2 = 0\n",
    "for group in groups:\n",
    "    total_part_1 += len(set(group.replace('\\n', '')))\n",
    "    total_part_2 += len(set.intersection(*[set(person)\n",
    "                                           for person in group.split('\\n')]))\n",
    "\n",
    "print(total_part_1)"
   ]
  },
  {
   "attachments": {},
   "cell_type": "markdown",
   "metadata": {},
   "source": [
    "### Part 2"
   ]
  },
  {
   "cell_type": "code",
   "execution_count": 32,
   "metadata": {},
   "outputs": [
    {
     "name": "stdout",
     "output_type": "stream",
     "text": [
      "3290\n"
     ]
    }
   ],
   "source": [
    "print(total_part_2)"
   ]
  },
  {
   "attachments": {},
   "cell_type": "markdown",
   "metadata": {},
   "source": [
    "## Day 7: Handy Haversacks\n",
    "\n",
    "### Part 1"
   ]
  },
  {
   "cell_type": "code",
   "execution_count": 3,
   "metadata": {},
   "outputs": [
    {
     "name": "stdout",
     "output_type": "stream",
     "text": [
      "179\n"
     ]
    }
   ],
   "source": [
    "with open('input/7.txt') as f:\n",
    "    rules = f.readlines()\n",
    "\n",
    "# Parse the rules {color : {*color: num_items}}\n",
    "parsed_rules = dict()\n",
    "for rule in rules:\n",
    "    rule_color, admissibilities = rule.split(' bags contain ')\n",
    "    parsed_rules[rule_color] = {}\n",
    "\n",
    "    for adm in admissibilities.split(', '):\n",
    "        admitted_color = ' '.join(adm.split()[1:3])\n",
    "        if adm.split()[0] != 'no':\n",
    "            admitted_num = int(adm.split()[0])\n",
    "            parsed_rules[rule_color][admitted_color] = admitted_num\n",
    "        \n",
    "implications = {'shiny gold'}\n",
    "current_lenght = len(implications)\n",
    "while True:\n",
    "    unfinished = False\n",
    "    for rule_color, rule in parsed_rules.items():\n",
    "        for admitted_color in rule.keys():\n",
    "            if admitted_color in implications:\n",
    "                implications.add(rule_color)\n",
    "    if len(implications) > current_lenght:\n",
    "        current_lenght = len(implications)\n",
    "    else:\n",
    "        break\n",
    "\n",
    "print(len(implications) - 1)"
   ]
  },
  {
   "attachments": {},
   "cell_type": "markdown",
   "metadata": {},
   "source": [
    "### Part 2"
   ]
  },
  {
   "cell_type": "code",
   "execution_count": 4,
   "metadata": {},
   "outputs": [
    {
     "name": "stdout",
     "output_type": "stream",
     "text": [
      "18925\n"
     ]
    }
   ],
   "source": [
    "# Breadth-first spanning tree geenration\n",
    "depth = 0\n",
    "tree = {'shiny gold' : {'edges': parsed_rules['shiny gold'],\n",
    "                        'depth': depth,\n",
    "                        'total': 0}}\n",
    "colors_to_check = [color for color in tree['shiny gold']['edges']]\n",
    "\n",
    "while colors_to_check:\n",
    "    next_colors = list()\n",
    "    depth += 1\n",
    "    for color in colors_to_check:\n",
    "        tree[color] = {}\n",
    "        tree[color]['edges'] = parsed_rules[color]\n",
    "        tree[color]['depth'] = depth\n",
    "        tree[color]['total'] = 1\n",
    "        next_colors.extend([color for color in tree[color]['edges']])\n",
    "    colors_to_check = next_colors\n",
    "\n",
    "# Going up\n",
    "while depth >= 0:\n",
    "    depth -= 1\n",
    "    colors_to_check = [color for color in tree if tree[color]['depth'] == depth]\n",
    "    for color in colors_to_check:\n",
    "        tree[color]['total'] += sum([tree[color]['edges'][color_child] * tree[color_child]['total']\n",
    "                                    for color_child in tree[color]['edges'].keys()])\n",
    "\n",
    "print(tree['shiny gold']['total'])"
   ]
  },
  {
   "attachments": {},
   "cell_type": "markdown",
   "metadata": {},
   "source": [
    "## Day 8: Handheld Halting\n",
    "\n",
    "### Part 1"
   ]
  },
  {
   "cell_type": "code",
   "execution_count": 6,
   "metadata": {},
   "outputs": [
    {
     "name": "stdout",
     "output_type": "stream",
     "text": [
      "1337\n"
     ]
    }
   ],
   "source": [
    "from copy import deepcopy\n",
    "\n",
    "with open('input/8.txt') as f:\n",
    "    ins = f.read().splitlines()\n",
    "\n",
    "ptr = 0\n",
    "acc = 0\n",
    "flags = [0] * len(ins)\n",
    "\n",
    "def execute(line):\n",
    "    global ptr, acc\n",
    "    instr, val = line.split()\n",
    "    if instr == 'nop':\n",
    "        # print('Instr. NOP, PTR @ {}: No instruction executed'.format(ptr))\n",
    "        ptr += 1\n",
    "    elif instr == 'acc':\n",
    "        # print('Instr. ACC, PTR @ {}: Delta {}, ({})'.format(ptr, int(val), acc + int(val)))\n",
    "        acc += int(val)\n",
    "        ptr += 1\n",
    "    elif instr == 'jmp':\n",
    "        # print('Instr. JMP, PTR @ {}: Jumping at line {}'.format(ptr, ptr + int(val)))\n",
    "        ptr += int(val)\n",
    "\n",
    "while True:\n",
    "    if flags[ptr] == 1:\n",
    "        print(acc)\n",
    "        break\n",
    "    else:\n",
    "        flags[ptr] = 1\n",
    "        execute(ins[ptr])"
   ]
  },
  {
   "attachments": {},
   "cell_type": "markdown",
   "metadata": {},
   "source": [
    "### Part 2"
   ]
  },
  {
   "cell_type": "code",
   "execution_count": 7,
   "metadata": {},
   "outputs": [
    {
     "name": "stdout",
     "output_type": "stream",
     "text": [
      "1358\n"
     ]
    }
   ],
   "source": [
    "def ins_gen(ins):\n",
    "    for i in range(len(ins)):\n",
    "        if ins[i][:3] == 'nop':\n",
    "            new_ins = deepcopy(ins)\n",
    "            new_ins[i] = new_ins[i].replace('nop', 'jmp')\n",
    "            yield new_ins\n",
    "        elif ins[i][:3] == 'jmp':\n",
    "            new_ins = deepcopy(ins)\n",
    "            new_ins[i] = new_ins[i].replace('jmp', 'nop')\n",
    "            yield new_ins\n",
    "\n",
    "for mod_ins in ins_gen(ins):\n",
    "    \n",
    "    ptr = 0\n",
    "    acc = 0\n",
    "    flags = [0] * len(ins) \n",
    "\n",
    "    while True:\n",
    "        if ptr == len(ins):\n",
    "            print(acc)\n",
    "            break\n",
    "        elif flags[ptr] == 1:\n",
    "            break\n",
    "        else:\n",
    "            flags[ptr] = 1\n",
    "            execute(mod_ins[ptr])"
   ]
  },
  {
   "attachments": {},
   "cell_type": "markdown",
   "metadata": {},
   "source": [
    "## Day 9: Encoding Error\n",
    "\n",
    "### Part 1"
   ]
  },
  {
   "cell_type": "code",
   "execution_count": 4,
   "metadata": {},
   "outputs": [
    {
     "name": "stdout",
     "output_type": "stream",
     "text": [
      "400480901\n"
     ]
    }
   ],
   "source": [
    "with open('input/9.txt') as file:\n",
    "    nums = [int(n) for n in file.readlines()]\n",
    "\n",
    "prmb = nums[:25] \n",
    "sums = [prmb[i] + prmb[j] for i in range(25) for j in range(i + 1, len(prmb))]\n",
    "\n",
    "next_index = len(prmb) - 1\n",
    "def update_prmb():\n",
    "    global prmb, next_index\n",
    "    while True:\n",
    "        next_index += 1\n",
    "        prmb.pop(0)\n",
    "        prmb.append(nums[next_index])\n",
    "        yield \n",
    "\n",
    "def update_sums():\n",
    "    global sums, prmb\n",
    "    while True:\n",
    "        sums = sums[len(prmb) - 1:]\n",
    "        sums_with_new_n = [prmb[-1] + n for n in prmb[:-1]]\n",
    "\n",
    "        insert_index = 0\n",
    "        for i, n in enumerate(sums_with_new_n):\n",
    "            insert_index += len(prmb) - (i + 1) \n",
    "            sums.insert(insert_index - 1, n)\n",
    "        yield\n",
    "          \n",
    "\n",
    "for i, n in enumerate(nums[len(prmb):]):\n",
    "    if n not in sums:\n",
    "        print(n)\n",
    "        break\n",
    "    else:\n",
    "        next(update_prmb())\n",
    "        next(update_sums())"
   ]
  },
  {
   "attachments": {},
   "cell_type": "markdown",
   "metadata": {},
   "source": [
    "### Part 2"
   ]
  },
  {
   "cell_type": "code",
   "execution_count": 8,
   "metadata": {},
   "outputs": [
    {
     "name": "stdout",
     "output_type": "stream",
     "text": [
      "67587168\n"
     ]
    }
   ],
   "source": [
    "ans = 400480901\n",
    "\n",
    "buffer = [nums[0]]\n",
    "for n in nums[1:]:\n",
    "    buffer.append(n)\n",
    "    while sum(buffer) > ans:\n",
    "        buffer.pop(0)\n",
    "    if sum(buffer) == ans:\n",
    "        break\n",
    "\n",
    "print(max(buffer) + min(buffer))"
   ]
  },
  {
   "attachments": {},
   "cell_type": "markdown",
   "metadata": {},
   "source": [
    "## Day 10: Adapter Array\n",
    "\n",
    "### Part 1"
   ]
  },
  {
   "cell_type": "code",
   "execution_count": 1,
   "metadata": {},
   "outputs": [
    {
     "name": "stdout",
     "output_type": "stream",
     "text": [
      "1700\n"
     ]
    }
   ],
   "source": [
    "import re\n",
    "\n",
    "with open('input/10.txt') as f:\n",
    "    adapters = [int(adapter) for adapter in f.readlines()]\n",
    "\n",
    "plug = 0\n",
    "device_adapter = max(adapters) + 3\n",
    "jolts = sorted([plug] + adapters + [device_adapter])\n",
    "\n",
    "ones   = 0\n",
    "threes = 0\n",
    "for i in range(1, len(jolts)):\n",
    "    if jolts[i] - jolts[i - 1] == 3:\n",
    "        threes += 1\n",
    "    elif jolts[i] - jolts[i - 1] == 1:\n",
    "        ones += 1\n",
    "\n",
    "print(ones * threes)"
   ]
  },
  {
   "attachments": {},
   "cell_type": "markdown",
   "metadata": {},
   "source": [
    "### Part 2"
   ]
  },
  {
   "cell_type": "code",
   "execution_count": 2,
   "metadata": {},
   "outputs": [
    {
     "name": "stdout",
     "output_type": "stream",
     "text": [
      "12401793332096\n"
     ]
    }
   ],
   "source": [
    "c = ['0']\n",
    "ptr = 1\n",
    "while ptr <= len(jolts) - 1:\n",
    "    if jolts[ptr] - jolts[ptr - 1] == 3:\n",
    "        c = c[:-1]\n",
    "        if c[-1] == jolts[ptr - 1]: c.append(str(jolts[ptr]))\n",
    "        else: c.extend([str(jolts[ptr - 1]), str(jolts[ptr])])\n",
    "        ptr += 1\n",
    "    elif jolts[ptr] - jolts[ptr - 1] < 3:\n",
    "        c.append('_')\n",
    "        ptr += 1\n",
    "\n",
    "c_as_string = ''.join(c)\n",
    "ones   = len(re.findall(r'[0-9]_[0-9]', c_as_string))\n",
    "twos   = len(re.findall(r'[0-9]__[0-9]', c_as_string))\n",
    "threes = len(re.findall(r'[0-9]___[0-9]', c_as_string))\n",
    "\n",
    "# There has to be a better way to put it\n",
    "print(2 ** (ones) * (2 ** 2) ** (twos) * (2 ** 3 - 1) ** (threes))"
   ]
  },
  {
   "attachments": {},
   "cell_type": "markdown",
   "metadata": {},
   "source": [
    "## Day 11: Seating System\n",
    "\n",
    "### Part 1"
   ]
  },
  {
   "cell_type": "code",
   "execution_count": 14,
   "metadata": {},
   "outputs": [
    {
     "name": "stdout",
     "output_type": "stream",
     "text": [
      "2204\n"
     ]
    }
   ],
   "source": [
    "from copy import deepcopy\n",
    "\n",
    "with open('input/11.txt') as f:\n",
    "    layout = [[sym for sym in row] for row in f.read().splitlines()]\n",
    "\n",
    "num_rows, num_cols = len(layout), len(layout[0])\n",
    "\n",
    "empty_seat    = 'L'\n",
    "occupied_seat = '#'\n",
    "floor         = '.'\n",
    "\n",
    "def adjacent_indices(i, j):\n",
    "    global num_rows, num_cols\n",
    "    indices = [(i + h, j + k) for k in range(-1,2) for h in range(-1,2) if not (h == 0 and k == 0)\n",
    "               and i + h >= 0 and j + k >= 0 and i + h <= num_rows - 1 and j + k <=  num_cols - 1]\n",
    "    return indices\n",
    "\n",
    "def visible_indices(layout, i, j):\n",
    "    global num_rows, max_cols\n",
    "    indices = list()\n",
    "    for index in adjacent_indices(i,j):\n",
    "        found = True\n",
    "        if layout[index[0]][index[1]] in {empty_seat, occupied_seat}: indices.append(index)\n",
    "        else:\n",
    "            increment_i = index[0] - i\n",
    "            increment_j = index[1] - j\n",
    "            while not layout[index[0]][index[1]] in {empty_seat, occupied_seat}:\n",
    "                index = (index[0] + increment_i, index[1] + increment_j)\n",
    "                if index[0] < 0 or index[0] > num_rows - 1 or \\\n",
    "                   index[1] < 0 or index[1] > num_cols - 1:\n",
    "                    found = False\n",
    "                    break\n",
    "            if found: indices.append(index)\n",
    "    return indices\n",
    "        \n",
    "\n",
    "def num_occupied_adj_seats(layout, i, j):\n",
    "    return sum([1 for row, col in adjacent_indices(i,j) if layout[row][col] == occupied_seat])\n",
    "\n",
    "def num_occupied_vis_seats(layout, i, j):\n",
    "    return sum([1 for row, col in visible_indices(layout, i, j) if layout[row][col] == occupied_seat])\n",
    "\n",
    "next_layout = [['.' for i in range(num_cols)] for j in range(num_rows)]\n",
    "\n",
    "while True:\n",
    "    something_changed = False\n",
    "    for i in range(num_rows):\n",
    "        for j in range(num_cols):\n",
    "            if layout[i][j] == floor:\n",
    "                continue\n",
    "            elif layout[i][j] == empty_seat and num_occupied_adj_seats(layout, i, j) == 0:\n",
    "                next_layout[i][j] = occupied_seat          \n",
    "                something_changed = True\n",
    "            elif layout[i][j] == occupied_seat and num_occupied_adj_seats(layout, i, j) >= 4:\n",
    "                next_layout[i][j] = empty_seat\n",
    "                something_changed = True\n",
    "    \n",
    "    if not something_changed:\n",
    "        break\n",
    "    else:\n",
    "        layout = deepcopy(next_layout)\n",
    "\n",
    "print(sum([row.count(occupied_seat) for row in layout]))"
   ]
  },
  {
   "attachments": {},
   "cell_type": "markdown",
   "metadata": {},
   "source": [
    "### Part 2"
   ]
  },
  {
   "cell_type": "code",
   "execution_count": 13,
   "metadata": {},
   "outputs": [
    {
     "name": "stdout",
     "output_type": "stream",
     "text": [
      "1986\n"
     ]
    }
   ],
   "source": [
    "with open('input/11.txt') as f:\n",
    "    layout = [[sym for sym in row] for row in f.read().splitlines()]\n",
    "\n",
    "next_layout = [['.' for i in range(num_cols)] for j in range(num_rows)]\n",
    "\n",
    "while True:\n",
    "    something_changed = False\n",
    "    for i in range(num_rows):\n",
    "        for j in range(num_cols):\n",
    "            if layout[i][j] == floor:\n",
    "                continue\n",
    "            elif layout[i][j] == empty_seat and num_occupied_vis_seats(layout, i, j) == 0:\n",
    "                next_layout[i][j] = occupied_seat          \n",
    "                something_changed = True\n",
    "            elif layout[i][j] == occupied_seat and num_occupied_vis_seats(layout, i, j) >= 5:\n",
    "                next_layout[i][j] = empty_seat\n",
    "                something_changed = True\n",
    "    \n",
    "    if not something_changed:\n",
    "        break\n",
    "    else:\n",
    "        layout = deepcopy(next_layout)\n",
    "\n",
    "print(sum([row.count(occupied_seat) for row in layout]))"
   ]
  },
  {
   "attachments": {},
   "cell_type": "markdown",
   "metadata": {},
   "source": [
    "## Day 12: Rain Risk\n",
    "\n",
    "### Part 1"
   ]
  },
  {
   "cell_type": "code",
   "execution_count": 17,
   "metadata": {},
   "outputs": [
    {
     "name": "stdout",
     "output_type": "stream",
     "text": [
      "1496\n"
     ]
    }
   ],
   "source": [
    "from math import fabs\n",
    "\n",
    "with open('input/12.txt') as f:\n",
    "    prog = f.read().splitlines()\n",
    "\n",
    "current_direction = 0\n",
    "\n",
    "ship = {0: 0, # E\n",
    "        1: 0, # N \n",
    "        2: 0, # W\n",
    "        3: 0} # S\n",
    "\n",
    "dir2num = {'E': 0,\n",
    "           'N': 1,\n",
    "           'W': 2,\n",
    "           'S': 3}\n",
    "\n",
    "for line in prog:\n",
    "    cmd, value = line[0], int(line[1:])\n",
    "    if cmd == 'F':\n",
    "        ship[current_direction] += value\n",
    "        # print('Move {} {}'.format(value, current_direction))\n",
    "    elif cmd in dir2num:\n",
    "        ship[dir2num[cmd]] += value\n",
    "        # print('Move {} {}'.format(value, dir2num[cmd]))\n",
    "    elif cmd == 'L':\n",
    "        current_direction = (current_direction + value // 90) % 4\n",
    "        # print('Change direction to {}'.format(current_direction))\n",
    "    elif cmd == 'R': \n",
    "        current_direction = (current_direction + 4 - value // 90) % 4\n",
    "        # print('Change direction to {}'.format(current_direction))\n",
    "\n",
    "print(int(fabs(ship[0] - ship[2]) + fabs(ship[1] - ship[3])))"
   ]
  },
  {
   "attachments": {},
   "cell_type": "markdown",
   "metadata": {},
   "source": [
    "### Part 2"
   ]
  },
  {
   "cell_type": "code",
   "execution_count": 18,
   "metadata": {},
   "outputs": [
    {
     "name": "stdout",
     "output_type": "stream",
     "text": [
      "63843\n"
     ]
    }
   ],
   "source": [
    "current_direction = 0\n",
    "\n",
    "ship = {0: 0, # E\n",
    "        1: 0, # N \n",
    "        2: 0, # W\n",
    "        3: 0} # S\n",
    "\n",
    "# Relative to the ship\n",
    "way = {0: 10, # E\n",
    "       1: 1,  # N \n",
    "       2: 0,  # W\n",
    "       3: 0}  # S\n",
    "\n",
    "for line in prog:\n",
    "    cmd, value = line[0], int(line[1:])\n",
    "    if cmd == 'F':\n",
    "        for direction in range(4):\n",
    "            ship[direction] += value * way[direction]\n",
    "    elif cmd in dir2num:\n",
    "        way[dir2num[cmd]] += value\n",
    "    elif cmd == 'R':\n",
    "        for time in range(value // 90):\n",
    "            way[0], way[1], way[2], way[3] = way[1], way[2], way[3], way[0]\n",
    "    elif cmd == 'L':\n",
    "        for time in range(value // 90):\n",
    "            way[0], way[1], way[2], way[3] = way[3], way[0], way[1], way[2]\n",
    "\n",
    "print(int(fabs(ship[0] - ship[2]) + fabs(ship[1] - ship[3])))"
   ]
  },
  {
   "attachments": {},
   "cell_type": "markdown",
   "metadata": {},
   "source": [
    "## Day 14: Docking Data\n",
    "\n",
    "### Part 1"
   ]
  },
  {
   "cell_type": "code",
   "execution_count": 26,
   "metadata": {},
   "outputs": [
    {
     "name": "stdout",
     "output_type": "stream",
     "text": [
      "10717676595607\n"
     ]
    }
   ],
   "source": [
    "with open('input/14.txt') as f:\n",
    "    prog= f.read().splitlines()\n",
    "\n",
    "# Part 1\n",
    "def masked_value(mask, val):\n",
    "    bin_value = format(int(val), '036b')\n",
    "    mskd_value= ''\n",
    "    for i, bit in enumerate(mask):\n",
    "        if bit == 'X':\n",
    "            mskd_value += bin_value[i]\n",
    "        else:\n",
    "            mskd_value += bit\n",
    "    return int(mskd_value, 2)\n",
    "\n",
    "mask = None\n",
    "memory = dict()\n",
    "\n",
    "for line in prog:\n",
    "    cmd, _, val = line.split()\n",
    "    if cmd == 'mask':\n",
    "        mask = val\n",
    "    elif cmd[:3] == 'mem':\n",
    "        address = int(cmd[4:-1])\n",
    "        msk_value = masked_value(mask, val)\n",
    "        memory[address] = msk_value\n",
    "\n",
    "print(sum([val for val in memory.values()]))"
   ]
  },
  {
   "attachments": {},
   "cell_type": "markdown",
   "metadata": {},
   "source": [
    "### Part 2"
   ]
  },
  {
   "cell_type": "code",
   "execution_count": 27,
   "metadata": {},
   "outputs": [
    {
     "name": "stdout",
     "output_type": "stream",
     "text": [
      "3974538275659\n"
     ]
    }
   ],
   "source": [
    "def addresses_from_mask(mask, address):\n",
    "    bin_address = format(address, '036b')\n",
    "    mskd_address = ''\n",
    "    for i, bit in enumerate(mask):\n",
    "        if bit == 'X':\n",
    "            mskd_address += 'X'\n",
    "        elif bit == '0':\n",
    "            mskd_address += bin_address[i]\n",
    "        elif bit == '1':\n",
    "            mskd_address += '1'\n",
    "\n",
    "    new_addresses = list()\n",
    "    num_x = mskd_address.count('X')\n",
    "    for i in range(2 ** num_x):\n",
    "        mskd_address_sub = mskd_address\n",
    "        for sub_bit in format(i, '0{}b'.format(num_x)):\n",
    "            mskd_address_sub = mskd_address_sub.replace('X', sub_bit, 1)\n",
    "        new_addresses.append(int(mskd_address_sub, 2))\n",
    "    return new_addresses\n",
    "\n",
    "mask = None\n",
    "memory = dict()\n",
    "\n",
    "for line in prog:\n",
    "    cmd, _, val = line.split()\n",
    "    if cmd == 'mask':\n",
    "        mask = val\n",
    "    elif cmd[:3] == 'mem':\n",
    "        address = int(cmd[4:-1])\n",
    "        for new_address in addresses_from_mask(mask, address):\n",
    "            memory[new_address] = int(val)\n",
    "\n",
    "print(sum([val for val in memory.values()]))"
   ]
  },
  {
   "attachments": {},
   "cell_type": "markdown",
   "metadata": {},
   "source": [
    "## Day 15: Rambunctious Recitation\n",
    "\n",
    "### Part 1"
   ]
  },
  {
   "cell_type": "code",
   "execution_count": 45,
   "metadata": {},
   "outputs": [
    {
     "name": "stdout",
     "output_type": "stream",
     "text": [
      "866\n"
     ]
    }
   ],
   "source": [
    "game = [12,20,0,6,1,17,7]\n",
    "\n",
    "end = 2020\n",
    "\n",
    "game_d = {game[0]: {'last_seen': 0,\n",
    "                        'index': 0}}\n",
    "for i, n in enumerate(game[1:]):\n",
    "    if n in game_d:\n",
    "        game_d[n]['last_seen'] = game[n]['index']\n",
    "        game_d[n]['index'] = i + 1\n",
    "    else:\n",
    "        game_d[n] = {}\n",
    "        game_d[n]['last_seen'] = i + 1 \n",
    "        game_d[n]['index'] = i + 1\n",
    " \n",
    "\n",
    "current_n = game[-1]\n",
    "for i in range(len(game), end):\n",
    "    current_n = game_d[current_n]['index'] - game_d[current_n]['last_seen']\n",
    "    if current_n in game_d:\n",
    "        game_d[current_n]['last_seen'] = game_d[current_n]['index']\n",
    "        game_d[current_n]['index'] = i\n",
    "    else:\n",
    "        game_d[current_n] = {}\n",
    "        game_d[current_n]['last_seen'] = i\n",
    "        game_d[current_n]['index'] = i\n",
    "\n",
    "print(list(game_d.keys())[-1])\n"
   ]
  },
  {
   "attachments": {},
   "cell_type": "markdown",
   "metadata": {},
   "source": [
    "### Part 2"
   ]
  },
  {
   "cell_type": "code",
   "execution_count": 46,
   "metadata": {},
   "outputs": [
    {
     "name": "stdout",
     "output_type": "stream",
     "text": [
      "1437692\n"
     ]
    }
   ],
   "source": [
    "game = [12,20,0,6,1,17,7]\n",
    "\n",
    "end = 30000000\n",
    "\n",
    "game_d = {game[0]: {'last_seen': 0,\n",
    "                        'index': 0}}\n",
    "for i, n in enumerate(game[1:]):\n",
    "    if n in game_d:\n",
    "        game_d[n]['last_seen'] = game[n]['index']\n",
    "        game_d[n]['index'] = i + 1\n",
    "    else:\n",
    "        game_d[n] = {}\n",
    "        game_d[n]['last_seen'] = i + 1 \n",
    "        game_d[n]['index'] = i + 1\n",
    " \n",
    "\n",
    "current_n = game[-1]\n",
    "for i in range(len(game), end):\n",
    "    current_n = game_d[current_n]['index'] - game_d[current_n]['last_seen']\n",
    "    if current_n in game_d:\n",
    "        game_d[current_n]['last_seen'] = game_d[current_n]['index']\n",
    "        game_d[current_n]['index'] = i\n",
    "    else:\n",
    "        game_d[current_n] = {}\n",
    "        game_d[current_n]['last_seen'] = i\n",
    "        game_d[current_n]['index'] = i\n",
    "\n",
    "print(list(game_d.keys())[-1])\n"
   ]
  },
  {
   "attachments": {},
   "cell_type": "markdown",
   "metadata": {},
   "source": [
    "## Day 16: Ticket Translation\n",
    "\n",
    "### Part 1"
   ]
  },
  {
   "cell_type": "code",
   "execution_count": 50,
   "metadata": {},
   "outputs": [
    {
     "name": "stdout",
     "output_type": "stream",
     "text": [
      "21081\n"
     ]
    }
   ],
   "source": [
    "with open('input/16.txt') as f:\n",
    "    notes = f.read().splitlines()\n",
    "\n",
    "# Parsing the input\n",
    "ticket_line_idx = None\n",
    "rules = dict()\n",
    "nearby_tickets = list()\n",
    "for i, line in enumerate(notes):\n",
    "    if line == 'your ticket:':\n",
    "        ticket_line_idx = i + 1\n",
    "        my_ticket = [int(n) for n in notes[ticket_line_idx].split(',')]\n",
    "    elif line == 'nearby tickets:':\n",
    "        for j in range(i + 1, len(notes)):\n",
    "            nearby_tickets.append([int(n) for n in notes[j].split(',')])\n",
    "        break\n",
    "    elif line == '' or i == ticket_line_idx:\n",
    "        continue\n",
    "    else:\n",
    "        rule, val = line.split(': ')\n",
    "        rules[rule] = [[int(n) for n in inter.split('-')]\n",
    "                       for inter in val.split(' or ')]\n",
    "\n",
    "# Make a global range\n",
    "global_range      = list()\n",
    "tickets_to_delete = list()\n",
    "for element in rules.values():\n",
    "    for exts in element:\n",
    "        global_range.extend(list(range(exts[0], exts[1] + 1)))\n",
    "global_range = set(global_range)\n",
    "\n",
    "wrong_fields = list()\n",
    "for i, ticket in enumerate(nearby_tickets):\n",
    "    for n in ticket:\n",
    "        if n not in global_range:\n",
    "            wrong_fields.append(n)\n",
    "            tickets_to_delete.append(i)\n",
    "\n",
    "print(sum(wrong_fields))"
   ]
  },
  {
   "attachments": {},
   "cell_type": "markdown",
   "metadata": {},
   "source": [
    "### Part 2"
   ]
  },
  {
   "cell_type": "code",
   "execution_count": 51,
   "metadata": {},
   "outputs": [],
   "source": [
    "candidates = list()\n",
    "for i in sorted(tickets_to_delete, reverse=True):\n",
    "    del nearby_tickets[i]\n",
    "\n",
    "for ticket in [my_ticket] + nearby_tickets:\n",
    "    row = list()\n",
    "    for n in ticket:\n",
    "        row.append({rule for rule, val in rules.items() if n in range(val[0][0], val[0][1] + 1) or \\\n",
    "                                                           n in range(val[1][0], val[1][1] + 1)})\n",
    "    candidates.append(row)        \n",
    "\n",
    "admissibles = candidates[0]\n",
    "for ticket in candidates:\n",
    "    for i in range(len(ticket)):\n",
    "        admissibles[i] = admissibles[i].intersection(ticket[i])\n",
    "\n",
    "i = 0\n",
    "while not all([len(element) == 1 for element in admissibles]):\n",
    "    if len(admissibles[i]) == 1:\n",
    "        for j in range(len(admissibles)):\n",
    "            if j != i: admissibles[j] -= admissibles[i]\n",
    "    i = (i + 1) % len(admissibles)"
   ]
  },
  {
   "cell_type": "markdown",
   "metadata": {},
   "source": [
    "## Day 20: Jurassic Jigsaw\n",
    "\n",
    "### Part 1"
   ]
  },
  {
   "cell_type": "code",
   "execution_count": 39,
   "metadata": {},
   "outputs": [],
   "source": [
    "import numpy as np\n",
    "\n",
    "def are_tiles_adjacent(tile1, tile2):\n",
    "    left1, right1, top1, bottom1 = tile1[:,-1], tile1[:,0], tile1[0,:], tile1[-1,:]\n",
    "    left2, right2, top2, bottom2 = tile2[:,-1], tile2[:,0], tile2[0,:], tile2[-1,:]\n",
    "    return np.all(left1 == right2) or np.all(right1 == left2) \\\n",
    "        or np.all(bottom1 == top2) or np.all(top1 == bottom2)\n",
    "\n",
    "with open(\"input/20.txt\", \"r\") as file:\n",
    "    inpt = file.readlines()\n",
    "\n",
    "# Parse the input\n",
    "tiles = dict()\n",
    "for line in inpt:\n",
    "    if \"Tile\" in line:\n",
    "        _id  = int(line[5:-2])\n",
    "        tile = []\n",
    "    elif line == \"\\n\":\n",
    "        np_tile = np.array([[1 if c == \"#\" else 0 for c in row] for row in tile])\n",
    "        tiles[_id] = {\n",
    "            \"tile\": np_tile,\n",
    "            \"adjacents\": []\n",
    "        }\n",
    "    else:\n",
    "        tile.append(line.strip())\n",
    "\n",
    "num_tiles = len(tiles)\n",
    "tiles_val = list(tiles.values())\n",
    "\n",
    "for i in range(num_tiles):\n",
    "    for j in range(i+1,num_tiles):\n",
    "        pass"
   ]
  }
 ],
 "metadata": {
  "kernelspec": {
   "display_name": "Python 3.10.0 64-bit",
   "language": "python",
   "name": "python3"
  },
  "language_info": {
   "codemirror_mode": {
    "name": "ipython",
    "version": 3
   },
   "file_extension": ".py",
   "mimetype": "text/x-python",
   "name": "python",
   "nbconvert_exporter": "python",
   "pygments_lexer": "ipython3",
   "version": "3.10.0 (tags/v3.10.0:b494f59, Oct  4 2021, 19:00:18) [MSC v.1929 64 bit (AMD64)]"
  },
  "orig_nbformat": 4,
  "vscode": {
   "interpreter": {
    "hash": "85c576d62e5a69baba7dcae6282c7bf6fba6f8d537c9cbb11ca984aece3c77a0"
   }
  }
 },
 "nbformat": 4,
 "nbformat_minor": 2
}
