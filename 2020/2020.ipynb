{
 "cells": [
  {
   "cell_type": "markdown",
   "metadata": {},
   "source": [
    "# Advent of Code 2020"
   ]
  },
  {
   "cell_type": "markdown",
   "metadata": {},
   "source": [
    "## Day 20: Jurassic Jigsaw\n",
    "\n",
    "### Part 1"
   ]
  },
  {
   "cell_type": "code",
   "execution_count": 39,
   "metadata": {},
   "outputs": [],
   "source": [
    "import numpy as np\n",
    "\n",
    "def check_tiles(tile1, tile2):\n",
    "    \n",
    "\n",
    "with open(\"input/20.txt\", \"r\") as file:\n",
    "    inpt = file.readlines()\n",
    "\n",
    "tiles = dict()\n",
    "for line in inpt:\n",
    "    if \"Tile\" in line:\n",
    "        _id  = int(line[5:-2])\n",
    "        tile = []\n",
    "    elif line == \"\\n\":\n",
    "        np_tile = np.array([[1 if c == \"#\" else 0 for c in row] for row in tile])\n",
    "        tiles[_id] = np_tile\n",
    "    else:\n",
    "        tile.append(line.strip())\n",
    "\n",
    "num_tiles = len(tiles)\n",
    "tiles_val = list(tiles.values())\n",
    "\n",
    "for i in range(num_tiles):\n",
    "    for j in range(i+1,num_tiles):\n",
    "        pass"
   ]
  }
 ],
 "metadata": {
  "kernelspec": {
   "display_name": "Python 3.10.0 64-bit",
   "language": "python",
   "name": "python3"
  },
  "language_info": {
   "codemirror_mode": {
    "name": "ipython",
    "version": 3
   },
   "file_extension": ".py",
   "mimetype": "text/x-python",
   "name": "python",
   "nbconvert_exporter": "python",
   "pygments_lexer": "ipython3",
   "version": "3.10.0"
  },
  "orig_nbformat": 4,
  "vscode": {
   "interpreter": {
    "hash": "85c576d62e5a69baba7dcae6282c7bf6fba6f8d537c9cbb11ca984aece3c77a0"
   }
  }
 },
 "nbformat": 4,
 "nbformat_minor": 2
}
