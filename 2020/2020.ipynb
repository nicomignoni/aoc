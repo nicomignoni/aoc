{
 "cells": [
  {
   "cell_type": "markdown",
   "metadata": {},
   "source": [
    "# Advent of Code 2020"
   ]
  },
  {
   "attachments": {},
   "cell_type": "markdown",
   "metadata": {},
   "source": [
    "## Day 1: Report Repair\n",
    "\n",
    "### Part 1"
   ]
  },
  {
   "cell_type": "code",
   "execution_count": 3,
   "metadata": {},
   "outputs": [
    {
     "name": "stdout",
     "output_type": "stream",
     "text": [
      "964875\n"
     ]
    }
   ],
   "source": [
    "with open('input/1.txt') as f:\n",
    "    nums = [int(n) for n in f.readlines()]\n",
    "\n",
    "for i in range(len(nums)):\n",
    "    for j in range(i + 1, len(nums)):\n",
    "        if nums[i] + nums[j] == 2020:\n",
    "            result = nums[i] * nums[j]\n",
    "            break\n",
    "\n",
    "print(result)\n"
   ]
  },
  {
   "attachments": {},
   "cell_type": "markdown",
   "metadata": {},
   "source": [
    "### Part 2"
   ]
  },
  {
   "cell_type": "code",
   "execution_count": 6,
   "metadata": {},
   "outputs": [
    {
     "name": "stdout",
     "output_type": "stream",
     "text": [
      "158661360\n"
     ]
    }
   ],
   "source": [
    "for i in range(len(nums)):\n",
    "    for j in range(i + 1, len(nums)):\n",
    "        for w in range(j + 1, len(nums)):\n",
    "            if nums[i] + nums[j] + nums[w] == 2020:\n",
    "                result = nums[i] * nums[j] * nums[w]\n",
    "                break\n",
    "\n",
    "print(result)"
   ]
  },
  {
   "attachments": {},
   "cell_type": "markdown",
   "metadata": {},
   "source": [
    "## Day 2: Password Philosophy\n",
    "\n",
    "### Part 1"
   ]
  },
  {
   "cell_type": "code",
   "execution_count": 8,
   "metadata": {},
   "outputs": [
    {
     "name": "stdout",
     "output_type": "stream",
     "text": [
      "538\n"
     ]
    }
   ],
   "source": [
    "with open('input/2.txt') as f:\n",
    "    p = f.readlines()\n",
    "    count = 0\n",
    "    for l in p:\n",
    "        splitted_l = l.split()\n",
    "        policy = splitted_l[0].split('-')\n",
    "        letter = splitted_l[1][:-1]\n",
    "        passwd = splitted_l[2]\n",
    "\n",
    "        if (passwd.count(letter) >= int(policy[0]) and passwd.count(letter) <= int(policy[1])):\n",
    "            count += 1\n",
    "\n",
    "print(count)"
   ]
  },
  {
   "attachments": {},
   "cell_type": "markdown",
   "metadata": {},
   "source": [
    "### Part 2"
   ]
  },
  {
   "cell_type": "code",
   "execution_count": 10,
   "metadata": {},
   "outputs": [
    {
     "name": "stdout",
     "output_type": "stream",
     "text": [
      "489\n"
     ]
    }
   ],
   "source": [
    "count = 0\n",
    "for l in p:\n",
    "    splitted_l = l.split()\n",
    "    policy = splitted_l[0].split('-')\n",
    "    letter = splitted_l[1][:-1]\n",
    "    passwd = splitted_l[2]\n",
    "\n",
    "    if (passwd[int(policy[0]) - 1] == letter or passwd[int(policy[1]) - 1] == letter) and \\\n",
    "        not (passwd[int(policy[0]) - 1] == letter and passwd[int(policy[1]) - 1] == letter):\n",
    "        count += 1\n",
    "\n",
    "print(count)"
   ]
  },
  {
   "attachments": {},
   "cell_type": "markdown",
   "metadata": {},
   "source": [
    "## Day 3: Toboggan Trajectory\n",
    "\n",
    "### Part 1"
   ]
  },
  {
   "cell_type": "code",
   "execution_count": 1,
   "metadata": {},
   "outputs": [
    {
     "name": "stdout",
     "output_type": "stream",
     "text": [
      "286\n"
     ]
    }
   ],
   "source": [
    "with open('input/3.txt') as f:\n",
    "    m = f.read().splitlines()\n",
    "\n",
    "tree = '#'\n",
    "right = [3]\n",
    "down = [1]\n",
    "\n",
    "results = list()\n",
    "\n",
    "for i in range(len(right)):\n",
    "    row_len, col_len = len(m), len(m[0])\n",
    "    prev_row, prev_col = 0, 0\n",
    "    tree_count = 0\n",
    "\n",
    "    for l in range(row_len // down[i] - 1):\n",
    "        \n",
    "        next_row = prev_row + down[i]\n",
    "        next_col = (prev_col + right[i]) % col_len\n",
    "        \n",
    "        if m[next_row][next_col] == tree:\n",
    "            tree_count += 1\n",
    "\n",
    "        prev_row, prev_col = next_row, next_col\n",
    "\n",
    "    results.append(tree_count)\n",
    "        \n",
    "prod = 1\n",
    "for result in results: prod *= result\n",
    "\n",
    "print(prod)"
   ]
  },
  {
   "attachments": {},
   "cell_type": "markdown",
   "metadata": {},
   "source": [
    "### Part 2"
   ]
  },
  {
   "cell_type": "code",
   "execution_count": 3,
   "metadata": {},
   "outputs": [
    {
     "name": "stdout",
     "output_type": "stream",
     "text": [
      "3638606400\n"
     ]
    }
   ],
   "source": [
    "tree = '#'\n",
    "right = [1, 3, 5, 7, 1]\n",
    "down = [1, 1, 1, 1, 2]\n",
    "\n",
    "results = list()\n",
    "\n",
    "for i in range(len(right)):\n",
    "    row_len, col_len = len(m), len(m[0])\n",
    "    prev_row, prev_col = 0, 0\n",
    "    tree_count = 0\n",
    "\n",
    "    for l in range(row_len // down[i] - 1):\n",
    "        \n",
    "        next_row = prev_row + down[i]\n",
    "        next_col = (prev_col + right[i]) % col_len\n",
    "        \n",
    "        if m[next_row][next_col] == tree:\n",
    "            tree_count += 1\n",
    "\n",
    "        prev_row, prev_col = next_row, next_col\n",
    "\n",
    "    results.append(tree_count)\n",
    "        \n",
    "prod = 1\n",
    "for result in results: prod *= result\n",
    "\n",
    "print(prod)"
   ]
  },
  {
   "attachments": {},
   "cell_type": "markdown",
   "metadata": {},
   "source": [
    "## Day 4: Passport Processing\n",
    "\n",
    "### Part 1"
   ]
  },
  {
   "cell_type": "code",
   "execution_count": 22,
   "metadata": {},
   "outputs": [
    {
     "name": "stdout",
     "output_type": "stream",
     "text": [
      "242\n"
     ]
    }
   ],
   "source": [
    "with open('input/4.txt') as f:\n",
    "    docs = f.read().split('\\n\\n')\n",
    "\n",
    "mandatories = {'byr', 'iyr', 'eyr', 'hgt', 'hcl', 'ecl', 'pid'}\n",
    "count = 0\n",
    "\n",
    "for doc in docs:\n",
    "    if all([attribute in doc for attribute in mandatories]):\n",
    "        count += 1\n",
    "\n",
    "print(count)"
   ]
  },
  {
   "attachments": {},
   "cell_type": "markdown",
   "metadata": {},
   "source": [
    "### Part 2"
   ]
  },
  {
   "cell_type": "code",
   "execution_count": 23,
   "metadata": {},
   "outputs": [
    {
     "name": "stdout",
     "output_type": "stream",
     "text": [
      "186\n"
     ]
    }
   ],
   "source": [
    "import re\n",
    "\n",
    "mandatories = {'byr', 'iyr', 'eyr', 'hgt', 'hcl', 'ecl', 'pid'}\n",
    "count = 0\n",
    "\n",
    "def birth_rule(doc):\n",
    "    birth_year = re.findall(r'byr:\\S*', doc)[0].split(':')[1]\n",
    "    if len(birth_year) == 4 and (int(birth_year) >= 1920 and int(birth_year) <= 2002):\n",
    "        return True\n",
    "    else:\n",
    "        return False\n",
    "\n",
    "def issue_rule(doc):\n",
    "    issue_year = re.findall(r'iyr:\\S*', doc)[0].split(':')[1]\n",
    "    if len(issue_year) == 4 and (int(issue_year) >= 2010 and int(issue_year) <= 2020):\n",
    "        return True\n",
    "    else:\n",
    "        return False\n",
    "\n",
    "def expiration_rule(doc):\n",
    "    exp_year = re.findall(r'eyr:\\S*', doc)[0].split(':')[1]\n",
    "    if len(exp_year) == 4 and (int(exp_year) >= 2020 and int(exp_year) <= 2030):\n",
    "        return True\n",
    "    else:\n",
    "        return False\n",
    "\n",
    "def height_rule(doc):\n",
    "    height = re.findall(r'hgt:\\S*', doc)[0].split(':')[1]\n",
    "    if len(height) <= 2: return False\n",
    "    metric = height[-2:]\n",
    "    value  = int(height[:-2])\n",
    "    if (height[-2:] == 'cm' and value >= 150 and value <= 193) or \\\n",
    "       (height[-2:] == 'in' and value >= 59 and value <= 76):\n",
    "        return True\n",
    "    else:\n",
    "        return False\n",
    "\n",
    "def hair_rule(doc):\n",
    "    color = re.findall(r'hcl:\\S*', doc)[0].split(':')[1]\n",
    "    letters = 'abcdef'\n",
    "    numbers = '0123456789'\n",
    "    if color[0] == '#' and all([(s in letters + numbers) for s in color[1:]]):\n",
    "        return True\n",
    "    else:\n",
    "        return False\n",
    "\n",
    "def eye_rule(doc):\n",
    "    eye = re.findall(r'ecl:\\S*', doc)[0].split(':')[1]\n",
    "    colors = {'amb', 'blu', 'brn', 'gry', 'grn', 'hzl', 'oth'}\n",
    "    if len(eye) == 3 and eye in colors: return True\n",
    "    else: return False\n",
    "\n",
    "def passport_rule(doc):\n",
    "    passport = re.findall(r'pid:\\S*', doc)[0].split(':')[1]\n",
    "    numbers = '0123456789'\n",
    "    if len(passport) == 9 and all([n in numbers for n in passport]):\n",
    "        return True\n",
    "    else:\n",
    "        return False\n",
    "\n",
    "\n",
    "for doc in docs:\n",
    "    if all([field in doc for field in mandatories]) and \\\n",
    "       birth_rule(doc)      and \\\n",
    "       issue_rule(doc)      and \\\n",
    "       expiration_rule(doc) and \\\n",
    "       height_rule(doc)     and \\\n",
    "       hair_rule(doc)       and \\\n",
    "       eye_rule(doc)        and \\\n",
    "       passport_rule(doc):\n",
    "        count += 1\n",
    "\n",
    "print(count)"
   ]
  },
  {
   "attachments": {},
   "cell_type": "markdown",
   "metadata": {},
   "source": [
    "## Day 5: Binary Boarding\n",
    "\n",
    "### Part 1"
   ]
  },
  {
   "cell_type": "code",
   "execution_count": 25,
   "metadata": {},
   "outputs": [
    {
     "name": "stdout",
     "output_type": "stream",
     "text": [
      "994\n"
     ]
    }
   ],
   "source": [
    "import math\n",
    "\n",
    "with open('input/5.txt') as f:\n",
    "    seats = f.read().splitlines()\n",
    "\n",
    "# The 'F' and 'B' notation is just a fancy way of doing binary representation.\n",
    "# If F = 0 and B = 1, that FBFBBFF -> 0101100 base 2 -> 44 base 10.\n",
    "all_seats = list(range((2 ** 7) * (2 ** 3)))\n",
    "\n",
    "max_seat_ID = 0\n",
    "for seat in seats:\n",
    "    row     = seat[:-3].replace('F', '0').replace('B', '1')\n",
    "    col     = seat[-3:].replace('L', '0').replace('R', '1')\n",
    "    row_int = int(row, 2)\n",
    "    col_int = int(col, 2)\n",
    "\n",
    "    seat_ID = row_int * 8 + col_int\n",
    "    all_seats.remove(seat_ID)\n",
    "    if seat_ID > max_seat_ID:\n",
    "        max_seat_ID = seat_ID\n",
    "\n",
    "print(max_seat_ID)"
   ]
  },
  {
   "attachments": {},
   "cell_type": "markdown",
   "metadata": {},
   "source": [
    "### Part 2"
   ]
  },
  {
   "cell_type": "code",
   "execution_count": 26,
   "metadata": {},
   "outputs": [
    {
     "name": "stdout",
     "output_type": "stream",
     "text": [
      "741\n"
     ]
    }
   ],
   "source": [
    "for i in range(len(all_seats) - 1):\n",
    "    if math.fabs(all_seats[i + 1] - all_seats[i]) != 1:\n",
    "        print(all_seats[i + 1])\n",
    "        break"
   ]
  },
  {
   "attachments": {},
   "cell_type": "markdown",
   "metadata": {},
   "source": [
    "## Day 6: Custom Customs\n",
    "\n",
    "### Part 1"
   ]
  },
  {
   "cell_type": "code",
   "execution_count": 31,
   "metadata": {},
   "outputs": [
    {
     "name": "stdout",
     "output_type": "stream",
     "text": [
      "6583\n"
     ]
    }
   ],
   "source": [
    "with open('input/6.txt') as f:\n",
    "    groups = f.read().split('\\n\\n')\n",
    "\n",
    "total_part_1 = 0\n",
    "total_part_2 = 0\n",
    "for group in groups:\n",
    "    total_part_1 += len(set(group.replace('\\n', '')))\n",
    "    total_part_2 += len(set.intersection(*[set(person)\n",
    "                                           for person in group.split('\\n')]))\n",
    "\n",
    "print(total_part_1)"
   ]
  },
  {
   "attachments": {},
   "cell_type": "markdown",
   "metadata": {},
   "source": [
    "### Part 2"
   ]
  },
  {
   "cell_type": "code",
   "execution_count": 32,
   "metadata": {},
   "outputs": [
    {
     "name": "stdout",
     "output_type": "stream",
     "text": [
      "3290\n"
     ]
    }
   ],
   "source": [
    "print(total_part_2)"
   ]
  },
  {
   "attachments": {},
   "cell_type": "markdown",
   "metadata": {},
   "source": [
    "## Day 7: Handy Haversacks\n",
    "\n",
    "### Part 1"
   ]
  },
  {
   "cell_type": "code",
   "execution_count": 3,
   "metadata": {},
   "outputs": [
    {
     "name": "stdout",
     "output_type": "stream",
     "text": [
      "179\n"
     ]
    }
   ],
   "source": [
    "with open('input/7.txt') as f:\n",
    "    rules = f.readlines()\n",
    "\n",
    "# Parse the rules {color : {*color: num_items}}\n",
    "parsed_rules = dict()\n",
    "for rule in rules:\n",
    "    rule_color, admissibilities = rule.split(' bags contain ')\n",
    "    parsed_rules[rule_color] = {}\n",
    "\n",
    "    for adm in admissibilities.split(', '):\n",
    "        admitted_color = ' '.join(adm.split()[1:3])\n",
    "        if adm.split()[0] != 'no':\n",
    "            admitted_num = int(adm.split()[0])\n",
    "            parsed_rules[rule_color][admitted_color] = admitted_num\n",
    "        \n",
    "implications = {'shiny gold'}\n",
    "current_lenght = len(implications)\n",
    "while True:\n",
    "    unfinished = False\n",
    "    for rule_color, rule in parsed_rules.items():\n",
    "        for admitted_color in rule.keys():\n",
    "            if admitted_color in implications:\n",
    "                implications.add(rule_color)\n",
    "    if len(implications) > current_lenght:\n",
    "        current_lenght = len(implications)\n",
    "    else:\n",
    "        break\n",
    "\n",
    "print(len(implications) - 1)"
   ]
  },
  {
   "attachments": {},
   "cell_type": "markdown",
   "metadata": {},
   "source": [
    "### Part 2"
   ]
  },
  {
   "cell_type": "code",
   "execution_count": 4,
   "metadata": {},
   "outputs": [
    {
     "name": "stdout",
     "output_type": "stream",
     "text": [
      "18925\n"
     ]
    }
   ],
   "source": [
    "# Breadth-first spanning tree geenration\n",
    "depth = 0\n",
    "tree = {'shiny gold' : {'edges': parsed_rules['shiny gold'],\n",
    "                        'depth': depth,\n",
    "                        'total': 0}}\n",
    "colors_to_check = [color for color in tree['shiny gold']['edges']]\n",
    "\n",
    "while colors_to_check:\n",
    "    next_colors = list()\n",
    "    depth += 1\n",
    "    for color in colors_to_check:\n",
    "        tree[color] = {}\n",
    "        tree[color]['edges'] = parsed_rules[color]\n",
    "        tree[color]['depth'] = depth\n",
    "        tree[color]['total'] = 1\n",
    "        next_colors.extend([color for color in tree[color]['edges']])\n",
    "    colors_to_check = next_colors\n",
    "\n",
    "# Going up\n",
    "while depth >= 0:\n",
    "    depth -= 1\n",
    "    colors_to_check = [color for color in tree if tree[color]['depth'] == depth]\n",
    "    for color in colors_to_check:\n",
    "        tree[color]['total'] += sum([tree[color]['edges'][color_child] * tree[color_child]['total']\n",
    "                                    for color_child in tree[color]['edges'].keys()])\n",
    "\n",
    "print(tree['shiny gold']['total'])"
   ]
  },
  {
   "attachments": {},
   "cell_type": "markdown",
   "metadata": {},
   "source": [
    "## Day 8: Handheld Halting\n",
    "\n",
    "### Part 1"
   ]
  },
  {
   "cell_type": "code",
   "execution_count": 6,
   "metadata": {},
   "outputs": [
    {
     "name": "stdout",
     "output_type": "stream",
     "text": [
      "1337\n"
     ]
    }
   ],
   "source": [
    "from copy import deepcopy\n",
    "\n",
    "with open('input/8.txt') as f:\n",
    "    ins = f.read().splitlines()\n",
    "\n",
    "ptr = 0\n",
    "acc = 0\n",
    "flags = [0] * len(ins)\n",
    "\n",
    "def execute(line):\n",
    "    global ptr, acc\n",
    "    instr, val = line.split()\n",
    "    if instr == 'nop':\n",
    "        # print('Instr. NOP, PTR @ {}: No instruction executed'.format(ptr))\n",
    "        ptr += 1\n",
    "    elif instr == 'acc':\n",
    "        # print('Instr. ACC, PTR @ {}: Delta {}, ({})'.format(ptr, int(val), acc + int(val)))\n",
    "        acc += int(val)\n",
    "        ptr += 1\n",
    "    elif instr == 'jmp':\n",
    "        # print('Instr. JMP, PTR @ {}: Jumping at line {}'.format(ptr, ptr + int(val)))\n",
    "        ptr += int(val)\n",
    "\n",
    "while True:\n",
    "    if flags[ptr] == 1:\n",
    "        print(acc)\n",
    "        break\n",
    "    else:\n",
    "        flags[ptr] = 1\n",
    "        execute(ins[ptr])"
   ]
  },
  {
   "attachments": {},
   "cell_type": "markdown",
   "metadata": {},
   "source": [
    "### Part 2"
   ]
  },
  {
   "cell_type": "code",
   "execution_count": 7,
   "metadata": {},
   "outputs": [
    {
     "name": "stdout",
     "output_type": "stream",
     "text": [
      "1358\n"
     ]
    }
   ],
   "source": [
    "def ins_gen(ins):\n",
    "    for i in range(len(ins)):\n",
    "        if ins[i][:3] == 'nop':\n",
    "            new_ins = deepcopy(ins)\n",
    "            new_ins[i] = new_ins[i].replace('nop', 'jmp')\n",
    "            yield new_ins\n",
    "        elif ins[i][:3] == 'jmp':\n",
    "            new_ins = deepcopy(ins)\n",
    "            new_ins[i] = new_ins[i].replace('jmp', 'nop')\n",
    "            yield new_ins\n",
    "\n",
    "for mod_ins in ins_gen(ins):\n",
    "    \n",
    "    ptr = 0\n",
    "    acc = 0\n",
    "    flags = [0] * len(ins) \n",
    "\n",
    "    while True:\n",
    "        if ptr == len(ins):\n",
    "            print(acc)\n",
    "            break\n",
    "        elif flags[ptr] == 1:\n",
    "            break\n",
    "        else:\n",
    "            flags[ptr] = 1\n",
    "            execute(mod_ins[ptr])"
   ]
  },
  {
   "attachments": {},
   "cell_type": "markdown",
   "metadata": {},
   "source": [
    "## Day 9: Encoding Error\n",
    "\n",
    "### Part 1"
   ]
  },
  {
   "cell_type": "code",
   "execution_count": 4,
   "metadata": {},
   "outputs": [
    {
     "name": "stdout",
     "output_type": "stream",
     "text": [
      "400480901\n"
     ]
    }
   ],
   "source": [
    "with open('input/9.txt') as file:\n",
    "    nums = [int(n) for n in file.readlines()]\n",
    "\n",
    "prmb = nums[:25] \n",
    "sums = [prmb[i] + prmb[j] for i in range(25) for j in range(i + 1, len(prmb))]\n",
    "\n",
    "next_index = len(prmb) - 1\n",
    "def update_prmb():\n",
    "    global prmb, next_index\n",
    "    while True:\n",
    "        next_index += 1\n",
    "        prmb.pop(0)\n",
    "        prmb.append(nums[next_index])\n",
    "        yield \n",
    "\n",
    "def update_sums():\n",
    "    global sums, prmb\n",
    "    while True:\n",
    "        sums = sums[len(prmb) - 1:]\n",
    "        sums_with_new_n = [prmb[-1] + n for n in prmb[:-1]]\n",
    "\n",
    "        insert_index = 0\n",
    "        for i, n in enumerate(sums_with_new_n):\n",
    "            insert_index += len(prmb) - (i + 1) \n",
    "            sums.insert(insert_index - 1, n)\n",
    "        yield\n",
    "          \n",
    "\n",
    "for i, n in enumerate(nums[len(prmb):]):\n",
    "    if n not in sums:\n",
    "        print(n)\n",
    "        break\n",
    "    else:\n",
    "        next(update_prmb())\n",
    "        next(update_sums())"
   ]
  },
  {
   "attachments": {},
   "cell_type": "markdown",
   "metadata": {},
   "source": [
    "### Part 2"
   ]
  },
  {
   "cell_type": "code",
   "execution_count": 8,
   "metadata": {},
   "outputs": [
    {
     "name": "stdout",
     "output_type": "stream",
     "text": [
      "67587168\n"
     ]
    }
   ],
   "source": [
    "ans = 400480901\n",
    "\n",
    "buffer = [nums[0]]\n",
    "for n in nums[1:]:\n",
    "    buffer.append(n)\n",
    "    while sum(buffer) > ans:\n",
    "        buffer.pop(0)\n",
    "    if sum(buffer) == ans:\n",
    "        break\n",
    "\n",
    "print(max(buffer) + min(buffer))"
   ]
  },
  {
   "cell_type": "markdown",
   "metadata": {},
   "source": [
    "## Day 20: Jurassic Jigsaw\n",
    "\n",
    "### Part 1"
   ]
  },
  {
   "cell_type": "code",
   "execution_count": 39,
   "metadata": {},
   "outputs": [],
   "source": [
    "import numpy as np\n",
    "\n",
    "def are_tiles_adjacent(tile1, tile2):\n",
    "    left1, right1, top1, bottom1 = tile1[:,-1], tile1[:,0], tile1[0,:], tile1[-1,:]\n",
    "    left2, right2, top2, bottom2 = tile2[:,-1], tile2[:,0], tile2[0,:], tile2[-1,:]\n",
    "    return np.all(left1 == right2) or np.all(right1 == left2) \\\n",
    "        or np.all(bottom1 == top2) or np.all(top1 == bottom2)\n",
    "\n",
    "with open(\"input/20.txt\", \"r\") as file:\n",
    "    inpt = file.readlines()\n",
    "\n",
    "# Parse the input\n",
    "tiles = dict()\n",
    "for line in inpt:\n",
    "    if \"Tile\" in line:\n",
    "        _id  = int(line[5:-2])\n",
    "        tile = []\n",
    "    elif line == \"\\n\":\n",
    "        np_tile = np.array([[1 if c == \"#\" else 0 for c in row] for row in tile])\n",
    "        tiles[_id] = {\n",
    "            \"tile\": np_tile,\n",
    "            \"adjacents\": []\n",
    "        }\n",
    "    else:\n",
    "        tile.append(line.strip())\n",
    "\n",
    "num_tiles = len(tiles)\n",
    "tiles_val = list(tiles.values())\n",
    "\n",
    "for i in range(num_tiles):\n",
    "    for j in range(i+1,num_tiles):\n",
    "        pass"
   ]
  }
 ],
 "metadata": {
  "kernelspec": {
   "display_name": "Python 3.10.0 64-bit",
   "language": "python",
   "name": "python3"
  },
  "language_info": {
   "codemirror_mode": {
    "name": "ipython",
    "version": 3
   },
   "file_extension": ".py",
   "mimetype": "text/x-python",
   "name": "python",
   "nbconvert_exporter": "python",
   "pygments_lexer": "ipython3",
   "version": "3.10.0"
  },
  "orig_nbformat": 4,
  "vscode": {
   "interpreter": {
    "hash": "85c576d62e5a69baba7dcae6282c7bf6fba6f8d537c9cbb11ca984aece3c77a0"
   }
  }
 },
 "nbformat": 4,
 "nbformat_minor": 2
}
